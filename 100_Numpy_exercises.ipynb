{
 "cells": [
  {
   "cell_type": "markdown",
   "id": "6127b436",
   "metadata": {},
   "source": [
    "# 100 ejercicios de numpy\n",
    "\n",
    "Esta es una colección de ejercicios recogidos de distintas fuentes como: numpy mailing list, stackoverflow Y\n",
    "documentación de numpy. El objetivo de esta colección es ofrecer material para el aprendizaje de numpy.\n",
    "\n",
    "Este repositorio es una traducción del español del repositorio original en ingles \n",
    "[Respositorio de rougier](https://github.com/rougier/numpy-100)."
   ]
  },
  {
   "cell_type": "markdown",
   "id": "aaa47323",
   "metadata": {},
   "source": [
    "Archivos generados de manera automática. Vea la documentación para cambiar preguntas/respuestas/ayudas (questions/answers/hints)"
   ]
  },
  {
   "cell_type": "markdown",
   "id": "aca32778",
   "metadata": {},
   "source": [
    "Ejecute `initialize.py`, para que puedas consultar la respuesta `answer(n)` y una ayuda\n",
    "`hint(n)` siendo `n` el número de la pregunta."
   ]
  },
  {
   "cell_type": "code",
   "execution_count": 47,
   "id": "2e4eaf13",
   "metadata": {},
   "outputs": [
    {
     "data": {
      "text/plain": [
       "'!pip install mdutils'"
      ]
     },
     "execution_count": 47,
     "metadata": {},
     "output_type": "execute_result"
    }
   ],
   "source": [
    "\"!pip install mdutils\""
   ]
  },
  {
   "cell_type": "markdown",
   "id": "ec6e3c91",
   "metadata": {},
   "source": [
    "## Natalia Ochoa Morales\n",
    "## Juan Camilo Portocarrero Martínez"
   ]
  },
  {
   "cell_type": "code",
   "execution_count": null,
   "id": "db055d31",
   "metadata": {},
   "outputs": [],
   "source": []
  },
  {
   "cell_type": "markdown",
   "id": "4aa1ecb2",
   "metadata": {},
   "source": [
    "#### 1. Importa el paquete `numpy` como `np` (★☆☆)"
   ]
  },
  {
   "cell_type": "code",
   "execution_count": 48,
   "id": "7ef70aea",
   "metadata": {},
   "outputs": [],
   "source": [
    "import numpy as  np"
   ]
  },
  {
   "cell_type": "markdown",
   "id": "443f2c16",
   "metadata": {},
   "source": [
    "#### 2. Imprima por pantalla la versión y la configuración de numpy (★☆☆)"
   ]
  },
  {
   "cell_type": "code",
   "execution_count": 49,
   "id": "2ba3325b",
   "metadata": {},
   "outputs": [
    {
     "data": {
      "text/plain": [
       "'2.2.2'"
      ]
     },
     "execution_count": 49,
     "metadata": {},
     "output_type": "execute_result"
    }
   ],
   "source": [
    "np.__version__"
   ]
  },
  {
   "cell_type": "markdown",
   "id": "a3ae1145",
   "metadata": {},
   "source": [
    "#### 3. Cree un vector null de tamaño 10 (vector de zeros)(★☆☆)"
   ]
  },
  {
   "cell_type": "code",
   "execution_count": 50,
   "id": "6d22ad0e",
   "metadata": {},
   "outputs": [
    {
     "name": "stdout",
     "output_type": "stream",
     "text": [
      "[0. 0. 0. 0. 0. 0. 0. 0. 0. 0.]\n"
     ]
    }
   ],
   "source": [
    "\n",
    "vector_zeros=np.zeros(10)\n",
    "\n",
    "print(vector_zeros)"
   ]
  },
  {
   "cell_type": "markdown",
   "id": "876a1be7",
   "metadata": {},
   "source": [
    "#### 4. Como encuentra el tamaño en memoria de un array (★☆☆)"
   ]
  },
  {
   "cell_type": "code",
   "execution_count": 51,
   "id": "01205f44",
   "metadata": {},
   "outputs": [
    {
     "name": "stdout",
     "output_type": "stream",
     "text": [
      "80\n"
     ]
    }
   ],
   "source": [
    "print(vector_zeros.nbytes)"
   ]
  },
  {
   "cell_type": "markdown",
   "id": "7d7d2800",
   "metadata": {},
   "source": [
    "#### 5. ¿Cómo obtiene la documentación de numpy desde la terminal (comando de línea)? (★☆☆)"
   ]
  },
  {
   "cell_type": "code",
   "execution_count": 52,
   "id": "7d4c6649",
   "metadata": {},
   "outputs": [
    {
     "data": {
      "text/plain": [
       "'\\npython -m webbrowser -t \"https://numpy.org/doc/stable/\"\\n'"
      ]
     },
     "execution_count": 52,
     "metadata": {},
     "output_type": "execute_result"
    }
   ],
   "source": [
    "\"\"\"\n",
    "python -m webbrowser -t \"https://numpy.org/doc/stable/\"\n",
    "\"\"\"\n"
   ]
  },
  {
   "cell_type": "markdown",
   "id": "2e235023",
   "metadata": {},
   "source": [
    "#### 6. Crea un vector de ceros de tamaño 10 cuyo valor en la quinta posición sea 1 (★☆☆)"
   ]
  },
  {
   "cell_type": "code",
   "execution_count": 53,
   "id": "429c9f95",
   "metadata": {},
   "outputs": [
    {
     "name": "stdout",
     "output_type": "stream",
     "text": [
      "[0, 0, 0, 0, 0, 1, 0, 0, 0, 0]\n"
     ]
    }
   ],
   "source": [
    "vector_zeros=[0,0,0,0,0,1,0,0,0,0]  \n",
    "print(vector_zeros)"
   ]
  },
  {
   "cell_type": "markdown",
   "id": "89aab54a",
   "metadata": {},
   "source": [
    "#### 7. Crea un vector con sus valores contegan los números del 10 a 49 (★☆☆)"
   ]
  },
  {
   "cell_type": "code",
   "execution_count": 54,
   "id": "d19b1638",
   "metadata": {},
   "outputs": [
    {
     "data": {
      "text/plain": [
       "array([10, 11, 12, 13, 14, 15, 16, 17, 18, 19, 20, 21, 22, 23, 24, 25, 26,\n",
       "       27, 28, 29, 30, 31, 32, 33, 34, 35, 36, 37, 38, 39, 40, 41, 42, 43,\n",
       "       44, 45, 46, 47, 48, 49])"
      ]
     },
     "execution_count": 54,
     "metadata": {},
     "output_type": "execute_result"
    }
   ],
   "source": [
    "array1= np.arange(10,50)\n",
    "array1"
   ]
  },
  {
   "cell_type": "markdown",
   "id": "6c73fed3",
   "metadata": {},
   "source": [
    "#### 8. Obrenga un vector invertido (el primer elemento se convierte en el último) (★☆☆)"
   ]
  },
  {
   "cell_type": "code",
   "execution_count": 55,
   "id": "10441224",
   "metadata": {},
   "outputs": [
    {
     "name": "stdout",
     "output_type": "stream",
     "text": [
      "[5 4 3 2 1]\n"
     ]
    }
   ],
   "source": [
    "vector = np.array([1, 2, 3, 4, 5])\n",
    "\n",
    "vector_invertido = vector[::-1]\n",
    "print(vector_invertido)"
   ]
  },
  {
   "cell_type": "markdown",
   "id": "1eaf72f9",
   "metadata": {},
   "source": [
    "#### 9. Crea una matriz 3x3 cuyos valores contengan lo números del 0 al 8 (★☆☆)"
   ]
  },
  {
   "cell_type": "code",
   "execution_count": 56,
   "id": "b0675cae",
   "metadata": {},
   "outputs": [
    {
     "name": "stdout",
     "output_type": "stream",
     "text": [
      "[[0 1 2]\n",
      " [3 4 5]\n",
      " [6 7 8]]\n"
     ]
    }
   ],
   "source": [
    "matriz = np.arange(9).reshape(3, 3)\n",
    "print(matriz)"
   ]
  },
  {
   "cell_type": "markdown",
   "id": "5e6b9f6f",
   "metadata": {},
   "source": [
    "#### 10. Encuentre los elementos cuyos índice no son cero [1,2,0,0,4,0] (★☆☆)"
   ]
  },
  {
   "cell_type": "code",
   "execution_count": 57,
   "id": "2c527877",
   "metadata": {},
   "outputs": [
    {
     "data": {
      "text/plain": [
       "(2, 0, 0, 4, 0)"
      ]
     },
     "execution_count": 57,
     "metadata": {},
     "output_type": "execute_result"
    }
   ],
   "source": [
    "2,0,0,4,0"
   ]
  },
  {
   "cell_type": "markdown",
   "id": "492e5fa6",
   "metadata": {},
   "source": [
    "#### 11. Crea una matriz identidad de 3x3 (★☆☆)"
   ]
  },
  {
   "cell_type": "code",
   "execution_count": 58,
   "id": "b24fe0a5",
   "metadata": {},
   "outputs": [
    {
     "name": "stdout",
     "output_type": "stream",
     "text": [
      "[[1. 0. 0.]\n",
      " [0. 1. 0.]\n",
      " [0. 0. 1.]]\n"
     ]
    }
   ],
   "source": [
    "matriz_idetidad=np.eye(3)\n",
    "print(matriz_idetidad)"
   ]
  },
  {
   "cell_type": "markdown",
   "id": "dfc82bc2",
   "metadata": {},
   "source": [
    "#### 12. Crea un vector 3x3x3 con valores aleatorios (★☆☆)"
   ]
  },
  {
   "cell_type": "code",
   "execution_count": 59,
   "id": "c13f0b94",
   "metadata": {},
   "outputs": [
    {
     "name": "stdout",
     "output_type": "stream",
     "text": [
      "[[[0.63924078 0.61675413 0.05211934]\n",
      "  [0.06435965 0.91490507 0.2775299 ]\n",
      "  [0.64351393 0.7989337  0.62359741]]\n",
      "\n",
      " [[0.21939761 0.60984198 0.65108965]\n",
      "  [0.46691432 0.44592674 0.13097936]\n",
      "  [0.99408593 0.80342915 0.97567237]]\n",
      "\n",
      " [[0.68500608 0.01489528 0.54152782]\n",
      "  [0.3133767  0.52417238 0.91599264]\n",
      "  [0.94969459 0.33587079 0.83022689]]]\n"
     ]
    }
   ],
   "source": [
    "vector=np.random.random((3,3,3))\n",
    "print(vector)"
   ]
  },
  {
   "cell_type": "markdown",
   "id": "482b0b09",
   "metadata": {},
   "source": [
    "#### 13. Crea una matriz 10x10 con valores random y encuentra el valor máximo yel mínimo (★☆☆)"
   ]
  },
  {
   "cell_type": "code",
   "execution_count": 60,
   "id": "2714f0a0",
   "metadata": {},
   "outputs": [
    {
     "name": "stdout",
     "output_type": "stream",
     "text": [
      "[[0.39194884 0.30923633 0.97768797 0.30776462 0.5224413  0.31272317\n",
      "  0.51282986 0.565191   0.05648548 0.97342524]\n",
      " [0.56288253 0.28948974 0.96621503 0.36782939 0.47791269 0.33409624\n",
      "  0.67338141 0.33180225 0.57748663 0.88510658]\n",
      " [0.26027486 0.2564874  0.25611081 0.3445613  0.85688057 0.12453718\n",
      "  0.97138348 0.98340823 0.19221469 0.35020012]\n",
      " [0.10339447 0.30455653 0.88247174 0.04286362 0.51598248 0.60023909\n",
      "  0.68118262 0.19911324 0.60914655 0.00232272]\n",
      " [0.86738221 0.66837253 0.41351844 0.74142217 0.61275216 0.46120503\n",
      "  0.97125517 0.87615209 0.51020007 0.37138374]\n",
      " [0.2835061  0.66957121 0.67831608 0.94854717 0.18307076 0.85975665\n",
      "  0.13301448 0.49198    0.65044059 0.50168334]\n",
      " [0.98531114 0.72602339 0.30940189 0.12593961 0.42455249 0.05437319\n",
      "  0.36972646 0.75666597 0.88283964 0.85892242]\n",
      " [0.13573162 0.43222719 0.72635877 0.84124773 0.26145615 0.71509576\n",
      "  0.61790422 0.66656887 0.00412184 0.62509902]\n",
      " [0.4646129  0.53500358 0.91972785 0.53889767 0.02860148 0.76307598\n",
      "  0.13617692 0.4442136  0.04354306 0.69672908]\n",
      " [0.93438197 0.76971741 0.01358652 0.50186316 0.41132133 0.87369315\n",
      "  0.26825068 0.95641773 0.16854558 0.84160828]]\n",
      "valor maximo es: 0.985311143431712 y valor minimo es: 0.0023227196612070067\n"
     ]
    }
   ],
   "source": [
    "matrixran=np.random.rand(10,10)\n",
    "valormax=np.max(matrixran)\n",
    "valormin=np.min(matrixran)\n",
    "print(matrixran)\n",
    "print(\"valor maximo es:\", valormax, \"y\", \"valor minimo es:\", valormin)"
   ]
  },
  {
   "cell_type": "markdown",
   "id": "813b15ef",
   "metadata": {},
   "source": [
    "#### 14. Crea un vector de tamaño 30 con valores aleatorios y encuentre el valor promedio (★☆☆)"
   ]
  },
  {
   "cell_type": "code",
   "execution_count": 61,
   "id": "23464994",
   "metadata": {},
   "outputs": [
    {
     "name": "stdout",
     "output_type": "stream",
     "text": [
      "[0.02507461 0.8277755  0.61959042 0.34154717 0.19346422 0.78477769\n",
      " 0.01212932 0.39704239 0.69209223 0.91794992 0.93175281 0.2356455\n",
      " 0.62664163 0.08476314 0.82058479 0.10724975 0.23177779 0.59062076\n",
      " 0.08597153 0.27475114 0.79982685 0.34813778 0.02960237 0.81815113\n",
      " 0.38520355 0.88919285 0.68264132 0.17199897 0.29790553 0.4237705 ]\n",
      "0.4549211056102368\n"
     ]
    }
   ],
   "source": [
    "vector =np.random.random(30)\n",
    "print(vector)\n",
    "promedio=np.mean(vector)\n",
    "print(promedio)"
   ]
  },
  {
   "cell_type": "markdown",
   "id": "6aa6eb2d",
   "metadata": {},
   "source": [
    "#### 15. Crea un vector 2D con los valores de 1 en el borde (es decir en la primera y última filas y columnas) con valores de 0 en el interior (★☆☆)"
   ]
  },
  {
   "cell_type": "code",
   "execution_count": 62,
   "id": "b6a47140",
   "metadata": {},
   "outputs": [
    {
     "name": "stdout",
     "output_type": "stream",
     "text": [
      "[[1. 1. 1. 1. 1.]\n",
      " [1. 0. 0. 0. 1.]\n",
      " [1. 0. 0. 0. 1.]\n",
      " [1. 0. 0. 0. 1.]\n",
      " [1. 1. 1. 1. 1.]]\n"
     ]
    }
   ],
   "source": [
    "vector_2d=np.ones((5,5))\n",
    "vector_2d[1:-1, 1:-1] = 0\n",
    "print(vector_2d)"
   ]
  },
  {
   "cell_type": "markdown",
   "id": "02ad9a2f",
   "metadata": {},
   "source": [
    "#### 16. ¿Cómo añadir un borde (llenado con ceros) a una matriz existente? (★☆☆)"
   ]
  },
  {
   "cell_type": "code",
   "execution_count": 63,
   "id": "6489d091",
   "metadata": {},
   "outputs": [
    {
     "name": "stdout",
     "output_type": "stream",
     "text": [
      "[[0. 0. 0. 0. 0.]\n",
      " [0. 1. 1. 1. 0.]\n",
      " [0. 1. 1. 1. 0.]\n",
      " [0. 1. 1. 1. 0.]\n",
      " [0. 0. 0. 0. 0.]]\n"
     ]
    }
   ],
   "source": [
    "# Crear una matriz de ejemplo 3x3\n",
    "matriz = np.ones((3, 3))\n",
    "\n",
    "# Añadir un borde de ceros\n",
    "matriz_con_borde = np.pad(matriz, pad_width=1, mode='constant', constant_values=0)\n",
    "\n",
    "print(matriz_con_borde)"
   ]
  },
  {
   "cell_type": "markdown",
   "id": "2685b65f",
   "metadata": {},
   "source": [
    "#### 17. ¿Cuál es el resultado de la siguiente expresión? (★☆☆)\n",
    "```python\n",
    "0 * np.nan\n",
    "np.nan == np.nan\n",
    "np.inf > np.nan\n",
    "np.nan - np.nan\n",
    "np.nan in set([np.nan])\n",
    "0.3 == 3 * 0.1\n",
    "```"
   ]
  },
  {
   "cell_type": "code",
   "execution_count": 64,
   "id": "089530d2",
   "metadata": {},
   "outputs": [
    {
     "name": "stdout",
     "output_type": "stream",
     "text": [
      "nan\n",
      "False\n",
      "False\n",
      "nan\n",
      "True\n",
      "False\n"
     ]
    }
   ],
   "source": [
    "print(0* np.nan)\n",
    "print(np.nan== np.nan)\n",
    "print(np.inf >np.nan)\n",
    "print(np.nan - np.nan)\n",
    "print(np.nan in set([np.nan]))\n",
    "print(0.3== 3*0.1)"
   ]
  },
  {
   "cell_type": "markdown",
   "id": "8b94be83",
   "metadata": {},
   "source": [
    "#### 18. Crea una matriz 5x5 con valores 1,2,3,4 justo debajo de la diagonal (★☆☆)"
   ]
  },
  {
   "cell_type": "code",
   "execution_count": 65,
   "id": "70902dbf",
   "metadata": {},
   "outputs": [
    {
     "name": "stdout",
     "output_type": "stream",
     "text": [
      "[[0. 0. 0. 0. 0.]\n",
      " [1. 0. 0. 0. 0.]\n",
      " [0. 2. 0. 0. 0.]\n",
      " [0. 0. 3. 0. 0.]\n",
      " [0. 0. 0. 4. 0.]]\n"
     ]
    }
   ],
   "source": [
    "\n",
    "matriz = np.zeros((5, 5))\n",
    "for i in range(4):\n",
    "    matriz[i+1, i] = i+1 \n",
    "\n",
    "print(matriz)"
   ]
  },
  {
   "cell_type": "markdown",
   "id": "abd5b0d8",
   "metadata": {},
   "source": [
    "#### 19. Crea una matriz 8x8 y llénelo con un patrón similar al del tablero de ajedrez (★☆☆)"
   ]
  },
  {
   "cell_type": "code",
   "execution_count": 66,
   "id": "76dca122",
   "metadata": {},
   "outputs": [
    {
     "name": "stdout",
     "output_type": "stream",
     "text": [
      "[[0. 1. 0. 1. 0. 1. 0. 1.]\n",
      " [1. 0. 1. 0. 1. 0. 1. 0.]\n",
      " [0. 1. 0. 1. 0. 1. 0. 1.]\n",
      " [1. 0. 1. 0. 1. 0. 1. 0.]\n",
      " [0. 1. 0. 1. 0. 1. 0. 1.]\n",
      " [1. 0. 1. 0. 1. 0. 1. 0.]\n",
      " [0. 1. 0. 1. 0. 1. 0. 1.]\n",
      " [1. 0. 1. 0. 1. 0. 1. 0.]]\n"
     ]
    }
   ],
   "source": [
    "matajedrez=np.ones((8,8))\n",
    "matajedrez[::2, ::2] = 0\n",
    "matajedrez[1::2, 1::2]=0\n",
    "print(matajedrez)"
   ]
  },
  {
   "cell_type": "markdown",
   "id": "78e646da",
   "metadata": {},
   "source": [
    "#### 20. Considere un array de dimensiones (6,7,8), ¿Cuáles son los índices (x,y,z) del 100vo elemento? (★☆☆)"
   ]
  },
  {
   "cell_type": "code",
   "execution_count": 67,
   "id": "b42ad615",
   "metadata": {},
   "outputs": [
    {
     "name": "stdout",
     "output_type": "stream",
     "text": [
      "[[[0.46894226 0.35673606 0.5935497  0.48163896 0.45466885 0.07485013\n",
      "   0.71604359 0.80807741]\n",
      "  [0.47396576 0.99138606 0.26295131 0.35094145 0.68439342 0.10703062\n",
      "   0.62101763 0.14474935]\n",
      "  [0.72960887 0.93605558 0.34411932 0.52327705 0.30883487 0.18800208\n",
      "   0.97754698 0.93762105]\n",
      "  [0.1802064  0.67255633 0.8235913  0.86355765 0.38914782 0.70350486\n",
      "   0.97182724 0.10602226]\n",
      "  [0.51963339 0.52627954 0.75368931 0.01065822 0.58272729 0.84379627\n",
      "   0.61475792 0.49031804]\n",
      "  [0.34057206 0.14224024 0.31262887 0.79120738 0.65465959 0.73953616\n",
      "   0.89696637 0.43411689]\n",
      "  [0.31651812 0.36910062 0.88248295 0.41492634 0.34319552 0.19619265\n",
      "   0.63960485 0.08277369]]\n",
      "\n",
      " [[0.39233876 0.88560527 0.22607919 0.4699567  0.9393378  0.94542003\n",
      "   0.31672438 0.36157994]\n",
      "  [0.51574463 0.46414867 0.18384729 0.02260751 0.09315865 0.96559417\n",
      "   0.59180954 0.8121342 ]\n",
      "  [0.53987068 0.87304062 0.81047293 0.82792307 0.71152041 0.84420255\n",
      "   0.37471814 0.22324957]\n",
      "  [0.28638677 0.78895575 0.29617571 0.25669971 0.60412684 0.35091716\n",
      "   0.01018869 0.74538363]\n",
      "  [0.44087117 0.59521815 0.61510277 0.37330408 0.41948098 0.30290967\n",
      "   0.44116053 0.01177126]\n",
      "  [0.80662255 0.43514197 0.4427122  0.80803849 0.68691549 0.29015153\n",
      "   0.26134359 0.25268818]\n",
      "  [0.28205385 0.22409309 0.75526739 0.38983751 0.22760007 0.81011335\n",
      "   0.25402752 0.32144903]]\n",
      "\n",
      " [[0.39879741 0.95969096 0.26447461 0.78357232 0.9097411  0.92631952\n",
      "   0.19735361 0.2645689 ]\n",
      "  [0.17593489 0.77468103 0.64010031 0.34974631 0.85940665 0.29192851\n",
      "   0.2400171  0.88133192]\n",
      "  [0.59326124 0.58709219 0.421183   0.48951202 0.9605308  0.44878638\n",
      "   0.81788118 0.86544574]\n",
      "  [0.91775407 0.76230159 0.9980341  0.36701384 0.84762163 0.84013151\n",
      "   0.94564968 0.64630911]\n",
      "  [0.5931993  0.39744125 0.33373049 0.27590594 0.2674468  0.00843367\n",
      "   0.95011328 0.47781368]\n",
      "  [0.05799532 0.82611129 0.49836925 0.22050196 0.93903862 0.9803071\n",
      "   0.35916235 0.61728037]\n",
      "  [0.70242173 0.82981574 0.11801349 0.14485836 0.70289774 0.46412573\n",
      "   0.51399348 0.48823626]]\n",
      "\n",
      " [[0.10836128 0.90421279 0.42290088 0.54870506 0.38318158 0.94593675\n",
      "   0.47465135 0.54628284]\n",
      "  [0.82625266 0.24180295 0.56165196 0.54063589 0.63534986 0.93255932\n",
      "   0.10142756 0.28878373]\n",
      "  [0.41647679 0.79815651 0.66376796 0.43090351 0.73724363 0.68244065\n",
      "   0.45683932 0.13272929]\n",
      "  [0.17076336 0.75564471 0.17748304 0.1666628  0.73099136 0.50653333\n",
      "   0.91305878 0.40892712]\n",
      "  [0.73360136 0.0937618  0.68138132 0.26990618 0.52928105 0.19927577\n",
      "   0.70179791 0.87542276]\n",
      "  [0.90877734 0.77603408 0.55022199 0.90014758 0.66290089 0.51791084\n",
      "   0.17411445 0.16974164]\n",
      "  [0.94778977 0.71741378 0.24431392 0.81698104 0.46522012 0.52947014\n",
      "   0.83662572 0.13134293]]\n",
      "\n",
      " [[0.15734921 0.82246044 0.23252227 0.70256523 0.0294231  0.34402708\n",
      "   0.5470497  0.94989968]\n",
      "  [0.41110842 0.70393386 0.08965882 0.54622355 0.09361209 0.7492431\n",
      "   0.13168806 0.46035513]\n",
      "  [0.52890552 0.58319851 0.64183739 0.95495833 0.7089499  0.08891832\n",
      "   0.19826995 0.47442449]\n",
      "  [0.51950891 0.6783586  0.23151258 0.61498532 0.43979804 0.25701613\n",
      "   0.6923457  0.80192176]\n",
      "  [0.48991341 0.54452513 0.34931504 0.25358332 0.97921487 0.11981547\n",
      "   0.40506636 0.48030126]\n",
      "  [0.87717983 0.8320913  0.59782686 0.82397971 0.7185065  0.36060273\n",
      "   0.31599355 0.61587697]\n",
      "  [0.09570589 0.71937069 0.28632835 0.11312948 0.35930473 0.70554187\n",
      "   0.10877172 0.36459448]]\n",
      "\n",
      " [[0.32406089 0.2106304  0.59323503 0.45816324 0.92351766 0.99132264\n",
      "   0.9443387  0.93383294]\n",
      "  [0.77192926 0.37408476 0.46132719 0.52911159 0.29769079 0.34793616\n",
      "   0.857957   0.26007338]\n",
      "  [0.94407227 0.22353181 0.55004737 0.28745593 0.63954983 0.39401978\n",
      "   0.35152815 0.18151013]\n",
      "  [0.7531482  0.53606675 0.14431644 0.41824053 0.6835486  0.45061015\n",
      "   0.31934411 0.25985829]\n",
      "  [0.89223575 0.99077396 0.0064534  0.23988734 0.79483336 0.310199\n",
      "   0.61267266 0.52471451]\n",
      "  [0.27945624 0.66227828 0.99162012 0.35885423 0.22028764 0.3487392\n",
      "   0.43619264 0.19724603]\n",
      "  [0.44643496 0.52314989 0.16749882 0.99127852 0.62679629 0.62328508\n",
      "   0.542408   0.38980555]]]\n",
      "0.6869154916050952\n",
      "(np.int64(1), np.int64(5), np.int64(4))\n"
     ]
    }
   ],
   "source": [
    "\n",
    "array =np.random.random((6, 7, 8)) \n",
    "print(array)         \n",
    "valor100= array.ravel()[100]\n",
    "print (valor100)\n",
    "\n",
    "\n",
    "indices = np.unravel_index(100, (6,7,8))\n",
    "print(indices)\n"
   ]
  },
  {
   "cell_type": "markdown",
   "id": "60c210ac",
   "metadata": {},
   "source": [
    "#### 21. Cree algo similar a un tablero de ajedez usando la función `tile` (★☆☆)"
   ]
  },
  {
   "cell_type": "code",
   "execution_count": 68,
   "id": "3e4f2df1",
   "metadata": {},
   "outputs": [
    {
     "name": "stdout",
     "output_type": "stream",
     "text": [
      "[[1 0 1 0 1 0 1 0]\n",
      " [0 1 0 1 0 1 0 1]\n",
      " [1 0 1 0 1 0 1 0]\n",
      " [0 1 0 1 0 1 0 1]\n",
      " [1 0 1 0 1 0 1 0]\n",
      " [0 1 0 1 0 1 0 1]\n",
      " [1 0 1 0 1 0 1 0]\n",
      " [0 1 0 1 0 1 0 1]]\n"
     ]
    }
   ],
   "source": [
    "\n",
    "patron = np.array([[1, 0], [0, 1]])\n",
    "tabla= np.tile(patron, (4, 4))\n",
    "\n",
    "print(tabla)\n"
   ]
  },
  {
   "cell_type": "markdown",
   "id": "29b25584",
   "metadata": {},
   "source": [
    "#### 22. Normalice una matriz de 5x5 que contiene valores aleatorios (normalize los elementos usando la fórmula z-score) (★☆☆)"
   ]
  },
  {
   "cell_type": "code",
   "execution_count": 69,
   "id": "43dd859c",
   "metadata": {},
   "outputs": [
    {
     "name": "stdout",
     "output_type": "stream",
     "text": [
      "Matriz original:\n",
      " [[0.68781011 0.52410254 0.04866847 0.51382224 0.10382189]\n",
      " [0.43474905 0.38961004 0.85650522 0.9279848  0.4946503 ]\n",
      " [0.31812524 0.25078762 0.98408077 0.33434646 0.46495541]\n",
      " [0.33183475 0.22198547 0.17523789 0.40860416 0.17550243]\n",
      " [0.80174576 0.21099235 0.09070197 0.31330689 0.8802782 ]]\n",
      "\n",
      "Matriz normalizada (Z-score):\n",
      " [[ 0.92391044  0.31900683 -1.43773409  0.28102084 -1.23394081]\n",
      " [-0.01115658 -0.17794635  1.54724312  1.81136199  0.21018006]\n",
      " [-0.44208452 -0.69089869  2.018638   -0.38214667  0.10045668]\n",
      " [-0.3914275  -0.79732338 -0.97005688 -0.10776261 -0.96907938]\n",
      " [ 1.34490555 -0.83794325 -1.28241925 -0.45988844  1.63508489]]\n"
     ]
    }
   ],
   "source": [
    "\n",
    "matrix = np.random.random((5, 5))\n",
    "\n",
    "\n",
    "mean = np.mean(matrix)\n",
    "std_dev = np.std(matrix)\n",
    "\n",
    "normalized_matrix = (matrix - mean) / std_dev\n",
    "\n",
    "print(\"Matriz original:\\n\", matrix)\n",
    "print(\"\\nMatriz normalizada (Z-score):\\n\", normalized_matrix)"
   ]
  },
  {
   "cell_type": "markdown",
   "id": "17664529",
   "metadata": {},
   "source": [
    "#### 23. Cree un tipo de dato especial (dtype) llamada color que pueda describir el color como cuatro números del tipo unsigned bytes (RGBA) (★☆☆)\n",
    "Create a custom dtype that describes a color as four unsigned bytes (RGBA) (★☆☆)"
   ]
  },
  {
   "cell_type": "code",
   "execution_count": 70,
   "id": "dd9c5eaa",
   "metadata": {},
   "outputs": [
    {
     "name": "stdout",
     "output_type": "stream",
     "text": [
      "[(255,   0,   0, 255) (  0, 255,   0, 255) (  0,   0, 255, 255)]\n"
     ]
    }
   ],
   "source": [
    "\n",
    "color_dtype = np.dtype([('r', np.uint8), ('g', np.uint8), ('b', np.uint8), ('a', np.uint8)])\n",
    "colores = np.array([(255, 0, 0, 255), (0, 255, 0, 255), (0, 0, 255, 255)], dtype=color_dtype)\n",
    "\n",
    "print(colores)\n"
   ]
  },
  {
   "cell_type": "markdown",
   "id": "93bf90d1",
   "metadata": {},
   "source": [
    "#### 24. Multiplique una matriz 5x3 y otra 3x2 (producto cruz) (★☆☆)"
   ]
  },
  {
   "cell_type": "code",
   "execution_count": 71,
   "id": "51dca15d",
   "metadata": {},
   "outputs": [
    {
     "name": "stdout",
     "output_type": "stream",
     "text": [
      "[[1.08960561 0.89502156]\n",
      " [0.34835708 0.58708447]\n",
      " [0.48390747 0.97005803]\n",
      " [0.9546256  0.83178085]\n",
      " [0.32499055 0.41326765]]\n"
     ]
    }
   ],
   "source": [
    "matrix1= np.random.random((5, 3))\n",
    "matrix2= np.random.random((3, 2))\n",
    "\n",
    "result = matrix1.dot(matrix2)\n",
    "\n",
    "print(result)"
   ]
  },
  {
   "cell_type": "markdown",
   "id": "f661e300",
   "metadata": {},
   "source": [
    "#### 25. Dado un array 1D, multiplica por (-1) todos los elementos que esten en el rango 3 a 8 (★☆☆)\n",
    "Given a 1D array, negate all elements which are between 3 and 8, in place. (★☆☆)"
   ]
  },
  {
   "cell_type": "code",
   "execution_count": 72,
   "id": "30a2a4a3",
   "metadata": {},
   "outputs": [
    {
     "name": "stdout",
     "output_type": "stream",
     "text": [
      "[ 1  2 -3 -4 -5 -6 -7 -8  9 10]\n"
     ]
    }
   ],
   "source": [
    "\n",
    "arr = np.array([1, 2, 3, 4, 5, 6, 7, 8, 9, 10])\n",
    "\n",
    "arr[(arr >= 3) & (arr <= 8)] *= -1\n",
    "\n",
    "print(arr)\n"
   ]
  },
  {
   "cell_type": "markdown",
   "id": "02bd80b4",
   "metadata": {},
   "source": [
    "#### 26. ¿Cuál es resulatdo de la ejecución del siguiente script? (★☆☆)\n",
    "```python\n",
    "# Autor: Jake VanderPlas\n",
    "\n",
    "print(sum(range(5),-1))\n",
    "from numpy import *\n",
    "print(sum(range(5),-1))\n",
    "```"
   ]
  },
  {
   "cell_type": "code",
   "execution_count": 73,
   "id": "c83e4192",
   "metadata": {},
   "outputs": [
    {
     "name": "stdout",
     "output_type": "stream",
     "text": [
      "9\n"
     ]
    },
    {
     "name": "stdout",
     "output_type": "stream",
     "text": [
      "10\n"
     ]
    }
   ],
   "source": [
    "print(sum(range(5),-1))\n",
    "from numpy import *\n",
    "print(sum(range(5),-1))\n"
   ]
  },
  {
   "cell_type": "markdown",
   "id": "b3f11663",
   "metadata": {},
   "source": [
    "#### 27. Considere un vector de enteros Z, ¿Cuál de las siguientes expresiones son válidas?\n",
    "Consider an integer vector Z, which of these expressions are legal? (★☆☆)\n",
    "```python\n",
    "Z**Z\n",
    "2 << Z >> 2\n",
    "Z <- Z\n",
    "1j*Z\n",
    "Z/1/1\n",
    "Z<Z>Z\n",
    "```"
   ]
  },
  {
   "cell_type": "code",
   "execution_count": 74,
   "id": "718b8204",
   "metadata": {},
   "outputs": [
    {
     "data": {
      "text/plain": [
       "\"'\\nZ**Z ---- legal\\n2 << Z >> 2 ----legal \\nZ <- Z ---- no legal\\n1j*Z --- legal\\nZ/1/1 --- legal\\nZ<Z>Z --- no legal\\n\""
      ]
     },
     "execution_count": 74,
     "metadata": {},
     "output_type": "execute_result"
    }
   ],
   "source": [
    "''''\n",
    "Z**Z ---- legal\n",
    "2 << Z >> 2 ----legal \n",
    "Z <- Z ---- no legal\n",
    "1j*Z --- legal\n",
    "Z/1/1 --- legal\n",
    "Z<Z>Z --- no legal\n",
    "'''"
   ]
  },
  {
   "cell_type": "markdown",
   "id": "862f62f8",
   "metadata": {},
   "source": [
    "#### 28. ¿Cuál es el resultado de las siguientes operaciones? (★☆☆)\n",
    "```python\n",
    "np.array(0) / np.array(0)\n",
    "np.array(0) // np.array(0)\n",
    "np.array([np.nan]).astype(int).astype(float)\n",
    "```"
   ]
  },
  {
   "cell_type": "code",
   "execution_count": 75,
   "id": "630da14f",
   "metadata": {},
   "outputs": [
    {
     "name": "stderr",
     "output_type": "stream",
     "text": [
      "C:\\Users\\Usuario\\AppData\\Local\\Temp\\ipykernel_12096\\2032225821.py:1: RuntimeWarning: invalid value encountered in divide\n",
      "  np.array(0) / np.array(0)\n",
      "C:\\Users\\Usuario\\AppData\\Local\\Temp\\ipykernel_12096\\2032225821.py:2: RuntimeWarning: divide by zero encountered in floor_divide\n",
      "  np.array(0) // np.array(0)\n",
      "C:\\Users\\Usuario\\AppData\\Local\\Temp\\ipykernel_12096\\2032225821.py:3: RuntimeWarning: invalid value encountered in cast\n",
      "  np.array([np.nan]).astype(int).astype(float)\n"
     ]
    },
    {
     "data": {
      "text/plain": [
       "array([-9.22337204e+18])"
      ]
     },
     "execution_count": 75,
     "metadata": {},
     "output_type": "execute_result"
    }
   ],
   "source": [
    "\n",
    "np.array(0) / np.array(0)\n",
    "np.array(0) // np.array(0)\n",
    "np.array([np.nan]).astype(int).astype(float)\n"
   ]
  },
  {
   "cell_type": "markdown",
   "id": "51414d80",
   "metadata": {},
   "source": [
    "#### 29. ¿Cómo redondear alejado de cero en un vector con valores tipo float? (★☆☆)\n",
    "Es decir que si n = -0.12  redondear a -1 y si n = 1.2 redondear a 2\n",
    "How to round away from zero a float array ? (★☆☆)"
   ]
  },
  {
   "cell_type": "code",
   "execution_count": 76,
   "id": "982b70a3",
   "metadata": {},
   "outputs": [
    {
     "name": "stdout",
     "output_type": "stream",
     "text": [
      "[ 9.  7.  5.  6. 10.  8. 10.  7.  6. 10.]\n"
     ]
    }
   ],
   "source": [
    "\n",
    "\n",
    "arr = np.random.uniform(0, 10, size=10)\n",
    "\n",
    "redondiar = np.copysign(np.ceil(np.abs(arr)), arr)\n",
    "\n",
    "print(redondiar)\n"
   ]
  },
  {
   "cell_type": "markdown",
   "id": "823654ad",
   "metadata": {},
   "source": [
    "#### 30. ¿Cómo encontrar valores comunes entre dos vectores? (★☆☆)"
   ]
  },
  {
   "cell_type": "code",
   "execution_count": 77,
   "id": "6582ad1b",
   "metadata": {},
   "outputs": [
    {
     "name": "stdout",
     "output_type": "stream",
     "text": [
      "Valores comunes: [4 5]\n"
     ]
    }
   ],
   "source": [
    "\n",
    "vector1 = np.array([1, 2, 3, 4, 5])\n",
    "vector2 = np.array([4, 5, 6, 7, 8])\n",
    "\n",
    "comunes = np.intersect1d(vector1, vector2)\n",
    "\n",
    "print(\"Valores comunes:\", comunes)"
   ]
  },
  {
   "cell_type": "markdown",
   "id": "8339b8bb",
   "metadata": {},
   "source": [
    "#### 31. ¿Cómo ignorar todos los mensajes de warning de numpy (no recomendado)? (★☆☆)"
   ]
  },
  {
   "cell_type": "code",
   "execution_count": 78,
   "id": "bddeed4b",
   "metadata": {},
   "outputs": [],
   "source": [
    "import warnings\n",
    "warnings.filterwarnings('ignore')"
   ]
  },
  {
   "cell_type": "markdown",
   "id": "c482e7f4",
   "metadata": {},
   "source": [
    "#### 32. ¿Es la siguiente expresión verdadera (True)? (★☆☆)\n",
    "```python\n",
    "np.sqrt(-1) == np.emath.sqrt(-1)\n",
    "```"
   ]
  },
  {
   "cell_type": "code",
   "execution_count": 79,
   "id": "cd389cd3",
   "metadata": {},
   "outputs": [
    {
     "name": "stdout",
     "output_type": "stream",
     "text": [
      "False\n"
     ]
    }
   ],
   "source": [
    "answer= np.sqrt(-1) == np.emath.sqrt(-1)\n",
    "print(answer)"
   ]
  },
  {
   "cell_type": "markdown",
   "id": "5080a30f",
   "metadata": {},
   "source": [
    "#### 33. ¿Cómo obtener las fechas de ayer, hoy y mañana? (★☆☆)"
   ]
  },
  {
   "cell_type": "code",
   "execution_count": 80,
   "id": "b931b8af",
   "metadata": {},
   "outputs": [
    {
     "name": "stdout",
     "output_type": "stream",
     "text": [
      "Ayer: 2025-02-01\n",
      "Hoy: 2025-02-02\n",
      "Mañana: 2025-02-03\n"
     ]
    }
   ],
   "source": [
    "from datetime import datetime, timedelta\n",
    "\n",
    "hoy = datetime.today()\n",
    "\n",
    "ayer = hoy - timedelta(days=1)\n",
    "mañana = hoy + timedelta(days=1)\n",
    "\n",
    "print(\"Ayer:\", ayer.strftime('%Y-%m-%d'))\n",
    "print(\"Hoy:\", hoy.strftime('%Y-%m-%d'))\n",
    "print(\"Mañana:\", mañana.strftime('%Y-%m-%d'))\n"
   ]
  },
  {
   "cell_type": "markdown",
   "id": "967930f6",
   "metadata": {},
   "source": [
    "#### 34. ¿Cómo obtener todas la fechas correspondientes al mes de Julio del 2016? (★★☆)"
   ]
  },
  {
   "cell_type": "code",
   "execution_count": 81,
   "id": "90a9d723",
   "metadata": {},
   "outputs": [
    {
     "name": "stdout",
     "output_type": "stream",
     "text": [
      "['2016-07-01' '2016-07-02' '2016-07-03' '2016-07-04' '2016-07-05'\n",
      " '2016-07-06' '2016-07-07' '2016-07-08' '2016-07-09' '2016-07-10'\n",
      " '2016-07-11' '2016-07-12' '2016-07-13' '2016-07-14' '2016-07-15'\n",
      " '2016-07-16' '2016-07-17' '2016-07-18' '2016-07-19' '2016-07-20'\n",
      " '2016-07-21' '2016-07-22' '2016-07-23' '2016-07-24' '2016-07-25'\n",
      " '2016-07-26' '2016-07-27' '2016-07-28' '2016-07-29' '2016-07-30'\n",
      " '2016-07-31']\n"
     ]
    }
   ],
   "source": [
    "fechas = np.arange('2016-07', '2016-08', dtype='datetime64[D]')\n",
    "print(fechas)"
   ]
  },
  {
   "cell_type": "markdown",
   "id": "f333fc43",
   "metadata": {},
   "source": [
    "#### 35. ¿Cómo calcular ((A+B)*(-A/2)) (sin usar la función `copy`)?\n",
    "How to compute ((A+B)*(-A/2)) in place (without copy)? (★★☆)"
   ]
  },
  {
   "cell_type": "code",
   "execution_count": 82,
   "id": "e75cd9b5",
   "metadata": {},
   "outputs": [
    {
     "name": "stdout",
     "output_type": "stream",
     "text": [
      "-75.0\n"
     ]
    }
   ],
   "source": [
    "A = 10  \n",
    "B = 5   \n",
    "\n",
    "resultado = (A + B) * (-A / 2)\n",
    "\n",
    "print(resultado)\n"
   ]
  },
  {
   "cell_type": "markdown",
   "id": "0d3d1801",
   "metadata": {},
   "source": [
    "#### 36. Extraiga la parte entera de valores positivos de un vector que contenga valores aleatorios, usando 4 diferentes métodos (★★☆)\n",
    "Extract the integer part of a random array of positive numbers using 4 different methods (★★☆)"
   ]
  },
  {
   "cell_type": "code",
   "execution_count": 83,
   "id": "95c0dc42",
   "metadata": {},
   "outputs": [
    {
     "name": "stdout",
     "output_type": "stream",
     "text": [
      "1.0\n",
      "1.0\n",
      "1\n",
      "1.0\n"
     ]
    }
   ],
   "source": [
    "integerPart= np.floor(1.5)\n",
    "print(integerPart)\n",
    "\n",
    "integerpart2=np.fix(1.5) \n",
    "print(integerpart2)\n",
    "\n",
    "integerpart3=np.int_(1.5)\n",
    "print(integerpart3)\n",
    "\n",
    "integerPart4=np.trunc(1.5)\n",
    "print(integerPart4)\n",
    "\n"
   ]
  },
  {
   "cell_type": "markdown",
   "id": "68e50609",
   "metadata": {},
   "source": [
    "#### 37. Crea una matriz 5x5 con sus valores dentro del rango 0 - 4 (★★☆)\n",
    "Create a 5x5 matrix with row values ranging from 0 to 4 (★★☆)"
   ]
  },
  {
   "cell_type": "code",
   "execution_count": 84,
   "id": "305bfd4a",
   "metadata": {},
   "outputs": [
    {
     "name": "stdout",
     "output_type": "stream",
     "text": [
      "[[3 1 3 1 3]\n",
      " [4 4 0 2 2]\n",
      " [1 1 4 4 2]\n",
      " [0 3 3 1 3]\n",
      " [3 0 1 2 1]]\n"
     ]
    }
   ],
   "source": [
    "matrizrango=np.random.randint(0,5, size=(5,5))\n",
    "print(matrizrango)"
   ]
  },
  {
   "cell_type": "markdown",
   "id": "e910f5d2",
   "metadata": {},
   "source": [
    "#### 38. Cree una función que use \"yield\" para obtener 10 números enteros y use la función para construir un array(★☆☆)\n",
    "Consider a generator function that generates 10 integers and use it to build an array (★☆☆)"
   ]
  },
  {
   "cell_type": "code",
   "execution_count": 85,
   "id": "69661e10",
   "metadata": {},
   "outputs": [
    {
     "name": "stdout",
     "output_type": "stream",
     "text": [
      "[0 1 2 3 4 5 6 7 8 9]\n"
     ]
    }
   ],
   "source": [
    "def generar_enteros():\n",
    "    for i in range(10):\n",
    "        yield i  \n",
    "\n",
    "\n",
    "array = np.array([num for num in generar_enteros()])\n",
    "\n",
    "\n",
    "print(array)"
   ]
  },
  {
   "cell_type": "markdown",
   "id": "f75ce1c9",
   "metadata": {},
   "source": [
    "#### 39. Cree un vector de tamaño 10 con los valores en el rango 0 a 1 (0 y 1 excluidos). (★★☆)"
   ]
  },
  {
   "cell_type": "code",
   "execution_count": 86,
   "id": "61e89688",
   "metadata": {},
   "outputs": [
    {
     "name": "stdout",
     "output_type": "stream",
     "text": [
      "[0.00765838 0.02001506 0.19045688 0.70177665 0.50830676 0.9596925\n",
      " 0.21022229 0.79306711 0.03656215 0.37106392]\n"
     ]
    }
   ],
   "source": [
    "vectortime = np.random.uniform(0, 1, 10)\n",
    "print(vectortime)\n"
   ]
  },
  {
   "cell_type": "markdown",
   "id": "9ef16c80",
   "metadata": {},
   "source": [
    "#### 40. Cree un vector de tamaño 10 con valores aleatorios, luego ordénelos (★★☆)."
   ]
  },
  {
   "cell_type": "code",
   "execution_count": 87,
   "id": "5cd36622",
   "metadata": {},
   "outputs": [
    {
     "name": "stdout",
     "output_type": "stream",
     "text": [
      "[0.35716426 0.34416345 0.26619948 0.87394916 0.54301914 0.48189771\n",
      " 0.93479822 0.22183159 0.61876806 0.84824686]\n",
      "[0.22183159 0.26619948 0.34416345 0.35716426 0.48189771 0.54301914\n",
      " 0.61876806 0.84824686 0.87394916 0.93479822]\n"
     ]
    }
   ],
   "source": [
    "vector=np.random.uniform(0, 1, 10)\n",
    "\n",
    "print(vector)\n",
    "vectorsort=np.sort(vector)\n",
    "print(vectorsort)"
   ]
  },
  {
   "cell_type": "markdown",
   "id": "ca45295e",
   "metadata": {},
   "source": [
    "#### 41. ¿Cómo se sumaría un pequeño vector de manera que lo haga más rapidamente que usando la función np.sum? (★★☆)"
   ]
  },
  {
   "cell_type": "code",
   "execution_count": 88,
   "id": "68e1ff15",
   "metadata": {},
   "outputs": [
    {
     "name": "stdout",
     "output_type": "stream",
     "text": [
      "6.26246737191397\n"
     ]
    }
   ],
   "source": [
    "vector = np.random.uniform(0, 1, 10)\n",
    "suma = vector @ np.ones(len(vector))  \n",
    "\n",
    "print(suma)\n"
   ]
  },
  {
   "cell_type": "markdown",
   "id": "357b9c71",
   "metadata": {},
   "source": [
    "#### 42. Considere 2 vectores A y B ¿Cómo verifica que son iguales? (★★☆)\n",
    "Consider two random array A and B, check if they are equal"
   ]
  },
  {
   "cell_type": "code",
   "execution_count": 89,
   "id": "2ec5e444",
   "metadata": {},
   "outputs": [
    {
     "name": "stdout",
     "output_type": "stream",
     "text": [
      "True\n"
     ]
    }
   ],
   "source": [
    "vectorA=[1,2,3,4,5]\n",
    "vectorB=[1,2,3,4,5]\n",
    "equal=np.allclose(vectorA,vectorB)\n",
    "print(equal)"
   ]
  },
  {
   "cell_type": "markdown",
   "id": "1e170053",
   "metadata": {},
   "source": [
    "#### 43. Cree un vector inmutable (de sólo lectura) (★★☆)\n",
    "Make an array immutable (read-only)"
   ]
  },
  {
   "cell_type": "code",
   "execution_count": 90,
   "id": "225cee58",
   "metadata": {},
   "outputs": [
    {
     "name": "stdout",
     "output_type": "stream",
     "text": [
      "(1, 2, 3, 4, 5)\n"
     ]
    }
   ],
   "source": [
    "arr = (1, 2, 3, 4, 5) \n",
    "print(arr)\n"
   ]
  },
  {
   "cell_type": "markdown",
   "id": "32633db1",
   "metadata": {},
   "source": [
    "#### 44. Cree una maetriz 10x2 con elementos aleatorios,representando coordenadas cartesianas, conviertalas a coordenadas polares (★★☆)."
   ]
  },
  {
   "cell_type": "code",
   "execution_count": 91,
   "id": "b2f15343",
   "metadata": {},
   "outputs": [
    {
     "name": "stdout",
     "output_type": "stream",
     "text": [
      "[0.97398035 0.70207435 0.6355834  0.86199909 1.031336   0.51771662\n",
      " 0.28455076 1.06116171 1.17261719 1.12781042]\n",
      "[1.20895962 0.11529826 0.10230762 0.39587884 0.35267423 1.16858023\n",
      " 0.03039135 1.08973835 0.83735504 0.84828633]\n"
     ]
    }
   ],
   "source": [
    "matriz=np.random.random((10,2))\n",
    "x=matriz[:,0]\n",
    "y=matriz[:,1]\n",
    "\n",
    "r=np.sqrt(x**2+y**2)\n",
    "t=np.arctan2(y,x)\n",
    "\n",
    "print(r)\n",
    "print(t)    "
   ]
  },
  {
   "cell_type": "markdown",
   "id": "2c17e9ac",
   "metadata": {},
   "source": [
    "#### 45. Crea un vector con 10 elementos aleatorios y reemplace el valor máximo con 0 (★★☆)"
   ]
  },
  {
   "cell_type": "code",
   "execution_count": 92,
   "id": "832dd8b0",
   "metadata": {},
   "outputs": [
    {
     "name": "stdout",
     "output_type": "stream",
     "text": [
      "Vector original: [36 61 94 23 17 99 78 31  2 32]\n",
      "Vector modificado: [36 61 94 23 17  0 78 31  2 32]\n"
     ]
    }
   ],
   "source": [
    "vector = np.random.randint(1, 101, size=10)\n",
    "print(\"Vector original:\", vector)\n",
    "max_index = np.argmax(vector)\n",
    "vector[max_index] = 0\n",
    "print(\"Vector modificado:\", vector)\n"
   ]
  },
  {
   "cell_type": "markdown",
   "id": "30cedd8a",
   "metadata": {},
   "source": [
    "#### 46. Crea un vector structurado (structured array) con `x` e `y` como coordenadas, que generen un grilla (meshgrid) en el área [0, 1]x[0, 1] (★★☆)\n",
    "Create a structured array with `x` and `y` coordinates covering the [0,1]x[0,1] area"
   ]
  },
  {
   "cell_type": "code",
   "execution_count": 93,
   "id": "02944036",
   "metadata": {},
   "outputs": [
    {
     "name": "stdout",
     "output_type": "stream",
     "text": [
      "[(0.  , 0.  ) (0.25, 0.  ) (0.5 , 0.  ) (0.75, 0.  ) (1.  , 0.  )\n",
      " (0.  , 0.25) (0.25, 0.25) (0.5 , 0.25) (0.75, 0.25) (1.  , 0.25)\n",
      " (0.  , 0.5 ) (0.25, 0.5 ) (0.5 , 0.5 ) (0.75, 0.5 ) (1.  , 0.5 )\n",
      " (0.  , 0.75) (0.25, 0.75) (0.5 , 0.75) (0.75, 0.75) (1.  , 0.75)\n",
      " (0.  , 1.  ) (0.25, 1.  ) (0.5 , 1.  ) (0.75, 1.  ) (1.  , 1.  )]\n"
     ]
    }
   ],
   "source": [
    "\n",
    "resolucion = 5\n",
    "\n",
    "x = np.linspace(0, 1, resolucion)\n",
    "y = np.linspace(0, 1, resolucion)\n",
    "\n",
    "X, Y = np.meshgrid(x, y)\n",
    "\n",
    "dtype = [('x', float), ('y', float)]\n",
    "mesh_array = np.array(list(zip(X.ravel(), Y.ravel())), dtype=dtype)\n",
    "\n",
    "\n",
    "print(mesh_array)\n"
   ]
  },
  {
   "cell_type": "markdown",
   "id": "8d429017",
   "metadata": {},
   "source": [
    "#### 47. Dados dos vectores, X, e Y, construya la matriz de Cauchy C (Cij =1/(xi - yj)) (★★☆)"
   ]
  },
  {
   "cell_type": "code",
   "execution_count": 94,
   "id": "f7caed0a",
   "metadata": {},
   "outputs": [
    {
     "name": "stdout",
     "output_type": "stream",
     "text": [
      "[[-0.33333333 -0.25       -0.2       ]\n",
      " [-0.5        -0.33333333 -0.25      ]\n",
      " [-1.         -0.5        -0.33333333]]\n"
     ]
    }
   ],
   "source": [
    "def matriz_cauchy(X, Y):\n",
    "    X = np.array(X, dtype=float)\n",
    "    Y = np.array(Y, dtype=float)\n",
    "\n",
    "    if len(X) != len(Y):\n",
    "        raise ValueError(\"Los vectores X e Y deben tener la misma longitud\")\n",
    "\n",
    "    C = 1 / (X[:, np.newaxis] - Y) \n",
    "    return C\n",
    "\n",
    "\n",
    "X = [1, 2, 3]\n",
    "Y = [4, 5, 6]\n",
    "C = matriz_cauchy(X, Y)\n",
    "print(C)\n"
   ]
  },
  {
   "cell_type": "markdown",
   "id": "a6347b8c",
   "metadata": {},
   "source": [
    "#### 48. Imprima el máximo y mínimo valor representable para un tipo de datos de numpy escalar (★★☆)"
   ]
  },
  {
   "cell_type": "code",
   "execution_count": 95,
   "id": "af033ec5",
   "metadata": {},
   "outputs": [
    {
     "name": "stdout",
     "output_type": "stream",
     "text": [
      "Máximo valor de float64: 1.7976931348623157e+308\n",
      "Mínimo valor de float64: -1.7976931348623157e+308\n",
      "Máximo valor de int32: 2147483647\n",
      "Mínimo valor de int32: -2147483648\n"
     ]
    }
   ],
   "source": [
    "\n",
    "finfo = np.finfo(np.float64)\n",
    "print(f\"Máximo valor de float64: {finfo.max}\")\n",
    "print(f\"Mínimo valor de float64: {finfo.min}\")\n",
    "\n",
    "\n",
    "iinfo = np.iinfo(np.int32)\n",
    "print(f\"Máximo valor de int32: {iinfo.max}\")\n",
    "print(f\"Mínimo valor de int32: {iinfo.min}\")"
   ]
  },
  {
   "cell_type": "markdown",
   "id": "c1db9b74",
   "metadata": {},
   "source": [
    "#### 49. ¿Cómo imprimir todos los valores de un vector? (★★☆)\n",
    "(Recuerde que cuando el vector es muy grade numpy suele mostrarlos en secciones o sólo una parte)"
   ]
  },
  {
   "cell_type": "code",
   "execution_count": 96,
   "id": "e63c17ce",
   "metadata": {},
   "outputs": [
    {
     "name": "stdout",
     "output_type": "stream",
     "text": [
      "[1, 2, 3, 4, 5]\n"
     ]
    }
   ],
   "source": [
    "vector = [1, 2, 3, 4, 5]\n",
    "print(vector) \n"
   ]
  },
  {
   "cell_type": "markdown",
   "id": "6c08afc4",
   "metadata": {},
   "source": [
    "#### 50. ¿Cómo encontrar el valor más cercano a un valor(valor escalar) en un vector? (★★☆)"
   ]
  },
  {
   "cell_type": "code",
   "execution_count": 97,
   "id": "d2c9a3cc",
   "metadata": {},
   "outputs": [
    {
     "name": "stdout",
     "output_type": "stream",
     "text": [
      "[ 1  3  7 15  9  2]\n",
      "El valor más cercano a 19 en el vector es 15 \n"
     ]
    }
   ],
   "source": [
    "\n",
    "vector = np.array([1, 3, 7, 15, 9, 2])\n",
    "print(vector)\n",
    "\n",
    "\n",
    "valor = 19\n",
    "\n",
    "diferencias = np.abs(vector - valor)\n",
    "\n",
    "indice_cercano = np.argmin(diferencias)\n",
    "\n",
    "valor_cercano = vector[indice_cercano]\n",
    "\n",
    "print(f\"El valor más cercano a {valor} en el vector es {valor_cercano} \")\n"
   ]
  },
  {
   "cell_type": "markdown",
   "id": "f0560f6d",
   "metadata": {},
   "source": [
    "#### 51. Crea un vector estructurada (structured array) representado la posición (x, y) y el color (r, g, b) (★★☆)"
   ]
  },
  {
   "cell_type": "code",
   "execution_count": 98,
   "id": "8a63f92e",
   "metadata": {},
   "outputs": [
    {
     "name": "stdout",
     "output_type": "stream",
     "text": [
      "Primer elemento: ((10.5, 20.0), (255, 0, 0))\n",
      "Posición del segundo elemento: (5.2, 15.3)\n",
      "Color del tercer elemento: (0, 0, 255)\n"
     ]
    }
   ],
   "source": [
    "dtype = np.dtype([('pos', [('x', 'f4'), ('y', 'f4')]),  \n",
    "                  ('color', [('r', 'u1'), ('g', 'u1'), ('b', 'u1')])]) \n",
    "\n",
    "vector = np.array([((10.5, 20.0), (255, 0, 0)), \n",
    "                   ((5.2, 15.3), (0, 255, 0)),   \n",
    "                   ((8.7, 12.1), (0, 0, 255))],  \n",
    "                 dtype=dtype)\n",
    "\n",
    "print(\"Primer elemento:\", vector[0])\n",
    "print(\"Posición del segundo elemento:\", vector[1]['pos'])\n",
    "print(\"Color del tercer elemento:\", vector[2]['color'])\n"
   ]
  },
  {
   "cell_type": "markdown",
   "id": "d046a984",
   "metadata": {},
   "source": [
    "#### 52. Considere un vector de elementos aleatorios, de dimensiones 100x2, representado coordenadas (x, y), encuentre las distancias de entre todos los puntos en una matriz 100x100 (★★☆)"
   ]
  },
  {
   "cell_type": "code",
   "execution_count": 99,
   "id": "beba3641",
   "metadata": {},
   "outputs": [
    {
     "name": "stdout",
     "output_type": "stream",
     "text": [
      "[[0.         5.1907869  9.04010902 ... 5.81292024 1.14730783 8.72596615]\n",
      " [5.1907869  0.         6.19720394 ... 1.26754539 4.62382728 8.62930801]\n",
      " [9.04010902 6.19720394 0.         ... 4.94803225 7.92737378 4.61663923]\n",
      " ...\n",
      " [5.81292024 1.26754539 4.94803225 ... 0.         5.0377341  7.69904259]\n",
      " [1.14730783 4.62382728 7.92737378 ... 5.0377341  0.         7.63529548]\n",
      " [8.72596615 8.62930801 4.61663923 ... 7.69904259 7.63529548 0.        ]]\n"
     ]
    }
   ],
   "source": [
    "\n",
    "puntos = np.random.rand(100, 2) * 10\n",
    "\n",
    "distancias = np.zeros((100, 100))\n",
    "\n",
    "for i in range(100):\n",
    "    for j in range(100):\n",
    "        distancias[i, j] = np.linalg.norm(puntos[i] - puntos[j])\n",
    "\n",
    "\n",
    "print(distancias)\n"
   ]
  },
  {
   "cell_type": "markdown",
   "id": "6990348e",
   "metadata": {},
   "source": [
    "#### 53. ¿Cómo convertir un vector de float(32 bits) a un vector entero (32 bits) ?"
   ]
  },
  {
   "cell_type": "code",
   "execution_count": 100,
   "id": "3cf02c6f",
   "metadata": {},
   "outputs": [
    {
     "name": "stdout",
     "output_type": "stream",
     "text": [
      "[ 1  2 -3  4  5]\n"
     ]
    }
   ],
   "source": [
    "vectorfloat = np.array([1.7, 2.3, -3.8, 4.9, 5.2], dtype=np.float32)\n",
    "vectorint=vectorfloat.astype(np.int32)\n",
    "print(vectorint)"
   ]
  },
  {
   "cell_type": "markdown",
   "id": "62dfe688",
   "metadata": {},
   "source": [
    "#### 54. ¿Cómo podrías convertir el siguiente texto en una matriz de numpy? (★★☆)\n",
    "```\n",
    "1, 2, 3, 4, 5\n",
    "6,  ,  , 7, 8\n",
    " ,  , 9,10,11\n",
    "```"
   ]
  },
  {
   "cell_type": "code",
   "execution_count": 101,
   "id": "69d1eb6c",
   "metadata": {},
   "outputs": [
    {
     "name": "stdout",
     "output_type": "stream",
     "text": [
      "[[ 1.  2.  3.  4.  5.]\n",
      " [ 6. nan nan  7.  8.]\n",
      " [nan nan  9. 10. 11.]]\n"
     ]
    }
   ],
   "source": [
    "\n",
    "texto = \"\"\"\n",
    "1, 2, 3, 4, 5\n",
    "6,  ,  , 7, 8\n",
    " ,  , 9,10,11\n",
    "\"\"\"\n",
    "\n",
    "\n",
    "matriz = np.array([\n",
    "    [float(num) if num.strip() else np.nan for num in linea.split(\",\")]\n",
    "    for linea in texto.strip().split(\"\\n\")\n",
    "])\n",
    "\n",
    "\n",
    "print(matriz)"
   ]
  },
  {
   "cell_type": "markdown",
   "id": "969da086",
   "metadata": {},
   "source": [
    "#### 55. ¿Cuál es el equivalente de la función `enumerate` para vectores numpy? (★★☆)"
   ]
  },
  {
   "cell_type": "code",
   "execution_count": 102,
   "id": "56f4c70f",
   "metadata": {},
   "outputs": [
    {
     "name": "stdout",
     "output_type": "stream",
     "text": [
      "Índice: 0, Valor: 10\n",
      "Índice: 1, Valor: 20\n",
      "Índice: 2, Valor: 30\n",
      "Índice: 3, Valor: 40\n"
     ]
    }
   ],
   "source": [
    "vector = np.array([10, 20, 30, 40])\n",
    "\n",
    "for idx, value in np.ndenumerate(vector):\n",
    "    print(f\"Índice: {idx[0]}, Valor: {value}\")\n"
   ]
  },
  {
   "cell_type": "markdown",
   "id": "2652a58e",
   "metadata": {},
   "source": [
    "#### 56. Genera una matriz 2d tipo campana de Gauss (sigma = 1, mu = 0) (2D Gaussian-like array) (★★☆)"
   ]
  },
  {
   "cell_type": "code",
   "execution_count": 103,
   "id": "9aba75b9",
   "metadata": {},
   "outputs": [
    {
     "name": "stdout",
     "output_type": "stream",
     "text": [
      "[[1.23409804e-04 7.30177997e-04 2.77005282e-03 6.73794700e-03\n",
      "  1.05086605e-02 1.05086605e-02 6.73794700e-03 2.77005282e-03\n",
      "  7.30177997e-04 1.23409804e-04]\n",
      " [7.30177997e-04 4.32023947e-03 1.63895538e-02 3.98663678e-02\n",
      "  6.21765240e-02 6.21765240e-02 3.98663678e-02 1.63895538e-02\n",
      "  4.32023947e-03 7.30177997e-04]\n",
      " [2.77005282e-03 1.63895538e-02 6.21765240e-02 1.51239760e-01\n",
      "  2.35877083e-01 2.35877083e-01 1.51239760e-01 6.21765240e-02\n",
      "  1.63895538e-02 2.77005282e-03]\n",
      " [6.73794700e-03 3.98663678e-02 1.51239760e-01 3.67879441e-01\n",
      "  5.73753421e-01 5.73753421e-01 3.67879441e-01 1.51239760e-01\n",
      "  3.98663678e-02 6.73794700e-03]\n",
      " [1.05086605e-02 6.21765240e-02 2.35877083e-01 5.73753421e-01\n",
      "  8.94839317e-01 8.94839317e-01 5.73753421e-01 2.35877083e-01\n",
      "  6.21765240e-02 1.05086605e-02]\n",
      " [1.05086605e-02 6.21765240e-02 2.35877083e-01 5.73753421e-01\n",
      "  8.94839317e-01 8.94839317e-01 5.73753421e-01 2.35877083e-01\n",
      "  6.21765240e-02 1.05086605e-02]\n",
      " [6.73794700e-03 3.98663678e-02 1.51239760e-01 3.67879441e-01\n",
      "  5.73753421e-01 5.73753421e-01 3.67879441e-01 1.51239760e-01\n",
      "  3.98663678e-02 6.73794700e-03]\n",
      " [2.77005282e-03 1.63895538e-02 6.21765240e-02 1.51239760e-01\n",
      "  2.35877083e-01 2.35877083e-01 1.51239760e-01 6.21765240e-02\n",
      "  1.63895538e-02 2.77005282e-03]\n",
      " [7.30177997e-04 4.32023947e-03 1.63895538e-02 3.98663678e-02\n",
      "  6.21765240e-02 6.21765240e-02 3.98663678e-02 1.63895538e-02\n",
      "  4.32023947e-03 7.30177997e-04]\n",
      " [1.23409804e-04 7.30177997e-04 2.77005282e-03 6.73794700e-03\n",
      "  1.05086605e-02 1.05086605e-02 6.73794700e-03 2.77005282e-03\n",
      "  7.30177997e-04 1.23409804e-04]]\n"
     ]
    }
   ],
   "source": [
    "\n",
    "size = 10  \n",
    "sd = 1   \n",
    "    \n",
    "\n",
    "x = np.linspace(-3, 3, size)\n",
    "y = np.linspace(-3, 3, size)\n",
    "X, Y = np.meshgrid(x, y)\n",
    "\n",
    "\n",
    "G = np.exp(-(X**2 + Y**2) / (2 * sd**2))\n",
    "\n",
    "print(G)"
   ]
  },
  {
   "cell_type": "markdown",
   "id": "2d6d32df",
   "metadata": {},
   "source": [
    "#### 57. ¿Cómo poner aleatoriamente p elementos en un array 2d? (★★☆)"
   ]
  },
  {
   "cell_type": "code",
   "execution_count": 104,
   "id": "e625949d",
   "metadata": {},
   "outputs": [
    {
     "name": "stdout",
     "output_type": "stream",
     "text": [
      "[[0 0 0 0 0]\n",
      " [0 0 0 0 0]\n",
      " [0 0 0 0 0]\n",
      " [1 1 1 1 0]\n",
      " [0 0 1 0 0]]\n"
     ]
    }
   ],
   "source": [
    "filas, columnas = 5, 5\n",
    "p = 5  \n",
    "array = np.zeros((filas, columnas), dtype=int)\n",
    "indices = np.random.choice(filas * columnas, p, replace=False)\n",
    "fila_idx, col_idx = np.unravel_index(indices, (filas, columnas))\n",
    "\n",
    "array[fila_idx, col_idx] = 1\n",
    "\n",
    "print(array)\n"
   ]
  },
  {
   "cell_type": "markdown",
   "id": "768d69fd",
   "metadata": {},
   "source": [
    "#### 58. Dada una matriz, resta a cada elemento de una fila el promedio de la fila (★★☆)\n",
    "Subtract the mean of each row of a matrix (★★☆)"
   ]
  },
  {
   "cell_type": "code",
   "execution_count": 105,
   "id": "2c2cd71b",
   "metadata": {},
   "outputs": [
    {
     "name": "stdout",
     "output_type": "stream",
     "text": [
      "Matriz original:\n",
      " [[4 5 8 6 3]\n",
      " [9 5 7 5 5]\n",
      " [4 2 3 1 8]\n",
      " [5 2 9 4 4]\n",
      " [4 1 2 2 3]]\n",
      "\n",
      "Matriz con el promedio restado por fila:\n",
      " [[-1.2 -0.2  2.8  0.8 -2.2]\n",
      " [ 2.8 -1.2  0.8 -1.2 -1.2]\n",
      " [ 0.4 -1.6 -0.6 -2.6  4.4]\n",
      " [ 0.2 -2.8  4.2 -0.8 -0.8]\n",
      " [ 1.6 -1.4 -0.4 -0.4  0.6]]\n"
     ]
    }
   ],
   "source": [
    "\n",
    "A = np.random.randint(1, 10, (5, 5))\n",
    "print(\"Matriz original:\\n\", A)\n",
    "\n",
    "row_means = A.mean(axis=1, keepdims=True)\n",
    "\n",
    "A_centered = A - row_means\n",
    "\n",
    "print(\"\\nMatriz con el promedio restado por fila:\\n\", A_centered)\n"
   ]
  },
  {
   "cell_type": "markdown",
   "id": "4bd66493",
   "metadata": {},
   "source": [
    "#### 59. ¿Cómo ordenar una matriz teniendo como referencia la n ava columna? (★★☆)\n",
    "How to sort an array by the nth column? (★★☆)"
   ]
  },
  {
   "cell_type": "code",
   "execution_count": 106,
   "id": "020b8efc",
   "metadata": {},
   "outputs": [
    {
     "name": "stdout",
     "output_type": "stream",
     "text": [
      "[[7 1 3]\n",
      " [3 2 5]\n",
      " [1 4 2]]\n"
     ]
    }
   ],
   "source": [
    "matriz = np.array([\n",
    "    [3, 2, 5],\n",
    "    [1, 4, 2],\n",
    "    [7, 1, 3]\n",
    "])\n",
    "n = 1  \n",
    "matriz_ordenada = matriz[matriz[:, n].argsort()]\n",
    "\n",
    "print(matriz_ordenada)\n"
   ]
  },
  {
   "cell_type": "markdown",
   "id": "2deeda53",
   "metadata": {},
   "source": [
    "#### 60. ¿Cómo averiguar si una matriz tiene columnas nulas? (★★☆)"
   ]
  },
  {
   "cell_type": "code",
   "execution_count": 107,
   "id": "68d971e2",
   "metadata": {},
   "outputs": [
    {
     "name": "stdout",
     "output_type": "stream",
     "text": [
      "Matriz original:\n",
      " [[0 2 3 0]\n",
      " [0 5 6 0]\n",
      " [0 8 9 0]]\n",
      "\n",
      "Columnas nulas (True = columna nula):\n",
      " [ True False False  True]\n",
      "\n",
      "Índices de las columnas nulas: [0 3]\n"
     ]
    }
   ],
   "source": [
    "\n",
    "A = np.array([\n",
    "    [0, 2, 3, 0],\n",
    "    [0, 5, 6, 0],\n",
    "    [0, 8, 9, 0]\n",
    "])\n",
    "\n",
    "is_null_column = np.all(A == 0, axis=0)\n",
    "\n",
    "print(\"Matriz original:\\n\", A)\n",
    "print(\"\\nColumnas nulas (True = columna nula):\\n\", is_null_column)\n",
    "\n",
    "\n",
    "null_column_indices = np.where(is_null_column)[0]\n",
    "print(\"\\nÍndices de las columnas nulas:\", null_column_indices)\n"
   ]
  },
  {
   "cell_type": "markdown",
   "id": "768838bd",
   "metadata": {},
   "source": [
    "#### 61. Encuentre el valor más cercano a un valor dado en un vector (★★☆)"
   ]
  },
  {
   "cell_type": "code",
   "execution_count": 108,
   "id": "b78f5779",
   "metadata": {},
   "outputs": [
    {
     "name": "stdout",
     "output_type": "stream",
     "text": [
      "El valor más cercano a 38 es 35\n"
     ]
    }
   ],
   "source": [
    "vector = np.array([10, 20, 35, 50, 65, 80])\n",
    "valor_dado = 38\n",
    "indice_cercano = np.abs(vector - valor_dado).argmin()\n",
    "valor_mas_cercano = vector[indice_cercano]\n",
    "\n",
    "print(f\"El valor más cercano a {valor_dado} es {valor_mas_cercano}\")\n"
   ]
  },
  {
   "cell_type": "markdown",
   "id": "8c9c7575",
   "metadata": {},
   "source": [
    "#### 62. Considere 2 arrays con dimensiones (1, 3) y (3, 1), ¿Cómo calcular su suma usando un iterador? (★★☆)\n",
    "Considering two arrays with shape (1,3) and (3,1), how to compute their sum using an iterator? (★★☆)"
   ]
  },
  {
   "cell_type": "code",
   "execution_count": 109,
   "id": "c6591790",
   "metadata": {},
   "outputs": [
    {
     "name": "stdout",
     "output_type": "stream",
     "text": [
      "[[1.68396411 1.63945886 1.53433497]\n",
      " [1.58124843 1.53674319 1.43161929]\n",
      " [1.49892141 1.45441617 1.34929227]]\n",
      "1.683964105785472\n",
      "1.6394588645826071\n",
      "1.534334965033975\n",
      "1.5812484336795207\n",
      "1.5367431924766557\n",
      "1.4316192929280236\n",
      "1.4989214102820938\n",
      "1.454416169079229\n",
      "1.3492922695305969\n"
     ]
    }
   ],
   "source": [
    "array1=np.random.random((1,3))\n",
    "array2=np.random.random((3,1))\n",
    "\n",
    "#calcular la suma de los arrays con el iterador\n",
    "\n",
    "c=array1+array2\n",
    "\n",
    "print(c)\n",
    "\n",
    "it=np.nditer(c)\n",
    "for x in it:    \n",
    "    print(x)\n"
   ]
  },
  {
   "cell_type": "markdown",
   "id": "f265a826",
   "metadata": {},
   "source": [
    "#### 63. Crea un clase vector (vector class) que tenga name como atributo (★★☆)\n",
    "Create an array class that has a name attribute (★★☆)"
   ]
  },
  {
   "cell_type": "code",
   "execution_count": 110,
   "id": "6cc8dd63",
   "metadata": {},
   "outputs": [],
   "source": [
    "class Vector:\n",
    "    def __init__(self, name, values):\n",
    "        self.name = name\n",
    "        self.values = list(values) \n",
    "    def __repr__(self):\n",
    "        return f\"Vector('{self.name}', {self.values})\"\n",
    "\n",
    "    def magnitude(self):\n",
    "        return sum(x**2 for x in self.values) ** 0.5\n",
    "\n",
    "    def normalize(self):\n",
    "        mag = self.magnitude()\n",
    "        if mag == 0:\n",
    "            return Vector(self.name + \"_norm\", [0] * len(self.values))\n",
    "        return Vector(self.name + \"_norm\", [x / mag for x in self.values])\n",
    "    \n",
    "    def dot(self, other):\n",
    "        \"\"\" Calcula el producto punto con otro vector. \"\"\"\n",
    "        if len(self.values) != len(other.values):\n",
    "            raise ValueError(\"Los vectores deben tener la misma dimensión.\")\n",
    "        return sum(x * y for x, y in zip(self.values, other.values))\n"
   ]
  },
  {
   "cell_type": "markdown",
   "id": "2afd8343",
   "metadata": {},
   "source": [
    "#### 64. Dado un vector Z, ¿Cómo añadir 1 a cada elemento en las posiciones dadas por otro vector I? (tenga cuidado con los índices repetidos) (★★★)\n",
    "Consider a given vector, how to add 1 to each element indexed by a second vector (be careful with repeated indices)? (★★★)"
   ]
  },
  {
   "cell_type": "code",
   "execution_count": 111,
   "id": "e5504e4b",
   "metadata": {},
   "outputs": [
    {
     "name": "stdout",
     "output_type": "stream",
     "text": [
      "[0 1 0 2 0 3 0 1 0 0]\n"
     ]
    }
   ],
   "source": [
    "\n",
    "Z = np.zeros(10, dtype=int)\n",
    "\n",
    "# Vector de índices donde se sumará 1 (con repeticiones)\n",
    "I = np.array([1, 3, 3, 5, 5, 5, 7])\n",
    "\n",
    "# Sumar 1 en las posiciones indicadas por I\n",
    "np.add.at(Z, I, 1)\n",
    "\n",
    "# Mostrar resultado\n",
    "print(Z)\n"
   ]
  },
  {
   "cell_type": "markdown",
   "id": "55be5887",
   "metadata": {},
   "source": [
    "#### 65. ¿Cómo acumular (sumar) los elementos de un vector X en un vector F de acuerdo a un vector de posiciones I? (★★★)\n",
    "```python\n",
    "X = [1,2,3,4,5,6]\n",
    "I = [1,3,9,3,4,1]\n",
    "# Resultado F = [0, 7, 0, 6, 5, 0, 0, 0, 0, 3]\n",
    "```"
   ]
  },
  {
   "cell_type": "code",
   "execution_count": 112,
   "id": "adf943ce",
   "metadata": {},
   "outputs": [
    {
     "name": "stdout",
     "output_type": "stream",
     "text": [
      "[0 7 0 6 5 0 0 0 0 3]\n"
     ]
    }
   ],
   "source": [
    "X = np.array([1, 2, 3, 4, 5, 6])\n",
    "I = np.array([1, 3, 9, 3, 4, 1])\n",
    "F = np.zeros(I.max() + 1, dtype=int)\n",
    "np.add.at(F, I, X)\n",
    "print(F) \n"
   ]
  },
  {
   "cell_type": "markdown",
   "id": "294e4ac8",
   "metadata": {},
   "source": [
    "#### 66. Considere un numpy array de dimensiones (w, h, 3) que representa una imagen, calcule el número de colores únicos (★★☆)\n",
    "Considering a (w,h,3) image of (dtype=ubyte), compute the number of unique colors (★★☆)"
   ]
  },
  {
   "cell_type": "code",
   "execution_count": 9,
   "id": "f0b798da",
   "metadata": {},
   "outputs": [
    {
     "name": "stdout",
     "output_type": "stream",
     "text": [
      "Número de colores únicos: 9999\n"
     ]
    }
   ],
   "source": [
    "\n",
    "w, h = 100, 100 \n",
    "image = np.random.randint(0, 256, size=(w, h, 3), dtype=np.uint8)\n",
    "\n",
    "pixels = image.reshape(-1, 3)\n",
    "\n",
    "\n",
    "unique_colors = np.unique(pixels, axis=0)\n",
    "\n",
    "\n",
    "num_unique_colors = unique_colors.shape[0]\n",
    "\n",
    "print(f\"Número de colores únicos: {num_unique_colors}\")\n"
   ]
  },
  {
   "cell_type": "markdown",
   "id": "14b2e3cd",
   "metadata": {},
   "source": [
    "#### 67. Considere un array de 4 dimensiones, ¿Cómo obtener la suma de las dos últimas dimensiones ó ejes? (★★★)\n",
    "Considering a four dimensions array, how to get sum over the last two axis at once? (★★★)"
   ]
  },
  {
   "cell_type": "code",
   "execution_count": 113,
   "id": "9bb70854",
   "metadata": {},
   "outputs": [
    {
     "name": "stdout",
     "output_type": "stream",
     "text": [
      "Forma original del array: (2, 3, 4, 5)\n",
      "Resultado después de sumar: (2, 3)\n",
      "[[107  89  97]\n",
      " [ 89  81 110]]\n"
     ]
    }
   ],
   "source": [
    "A = np.random.randint(1, 10, (2, 3, 4, 5))\n",
    "resultado = np.sum(A, axis=(-2, -1))\n",
    "\n",
    "print(\"Forma original del array:\", A.shape) \n",
    "print(\"Resultado después de sumar:\", resultado.shape)  \n",
    "print(resultado)\n"
   ]
  },
  {
   "cell_type": "markdown",
   "id": "d7e6d420",
   "metadata": {},
   "source": [
    "#### 68. Considere un vector unidimensional D, ¿cómo calcular los promedios de los subsets de D, si se tienen un vector S del mismo tamaño describiendo los índices de las posiciones de las cuáles deben obtenerse los promedios?(★★★)\n",
    "```python\n",
    "# Sea por ejemplo D\n",
    "D = [0.3, 0.5, 0.2, 0.7, 1., -0.6]\n",
    "# y S\n",
    "S = [0, 1, 1, 2, 2, 2]\n",
    "# El vector de los promedios será\n",
    "R = [0.3, 0.35, 0.36667]\n",
    "```"
   ]
  },
  {
   "cell_type": "code",
   "execution_count": 114,
   "id": "fc3f387d",
   "metadata": {},
   "outputs": [
    {
     "name": "stdout",
     "output_type": "stream",
     "text": [
      "[0.3        0.35       0.36666667]\n"
     ]
    }
   ],
   "source": [
    "\n",
    "# Sea por ejemplo D\n",
    "D = [0.3, 0.5, 0.2, 0.7, 1., -0.6]\n",
    "# y S\n",
    "S = [0, 1, 1, 2, 2, 2]\n",
    "\n",
    "sum_values = np.bincount(S, weights=D)\n",
    "\n",
    "count_values = np.bincount(S)\n",
    "\n",
    "\n",
    "R = sum_values / count_values\n",
    "\n",
    "# Mostrar resultado\n",
    "print(R)\n"
   ]
  },
  {
   "cell_type": "markdown",
   "id": "02e331a8",
   "metadata": {},
   "source": [
    "#### 69. ¿Cómo obtener la diagonal de una matriz que es resultado de la operación entre dos matrices `np.dot(A, B)`? Use las matrices A y B para su respuesta.(★★★)"
   ]
  },
  {
   "cell_type": "code",
   "execution_count": 115,
   "id": "1ba179c0",
   "metadata": {},
   "outputs": [
    {
     "name": "stdout",
     "output_type": "stream",
     "text": [
      "Diagonal con np.dot y np.diag: [30 69 90]\n",
      "Diagonal con np.einsum: [30 69 90]\n",
      "Diagonal con sum y multiplicación: [30 69 90]\n"
     ]
    }
   ],
   "source": [
    "A = np.array([[1, 2, 3],\n",
    "              [4, 5, 6],\n",
    "              [7, 8, 9]])\n",
    "\n",
    "B = np.array([[9, 8, 7],\n",
    "              [6, 5, 4],\n",
    "              [3, 2, 1]])\n",
    "diag1 = np.diag(np.dot(A, B))\n",
    "diag2 = np.einsum('ij,ji->i', A, B)\n",
    "diag3 = np.sum(A * B.T, axis=1)\n",
    "\n",
    "print(\"Diagonal con np.dot y np.diag:\", diag1)\n",
    "print(\"Diagonal con np.einsum:\", diag2)\n",
    "print(\"Diagonal con sum y multiplicación:\", diag3)\n"
   ]
  },
  {
   "cell_type": "markdown",
   "id": "d11a8df1",
   "metadata": {},
   "source": [
    "#### 70. Sea el vector [1, 2, 3, 4, 5], ¿Cómo construir un nuevo vector con 3 consecutivos zeros intercalados entre cada valor?  (★★★)\n",
    "Consider the vector [1, 2, 3, 4, 5], how to build a new vector with 3 consecutive zeros interleaved between each value? (★★★)"
   ]
  },
  {
   "cell_type": "code",
   "execution_count": 116,
   "id": "f0149adc",
   "metadata": {},
   "outputs": [
    {
     "name": "stdout",
     "output_type": "stream",
     "text": [
      "[1 2 3 4 5]\n",
      "[1 0 0 0 2 0 0 0 3 0 0 0 4 0 0 0 5]\n"
     ]
    }
   ],
   "source": [
    "vector=np.array([1,2,3,4,5])\n",
    "print(vector)\n",
    "\n",
    "new_size = len(vector) + (len(vector) - 1) * 3  \n",
    "new_Z = np.zeros(new_size, dtype=int)  \n",
    "\n",
    "\n",
    "new_Z[::4] = vector\n",
    "\n",
    "# Mostrar resultado\n",
    "print(new_Z)"
   ]
  },
  {
   "cell_type": "markdown",
   "id": "d07aaecb",
   "metadata": {},
   "source": [
    "#### 71. Sea un arrays de dimensiones (5, 5, 3), cómo multiplicarlo por un array de dimensiones (5, 5)? (★★★)"
   ]
  },
  {
   "cell_type": "code",
   "execution_count": 117,
   "id": "767622f8",
   "metadata": {},
   "outputs": [
    {
     "name": "stdout",
     "output_type": "stream",
     "text": [
      "[ 1  2 -3  4]\n"
     ]
    }
   ],
   "source": [
    "vector_float = np.array([1.7, 2.3, -3.8, 4.9], dtype=np.float32)\n",
    "vector_int = vector_float.astype(np.int32)\n",
    "\n",
    "print(vector_int)\n"
   ]
  },
  {
   "cell_type": "markdown",
   "id": "44b331f6",
   "metadata": {},
   "source": [
    "#### 72. ¿Cómo intercambiar dos filas en un array? (★★★)"
   ]
  },
  {
   "cell_type": "code",
   "execution_count": 118,
   "id": "c682e138",
   "metadata": {},
   "outputs": [
    {
     "name": "stdout",
     "output_type": "stream",
     "text": [
      "[[1 2 3]\n",
      " [4 5 6]\n",
      " [7 8 9]]\n",
      "[[7 8 9]\n",
      " [4 5 6]\n",
      " [1 2 3]]\n"
     ]
    }
   ],
   "source": [
    "arr = np.array([[1, 2, 3],\n",
    "                [4, 5, 6],\n",
    "                [7, 8, 9]])\n",
    "\n",
    "print(arr)\n",
    "\n",
    "\n",
    "arr[[0, 2]] = arr[[2, 0]]\n",
    "\n",
    "print(arr)"
   ]
  },
  {
   "cell_type": "markdown",
   "id": "d938d83d",
   "metadata": {},
   "source": [
    "#### 73. Sea un set de tripletes describiendo 10 triangulos (con lados compartidos), encuentre el set de las líneas que componen todos lo triangulos. (★★★)\n",
    "Consider a set of 10 triplets describing 10 triangles (with shared vertices), find the set of unique line segments composing all the  triangles (★★★)"
   ]
  },
  {
   "cell_type": "code",
   "execution_count": 119,
   "id": "323d5001",
   "metadata": {},
   "outputs": [
    {
     "name": "stdout",
     "output_type": "stream",
     "text": [
      "{(3, 4), (4, 6), (5, 7), (8, 9), (9, 11), (1, 3), (10, 12), (6, 8), (4, 5), (5, 6), (9, 10), (2, 4), (1, 2), (10, 11), (7, 9), (6, 7), (3, 5), (8, 10), (2, 3), (11, 12), (7, 8)}\n"
     ]
    }
   ],
   "source": [
    "def encontrar_lineas(triangulos):\n",
    "    lineas = set()\n",
    "    for a, b, c in triangulos:\n",
    "        lineas.add(tuple(sorted((a, b))))\n",
    "        lineas.add(tuple(sorted((b, c))))\n",
    "        lineas.add(tuple(sorted((a, c))))\n",
    "    return lineas\n",
    "\n",
    "# Ejemplo de 10 triángulos con lados compartidos\n",
    "triangulos = [\n",
    "    (1, 2, 3), (2, 3, 4), (3, 4, 5), (4, 5, 6), (5, 6, 7),\n",
    "    (6, 7, 8), (7, 8, 9), (8, 9, 10), (9, 10, 11), (10, 11, 12)\n",
    "]\n",
    "\n",
    "lineas_unicas = encontrar_lineas(triangulos)\n",
    "print(lineas_unicas)\n"
   ]
  },
  {
   "cell_type": "markdown",
   "id": "0979231d",
   "metadata": {},
   "source": [
    "#### 74. Dado un array ordenado C que corresponde a el resultado de un bitcount, ¿cómo producir un array A tal que np.bincount(A) = C ? (★★★)"
   ]
  },
  {
   "cell_type": "code",
   "execution_count": 120,
   "id": "dd89a329",
   "metadata": {},
   "outputs": [
    {
     "name": "stdout",
     "output_type": "stream",
     "text": [
      "[ 1  2  3  4  5  6  7  8  9 10]\n",
      "[0 1 1 1 1 1 1 1 1 1 1]\n",
      "[ 1  2  3  4  5  6  7  8  9 10]\n"
     ]
    }
   ],
   "source": [
    "\n",
    "C=np.array([1,2,3,4,5,6,7,8,9,10])\n",
    "print(C)\n",
    "#bincount\n",
    "count=np.bincount(C)\n",
    "\n",
    "print(count)\n",
    "\n",
    "A = np.repeat(np.arange(len(count)), count)\n",
    "print(A)"
   ]
  },
  {
   "cell_type": "markdown",
   "id": "84c50ce3",
   "metadata": {},
   "source": [
    "#### 75. ¿Cómo calcular los promedios de rango variable sobre un array? (★★★)\n",
    "```python\n",
    "# Sea\n",
    "Z = [0, 1, 2, 3, 4, 5, 6, 7, 8, 9]\n",
    "# Sus promedios en un rango de n = 3\n",
    "[1, 2, 3, 4, 5, 6, 7, 8]\n",
    "```"
   ]
  },
  {
   "cell_type": "code",
   "execution_count": 121,
   "id": "59f9bb36",
   "metadata": {},
   "outputs": [
    {
     "name": "stdout",
     "output_type": "stream",
     "text": [
      "[np.float64(1.0), np.float64(2.0), np.float64(3.0), np.float64(4.0), np.float64(5.0), np.float64(6.0), np.float64(7.0), np.float64(8.0)]\n"
     ]
    }
   ],
   "source": [
    "def promedios_rango_variable(Z, n):\n",
    "    return [np.mean(Z[i:i+n]) for i in range(len(Z) - n + 1)]\n",
    "\n",
    "# Datos\n",
    "Z = [0, 1, 2, 3, 4, 5, 6, 7, 8, 9]\n",
    "n = 3\n",
    "resultados = promedios_rango_variable(Z, n)\n",
    "print(resultados)\n"
   ]
  },
  {
   "cell_type": "markdown",
   "id": "da0f4802",
   "metadata": {},
   "source": [
    "#### 76. Sea un vector Z unidimensional, contruya un vector de dos dimensiones (matriz) del cuál su primera fila sea (Z[0],Z[1],Z[2]), su segunda (Z[1],Z[2],Z[3]), es decir que cada siguiente fila empiece con el segundo elementos de la anterior fila, note que (la última fila debería ser (Z[-3],Z[-2],Z[-1]) (★★★)\n",
    "\n",
    "```python\n",
    "# Sea Z y R lo que se busca\n",
    "Z = [0 1 2 3 4]\n",
    "R = [[0 1 2]\n",
    "     [1 2 3]\n",
    "     [2 3 4]]\n",
    "```"
   ]
  },
  {
   "cell_type": "code",
   "execution_count": 122,
   "id": "97b75862",
   "metadata": {},
   "outputs": [
    {
     "name": "stdout",
     "output_type": "stream",
     "text": [
      "[0, 1, 2, 3, 4]\n",
      "[[0 1 2]\n",
      " [1 2 3]\n",
      " [2 3 4]]\n"
     ]
    }
   ],
   "source": [
    "\n",
    "Z = [0,1,2,3,4]\n",
    "R = np.array([Z[i:i+3] for i in range(len(Z)-2)])\n",
    "\n",
    "print(Z)\n",
    "print(R)\n",
    "\n",
    "\n",
    "\n"
   ]
  },
  {
   "cell_type": "markdown",
   "id": "38303894",
   "metadata": {},
   "source": [
    "#### 77. ¿Cómo negar un valor boolean, o cambiar el signo de un valor float? (inplace) (★★★)"
   ]
  },
  {
   "cell_type": "code",
   "execution_count": 123,
   "id": "ec4c0a79",
   "metadata": {},
   "outputs": [
    {
     "name": "stdout",
     "output_type": "stream",
     "text": [
      "False\n"
     ]
    }
   ],
   "source": [
    "x = [True]\n",
    "x[0] = not x[0]\n",
    "print(x[0]) \n"
   ]
  },
  {
   "cell_type": "markdown",
   "id": "b1d6bac4",
   "metadata": {},
   "source": [
    "#### 78. Sean dos sets puntos P0 y P1 tienen el mismo tamaño, el primer punto de P0 describe un línea con el primer punto de P1 y así con todos los elementos de P0 y P1, también se nos da un punto P. \n",
    "¿Cómo calcular la distancia del punto P a cada linea que es descrita por los pares de puntos de los sets? (★★★)"
   ]
  },
  {
   "cell_type": "code",
   "execution_count": 124,
   "id": "7136475d",
   "metadata": {},
   "outputs": [
    {
     "name": "stdout",
     "output_type": "stream",
     "text": [
      "Coordenadas de los puntos P0, P1 y P: [0 1] [1 0] [1 1]\n",
      "Distancia del punto P a la línea: 0.7071067811865475\n"
     ]
    }
   ],
   "source": [
    "\n",
    "P0 = np.array([0,1])  \n",
    "P1 = np.array([1,0])\n",
    "P = np.array([1,1])\n",
    "\n",
    "print(\"Coordenadas de los puntos P0, P1 y P:\", P0,P1,P)\n",
    "\n",
    "line_vec = P1 - P0\n",
    "point_vec = P - P0\n",
    "\n",
    "cross_product = np.abs(line_vec[0] * point_vec[1] - line_vec[1] * point_vec[0])\n",
    "line_length = np.linalg.norm(line_vec)\n",
    "\n",
    "distance = cross_product / line_length\n",
    "\n",
    "print(\"Distancia del punto P a la línea:\", distance)"
   ]
  },
  {
   "cell_type": "markdown",
   "id": "5ac55ef2",
   "metadata": {},
   "source": [
    "#### 79. Sean dos sets puntos P0 y P1 tienen el mismo tamaño, el primer punto de P0 describe un línea con el primer punto de P1 y así con todos los elementos de P0 y P1, también se nos da un set de puntos P. \n",
    "¿Cómo calcular la distancia de los puntos  de P a cada linea que es descrita por los pares de puntos de los sets? (★★★)"
   ]
  },
  {
   "cell_type": "code",
   "execution_count": 125,
   "id": "7efcbf14",
   "metadata": {},
   "outputs": [
    {
     "name": "stdout",
     "output_type": "stream",
     "text": [
      "[[0.70710678 0.70710678 0.70710678]\n",
      " [0.70710678 0.70710678 0.70710678]]\n"
     ]
    }
   ],
   "source": [
    "def distancia_punto_recta(P, P0, P1):\n",
    "    distancias = []\n",
    "    \n",
    "    for (x0, y0), (x1, y1) in zip(P0, P1):\n",
    "        A = y1 - y0\n",
    "        B = x0 - x1\n",
    "        C = x1 * y0 - x0 * y1\n",
    "        denominador = np.sqrt(A**2 + B**2)\n",
    "        \n",
    "        distancias_a_esta_linea = [\n",
    "            abs(A * x + B * y + C) / denominador for x, y in P\n",
    "        ]\n",
    "        \n",
    "        distancias.append(distancias_a_esta_linea)\n",
    "    \n",
    "    return np.array(distancias)  # Matriz de distancias\n",
    "\n",
    "P0 = [(0, 0), (1, 1)]\n",
    "P1 = [(2, 2), (3, 3)]\n",
    "P = [(1, 0), (2, 1), (3, 2)]  \n",
    "\n",
    "distancias = distancia_punto_recta(P, P0, P1)\n",
    "print(distancias)\n"
   ]
  },
  {
   "cell_type": "markdown",
   "id": "9c2f76c0",
   "metadata": {},
   "source": [
    "#### 80. Considere una matriz arbitraria, escriba una función que extraiga una subparte con una forma fija y centrada en un elemento dado (rellene con un 'fill' cuando sea necesario)(★★★)\n",
    "Consider an arbitrary array, write a function that extract a subpart with a fixed shape and centered on a given element (pad with a `fill` value when necessary) (★★★)"
   ]
  },
  {
   "cell_type": "code",
   "execution_count": 126,
   "id": "013543b9",
   "metadata": {},
   "outputs": [],
   "source": [
    "Z = np.random.randint(0,10,(10,10))\n",
    "shape = (5,5)\n",
    "fill  = 0\n",
    "position = (1,1)\n",
    "\n",
    "\n"
   ]
  },
  {
   "cell_type": "markdown",
   "id": "af23fdef",
   "metadata": {},
   "source": [
    "#### 81. Sea el vector Z = [1,2,3,4,5,6,7,8,9,10,11,12,13,14], ¿Cómo generar el vector R = [[1,2,3,4], [2,3,4,5], [3,4,5,6], ..., [11,12,13,14]]? (★★★)"
   ]
  },
  {
   "cell_type": "code",
   "execution_count": 127,
   "id": "83dbbb4b",
   "metadata": {},
   "outputs": [
    {
     "name": "stdout",
     "output_type": "stream",
     "text": [
      "[[ 1  2  3  4]\n",
      " [ 2  3  4  5]\n",
      " [ 3  4  5  6]\n",
      " [ 4  5  6  7]\n",
      " [ 5  6  7  8]\n",
      " [ 6  7  8  9]\n",
      " [ 7  8  9 10]\n",
      " [ 8  9 10 11]\n",
      " [ 9 10 11 12]\n",
      " [10 11 12 13]\n",
      " [11 12 13 14]]\n"
     ]
    }
   ],
   "source": [
    "def generar_ventanas(Z, n):\n",
    "    return np.array([Z[i:i+n] for i in range(len(Z) - n + 1)])\n",
    "\n",
    "Z = [1, 2, 3, 4, 5, 6, 7, 8, 9, 10, 11, 12, 13, 14]\n",
    "n = 4\n",
    "\n",
    "# Generar el vector r\n",
    "r = generar_ventanas(Z, n)\n",
    "print(r)\n"
   ]
  },
  {
   "cell_type": "markdown",
   "id": "df91733c",
   "metadata": {},
   "source": [
    "#### 82. Obtenga el rango de un matriz (★★★)"
   ]
  },
  {
   "cell_type": "code",
   "execution_count": 128,
   "id": "a60c4a33",
   "metadata": {},
   "outputs": [
    {
     "name": "stdout",
     "output_type": "stream",
     "text": [
      "Matriz A:\n",
      "[[1 2 3]\n",
      " [4 5 6]\n",
      " [7 8 9]]\n",
      "Rango de la matriz: 2\n"
     ]
    }
   ],
   "source": [
    "A = np.array([[1, 2, 3], \n",
    "              [4, 5, 6], \n",
    "              [7, 8, 9]])\n",
    "\n",
    "rank = np.linalg.matrix_rank(A)\n",
    "\n",
    "print(\"Matriz A:\")\n",
    "print(A)\n",
    "print(\"Rango de la matriz:\", rank)\n",
    "\n"
   ]
  },
  {
   "cell_type": "markdown",
   "id": "7d237d9b",
   "metadata": {},
   "source": [
    "#### 83. ¿Cómo encontrar el valor más frecuente en un array? (★★★)"
   ]
  },
  {
   "cell_type": "code",
   "execution_count": 129,
   "id": "7c53b265",
   "metadata": {},
   "outputs": [
    {
     "name": "stdout",
     "output_type": "stream",
     "text": [
      "2\n"
     ]
    }
   ],
   "source": [
    "def valor_mas_frecuente_numpy(arr):\n",
    "    arr = np.array(arr)\n",
    "    valores, conteos = np.unique(arr, return_counts=True)\n",
    "    return valores[np.argmax(conteos)]  \n",
    "\n",
    "arr = [1, 3, 2, 3, 4, 3, 2, 2, 2, 1]\n",
    "print(valor_mas_frecuente_numpy(arr)) "
   ]
  },
  {
   "cell_type": "markdown",
   "id": "8a326442",
   "metadata": {},
   "source": [
    "#### 84. Extraiga todos los bloques contiguos 3x3 de una matriz de elementos aleatorios 10x10 (★★★)\n",
    "Extract all the contiguous 3x3 blocks from a random 10x10 matrix (★★★)"
   ]
  },
  {
   "cell_type": "code",
   "execution_count": 130,
   "id": "bd909f7c",
   "metadata": {},
   "outputs": [
    {
     "name": "stdout",
     "output_type": "stream",
     "text": [
      "Matriz original:\n",
      "[[2 2 0 2 5 2 7 6 0 3]\n",
      " [6 7 4 0 5 4 5 7 8 3]\n",
      " [2 6 0 1 1 2 9 5 8 5]\n",
      " [7 3 2 0 5 3 0 7 5 9]\n",
      " [8 2 1 5 7 9 8 2 5 4]\n",
      " [6 5 3 0 3 6 1 7 5 9]\n",
      " [6 1 9 8 5 3 9 2 7 9]\n",
      " [4 1 4 7 5 3 8 8 0 8]\n",
      " [9 2 1 0 9 5 4 6 8 8]\n",
      " [2 5 0 1 4 7 0 7 6 0]]\n",
      "\n",
      "Forma de bloques extraídos: (8, 8, 3, 3)\n",
      "\n",
      "Ejemplo de un bloque 3x3:\n",
      "\n",
      "Bloque en posición (0, 0):\n",
      "[[2 2 0]\n",
      " [6 7 4]\n",
      " [2 6 0]]\n",
      "\n",
      "Bloque en posición (0, 1):\n",
      "[[2 0 2]\n",
      " [7 4 0]\n",
      " [6 0 1]]\n",
      "\n",
      "Bloque en posición (0, 2):\n",
      "[[0 2 5]\n",
      " [4 0 5]\n",
      " [0 1 1]]\n",
      "\n",
      "Bloque en posición (0, 3):\n",
      "[[2 5 2]\n",
      " [0 5 4]\n",
      " [1 1 2]]\n",
      "\n",
      "Bloque en posición (0, 4):\n",
      "[[5 2 7]\n",
      " [5 4 5]\n",
      " [1 2 9]]\n",
      "\n",
      "Bloque en posición (0, 5):\n",
      "[[2 7 6]\n",
      " [4 5 7]\n",
      " [2 9 5]]\n",
      "\n",
      "Bloque en posición (0, 6):\n",
      "[[7 6 0]\n",
      " [5 7 8]\n",
      " [9 5 8]]\n",
      "\n",
      "Bloque en posición (0, 7):\n",
      "[[6 0 3]\n",
      " [7 8 3]\n",
      " [5 8 5]]\n",
      "\n",
      "Bloque en posición (1, 0):\n",
      "[[6 7 4]\n",
      " [2 6 0]\n",
      " [7 3 2]]\n",
      "\n",
      "Bloque en posición (1, 1):\n",
      "[[7 4 0]\n",
      " [6 0 1]\n",
      " [3 2 0]]\n",
      "\n",
      "Bloque en posición (1, 2):\n",
      "[[4 0 5]\n",
      " [0 1 1]\n",
      " [2 0 5]]\n",
      "\n",
      "Bloque en posición (1, 3):\n",
      "[[0 5 4]\n",
      " [1 1 2]\n",
      " [0 5 3]]\n",
      "\n",
      "Bloque en posición (1, 4):\n",
      "[[5 4 5]\n",
      " [1 2 9]\n",
      " [5 3 0]]\n",
      "\n",
      "Bloque en posición (1, 5):\n",
      "[[4 5 7]\n",
      " [2 9 5]\n",
      " [3 0 7]]\n",
      "\n",
      "Bloque en posición (1, 6):\n",
      "[[5 7 8]\n",
      " [9 5 8]\n",
      " [0 7 5]]\n",
      "\n",
      "Bloque en posición (1, 7):\n",
      "[[7 8 3]\n",
      " [5 8 5]\n",
      " [7 5 9]]\n",
      "\n",
      "Bloque en posición (2, 0):\n",
      "[[2 6 0]\n",
      " [7 3 2]\n",
      " [8 2 1]]\n",
      "\n",
      "Bloque en posición (2, 1):\n",
      "[[6 0 1]\n",
      " [3 2 0]\n",
      " [2 1 5]]\n",
      "\n",
      "Bloque en posición (2, 2):\n",
      "[[0 1 1]\n",
      " [2 0 5]\n",
      " [1 5 7]]\n",
      "\n",
      "Bloque en posición (2, 3):\n",
      "[[1 1 2]\n",
      " [0 5 3]\n",
      " [5 7 9]]\n",
      "\n",
      "Bloque en posición (2, 4):\n",
      "[[1 2 9]\n",
      " [5 3 0]\n",
      " [7 9 8]]\n",
      "\n",
      "Bloque en posición (2, 5):\n",
      "[[2 9 5]\n",
      " [3 0 7]\n",
      " [9 8 2]]\n",
      "\n",
      "Bloque en posición (2, 6):\n",
      "[[9 5 8]\n",
      " [0 7 5]\n",
      " [8 2 5]]\n",
      "\n",
      "Bloque en posición (2, 7):\n",
      "[[5 8 5]\n",
      " [7 5 9]\n",
      " [2 5 4]]\n",
      "\n",
      "Bloque en posición (3, 0):\n",
      "[[7 3 2]\n",
      " [8 2 1]\n",
      " [6 5 3]]\n",
      "\n",
      "Bloque en posición (3, 1):\n",
      "[[3 2 0]\n",
      " [2 1 5]\n",
      " [5 3 0]]\n",
      "\n",
      "Bloque en posición (3, 2):\n",
      "[[2 0 5]\n",
      " [1 5 7]\n",
      " [3 0 3]]\n",
      "\n",
      "Bloque en posición (3, 3):\n",
      "[[0 5 3]\n",
      " [5 7 9]\n",
      " [0 3 6]]\n",
      "\n",
      "Bloque en posición (3, 4):\n",
      "[[5 3 0]\n",
      " [7 9 8]\n",
      " [3 6 1]]\n",
      "\n",
      "Bloque en posición (3, 5):\n",
      "[[3 0 7]\n",
      " [9 8 2]\n",
      " [6 1 7]]\n",
      "\n",
      "Bloque en posición (3, 6):\n",
      "[[0 7 5]\n",
      " [8 2 5]\n",
      " [1 7 5]]\n",
      "\n",
      "Bloque en posición (3, 7):\n",
      "[[7 5 9]\n",
      " [2 5 4]\n",
      " [7 5 9]]\n",
      "\n",
      "Bloque en posición (4, 0):\n",
      "[[8 2 1]\n",
      " [6 5 3]\n",
      " [6 1 9]]\n",
      "\n",
      "Bloque en posición (4, 1):\n",
      "[[2 1 5]\n",
      " [5 3 0]\n",
      " [1 9 8]]\n",
      "\n",
      "Bloque en posición (4, 2):\n",
      "[[1 5 7]\n",
      " [3 0 3]\n",
      " [9 8 5]]\n",
      "\n",
      "Bloque en posición (4, 3):\n",
      "[[5 7 9]\n",
      " [0 3 6]\n",
      " [8 5 3]]\n",
      "\n",
      "Bloque en posición (4, 4):\n",
      "[[7 9 8]\n",
      " [3 6 1]\n",
      " [5 3 9]]\n",
      "\n",
      "Bloque en posición (4, 5):\n",
      "[[9 8 2]\n",
      " [6 1 7]\n",
      " [3 9 2]]\n",
      "\n",
      "Bloque en posición (4, 6):\n",
      "[[8 2 5]\n",
      " [1 7 5]\n",
      " [9 2 7]]\n",
      "\n",
      "Bloque en posición (4, 7):\n",
      "[[2 5 4]\n",
      " [7 5 9]\n",
      " [2 7 9]]\n",
      "\n",
      "Bloque en posición (5, 0):\n",
      "[[6 5 3]\n",
      " [6 1 9]\n",
      " [4 1 4]]\n",
      "\n",
      "Bloque en posición (5, 1):\n",
      "[[5 3 0]\n",
      " [1 9 8]\n",
      " [1 4 7]]\n",
      "\n",
      "Bloque en posición (5, 2):\n",
      "[[3 0 3]\n",
      " [9 8 5]\n",
      " [4 7 5]]\n",
      "\n",
      "Bloque en posición (5, 3):\n",
      "[[0 3 6]\n",
      " [8 5 3]\n",
      " [7 5 3]]\n",
      "\n",
      "Bloque en posición (5, 4):\n",
      "[[3 6 1]\n",
      " [5 3 9]\n",
      " [5 3 8]]\n",
      "\n",
      "Bloque en posición (5, 5):\n",
      "[[6 1 7]\n",
      " [3 9 2]\n",
      " [3 8 8]]\n",
      "\n",
      "Bloque en posición (5, 6):\n",
      "[[1 7 5]\n",
      " [9 2 7]\n",
      " [8 8 0]]\n",
      "\n",
      "Bloque en posición (5, 7):\n",
      "[[7 5 9]\n",
      " [2 7 9]\n",
      " [8 0 8]]\n",
      "\n",
      "Bloque en posición (6, 0):\n",
      "[[6 1 9]\n",
      " [4 1 4]\n",
      " [9 2 1]]\n",
      "\n",
      "Bloque en posición (6, 1):\n",
      "[[1 9 8]\n",
      " [1 4 7]\n",
      " [2 1 0]]\n",
      "\n",
      "Bloque en posición (6, 2):\n",
      "[[9 8 5]\n",
      " [4 7 5]\n",
      " [1 0 9]]\n",
      "\n",
      "Bloque en posición (6, 3):\n",
      "[[8 5 3]\n",
      " [7 5 3]\n",
      " [0 9 5]]\n",
      "\n",
      "Bloque en posición (6, 4):\n",
      "[[5 3 9]\n",
      " [5 3 8]\n",
      " [9 5 4]]\n",
      "\n",
      "Bloque en posición (6, 5):\n",
      "[[3 9 2]\n",
      " [3 8 8]\n",
      " [5 4 6]]\n",
      "\n",
      "Bloque en posición (6, 6):\n",
      "[[9 2 7]\n",
      " [8 8 0]\n",
      " [4 6 8]]\n",
      "\n",
      "Bloque en posición (6, 7):\n",
      "[[2 7 9]\n",
      " [8 0 8]\n",
      " [6 8 8]]\n",
      "\n",
      "Bloque en posición (7, 0):\n",
      "[[4 1 4]\n",
      " [9 2 1]\n",
      " [2 5 0]]\n",
      "\n",
      "Bloque en posición (7, 1):\n",
      "[[1 4 7]\n",
      " [2 1 0]\n",
      " [5 0 1]]\n",
      "\n",
      "Bloque en posición (7, 2):\n",
      "[[4 7 5]\n",
      " [1 0 9]\n",
      " [0 1 4]]\n",
      "\n",
      "Bloque en posición (7, 3):\n",
      "[[7 5 3]\n",
      " [0 9 5]\n",
      " [1 4 7]]\n",
      "\n",
      "Bloque en posición (7, 4):\n",
      "[[5 3 8]\n",
      " [9 5 4]\n",
      " [4 7 0]]\n",
      "\n",
      "Bloque en posición (7, 5):\n",
      "[[3 8 8]\n",
      " [5 4 6]\n",
      " [7 0 7]]\n",
      "\n",
      "Bloque en posición (7, 6):\n",
      "[[8 8 0]\n",
      " [4 6 8]\n",
      " [0 7 6]]\n",
      "\n",
      "Bloque en posición (7, 7):\n",
      "[[8 0 8]\n",
      " [6 8 8]\n",
      " [7 6 0]]\n"
     ]
    }
   ],
   "source": [
    "import numpy as np\n",
    "from numpy.lib.stride_tricks import sliding_window_view\n",
    "\n",
    "\n",
    "A = np.random.randint(0, 10, (10, 10))\n",
    "print(\"Matriz original:\")\n",
    "print(A)\n",
    "\n",
    "\n",
    "blocks = sliding_window_view(A, (3, 3))\n",
    "\n",
    "print(\"\\nForma de bloques extraídos:\", blocks.shape)  \n",
    "print(\"\\nEjemplo de un bloque 3x3:\")\n",
    "for i in range(blocks.shape[0]):  \n",
    "    for j in range(blocks.shape[1]): \n",
    "        print(f\"\\nBloque en posición ({i}, {j}):\")\n",
    "        print(blocks[i, j])\n"
   ]
  },
  {
   "cell_type": "markdown",
   "id": "399995a8",
   "metadata": {},
   "source": [
    "#### 85. Crea un matriz cuya subclase tenga Z[i,j] = Z[j,i] (★★★)\n",
    "Create a 2D array subclass such that Z[i,j] == Z[j,i] (★★★)"
   ]
  },
  {
   "cell_type": "code",
   "execution_count": 131,
   "id": "62f005d1",
   "metadata": {},
   "outputs": [
    {
     "name": "stdout",
     "output_type": "stream",
     "text": [
      "[[0. 1. 2.]\n",
      " [3. 4. 5.]\n",
      " [6. 7. 8.]]\n"
     ]
    }
   ],
   "source": [
    "class MatrizIdentidad(np.ndarray):\n",
    "    def __new__(cls, shape, dtype=float):\n",
    "        obj = super().__new__(cls, shape, dtype)\n",
    "        return obj\n",
    "\n",
    "    def __getitem__(self, index):\n",
    "        return super().__getitem__(index) \n",
    "\n",
    "Z = MatrizIdentidad((3, 3))\n",
    "Z[:] = np.arange(9).reshape(3, 3)\n",
    "\n",
    "print(Z)\n"
   ]
  },
  {
   "cell_type": "markdown",
   "id": "f39b211c",
   "metadata": {},
   "source": [
    "#### 86. Consideremos un conjunto de p matrices cuya forma (n,n) y un conjunto de p vectores con forma (n,1). ¿Cómo calcular la suma de los productos de la matriz p a la vez? (el resultado tiene forma (n,1))(★★★)\n",
    "Consider a set of p matrices wich shape (n,n) and a set of p vectors with shape (n,1). How to compute the sum of of the p matrix products at once? (result has shape (n,1)) (★★★)"
   ]
  },
  {
   "cell_type": "code",
   "execution_count": 132,
   "id": "161f67dc",
   "metadata": {},
   "outputs": [
    {
     "name": "stdout",
     "output_type": "stream",
     "text": [
      "Matrices (p,n,n):\n",
      "[[[2 9 4]\n",
      "  [2 3 1]\n",
      "  [7 8 1]]\n",
      "\n",
      " [[8 9 1]\n",
      "  [9 3 8]\n",
      "  [3 4 5]]\n",
      "\n",
      " [[9 9 2]\n",
      "  [7 8 2]\n",
      "  [9 2 5]]\n",
      "\n",
      " [[2 5 8]\n",
      "  [2 9 6]\n",
      "  [5 7 9]]]\n",
      "\n",
      "Vectores (p,n,1):\n",
      "[[[7]\n",
      "  [6]\n",
      "  [6]]\n",
      "\n",
      " [[4]\n",
      "  [7]\n",
      "  [2]]\n",
      "\n",
      " [[6]\n",
      "  [7]\n",
      "  [7]]\n",
      "\n",
      " [[1]\n",
      "  [2]\n",
      "  [9]]]\n",
      "\n",
      "Productos individuales (p,n,1):\n",
      "[[[ 92]\n",
      "  [ 38]\n",
      "  [103]]\n",
      "\n",
      " [[ 97]\n",
      "  [ 73]\n",
      "  [ 50]]\n",
      "\n",
      " [[131]\n",
      "  [112]\n",
      "  [103]]\n",
      "\n",
      " [[ 84]\n",
      "  [ 74]\n",
      "  [100]]]\n",
      "\n",
      "Suma final (n,1):\n",
      "[[404]\n",
      " [297]\n",
      " [356]]\n"
     ]
    }
   ],
   "source": [
    "\n",
    "p, n = 4, 3  \n",
    "\n",
    "\n",
    "matrices = np.random.randint(1, 10, (p, n, n))\n",
    "\n",
    "\n",
    "vectors = np.random.randint(1, 10, (p, n, 1))\n",
    "\n",
    "\n",
    "products = np.matmul(matrices, vectors)  \n",
    "\n",
    "result = np.sum(products, axis=0)  \n",
    "\n",
    "\n",
    "print(\"Matrices (p,n,n):\")\n",
    "print(matrices)\n",
    "\n",
    "print(\"\\nVectores (p,n,1):\")\n",
    "print(vectors)\n",
    "\n",
    "print(\"\\nProductos individuales (p,n,1):\")\n",
    "print(products)\n",
    "\n",
    "print(\"\\nSuma final (n,1):\")\n",
    "print(result)\n"
   ]
  },
  {
   "cell_type": "markdown",
   "id": "78d1cd23",
   "metadata": {},
   "source": [
    "#### 87. Sea un 16x16 array, ¿cómo obtener la suma en bloques (tamaño del bloque 4x4)? (★★★)"
   ]
  },
  {
   "cell_type": "code",
   "execution_count": 133,
   "id": "b30ef84d",
   "metadata": {},
   "outputs": [
    {
     "name": "stdout",
     "output_type": "stream",
     "text": [
      "Matriz original (16x16):\n",
      "[[0 8 5 6 0 1 6 3 5 3 3 5 5 2 3 4]\n",
      " [9 7 0 1 6 7 4 4 9 0 7 4 3 4 6 1]\n",
      " [0 9 9 0 4 9 5 7 8 4 4 4 5 0 8 4]\n",
      " [2 2 0 9 8 2 3 5 4 1 7 0 3 1 7 2]\n",
      " [0 6 3 2 5 6 6 2 8 0 8 4 3 5 1 4]\n",
      " [5 6 7 1 9 8 4 4 5 8 1 4 6 4 8 6]\n",
      " [6 5 8 7 3 5 9 3 0 0 9 9 6 8 1 3]\n",
      " [3 1 4 9 6 2 2 9 1 9 6 0 2 2 9 7]\n",
      " [2 3 9 8 8 3 1 3 3 1 5 5 4 2 5 5]\n",
      " [6 3 9 0 8 4 1 1 0 7 1 6 9 9 2 5]\n",
      " [0 1 5 8 6 5 5 8 7 1 5 6 2 0 5 0]\n",
      " [5 4 1 3 9 2 1 7 0 5 0 6 5 1 8 5]\n",
      " [7 3 5 9 7 4 4 3 3 8 7 9 0 9 7 5]\n",
      " [3 8 7 1 2 4 0 6 2 0 7 1 6 0 6 7]\n",
      " [0 6 4 2 4 8 9 1 2 7 9 8 6 5 9 6]\n",
      " [4 2 4 5 5 9 8 6 9 8 5 5 6 5 1 1]]\n",
      "\n",
      "Suma en bloques (4x4):\n",
      "[[67 74 68 58]\n",
      " [73 83 72 75]\n",
      " [67 72 58 67]\n",
      " [70 80 90 79]]\n"
     ]
    }
   ],
   "source": [
    "\n",
    "Z = np.random.randint(0, 10, (16, 16))  \n",
    "\n",
    "def suma_en_bloques(Z, block_size=4):\n",
    "    m, n = Z.shape\n",
    "    return Z.reshape(m//block_size, block_size, n//block_size, block_size).sum(axis=(1, 3))\n",
    "\n",
    "resultado = suma_en_bloques(Z)\n",
    "\n",
    "print(\"Matriz original (16x16):\")\n",
    "print(Z)\n",
    "print(\"\\nSuma en bloques (4x4):\")\n",
    "print(resultado)\n"
   ]
  },
  {
   "cell_type": "markdown",
   "id": "b73f4d1f",
   "metadata": {},
   "source": [
    "#### 88. ¿Cómo implementar el Juego de la Vida usando numpy arrays? (★★★)\n",
    "Juego de la Vida (Game Life)\n",
    "Se trata de un juego de cero jugadores, lo que quiere decir que su evolución está determinada por el estado inicial y no necesita ninguna entrada de datos posterior. El \"tablero de juego\" es una malla plana formada por cuadrados (las \"células\") que se extiende por el infinito en todas las direcciones. Por tanto, cada célula tiene 8 células \"vecinas\", que son las que están próximas a ella, incluidas las diagonales. Las células tienen dos estados: están \"vivas\" o \"muertas\" (o \"encendidas\" y \"apagadas\"). El estado de las células evoluciona a lo largo de unidades de tiempo discretas (se podría decir que por turnos). El estado de todas las células se tiene en cuenta para calcular el estado de las mismas al turno siguiente. Todas las células se actualizan simultáneamente en cada turno, siguiendo estas reglas:\n",
    "    Nace: Si una célula muerta tiene exactamente 3 células vecinas vivas \"nace\" (es decir, al turno siguiente estará viva).\n",
    "    Muere: una célula viva puede morir por uno de 2 casos:\n",
    "        Sobrepoblación: si tiene más de tres vecinos alrededor.\n",
    "        Aislamiento: si tiene solo un vecino alrededor o ninguno.\n",
    "    Vive: una célula se mantiene viva si tiene 2 o 3 vecinos a su alrededor."
   ]
  },
  {
   "cell_type": "code",
   "execution_count": 134,
   "id": "7abc3cec",
   "metadata": {},
   "outputs": [
    {
     "name": "stdout",
     "output_type": "stream",
     "text": [
      "[[0 0 0 ... 0 0 0]\n",
      " [0 0 0 ... 0 0 0]\n",
      " [0 0 0 ... 0 0 0]\n",
      " ...\n",
      " [0 0 0 ... 0 0 0]\n",
      " [0 0 0 ... 0 0 0]\n",
      " [0 0 0 ... 0 0 0]]\n"
     ]
    }
   ],
   "source": [
    "def iterate(Z):\n",
    "    \n",
    "    N = (Z[0:-2,0:-2] + Z[0:-2,1:-1] + Z[0:-2,2:] +\n",
    "         Z[1:-1,0:-2]                + Z[1:-1,2:] +\n",
    "         Z[2:  ,0:-2] + Z[2:  ,1:-1] + Z[2:  ,2:])\n",
    "\n",
    "   \n",
    "    birth = (N==3) & (Z[1:-1,1:-1]==0)\n",
    "    survive = ((N==2) | (N==3)) & (Z[1:-1,1:-1]==1)\n",
    "    Z[...] = 0\n",
    "    Z[1:-1,1:-1][birth | survive] = 1\n",
    "    return Z\n",
    "\n",
    "Z = np.random.randint(0,2,(50,50))\n",
    "for i in range(100): Z = iterate(Z)\n",
    "print(Z)"
   ]
  },
  {
   "cell_type": "markdown",
   "id": "2d81fe0b",
   "metadata": {},
   "source": [
    "#### 89. ¿Cómo obtener el enésimo (n-avo) valor más grande de un vector? (★★★)"
   ]
  },
  {
   "cell_type": "code",
   "execution_count": 135,
   "id": "931f1103",
   "metadata": {},
   "outputs": [
    {
     "name": "stdout",
     "output_type": "stream",
     "text": [
      "9\n"
     ]
    }
   ],
   "source": [
    "def n_avo_mas_grande(arr, n):\n",
    "    return np.partition(arr, -n)[-n]\n",
    "\n",
    "arr = [1, 3, 5, 7, 9, 2, 4, 6, 8, 10]\n",
    "n = 2 \n",
    "print(n_avo_mas_grande(arr, n))\n"
   ]
  },
  {
   "cell_type": "markdown",
   "id": "e5cae16b",
   "metadata": {},
   "source": [
    "#### 90. Dado un arbitrario número de vectores, contruya el producto cartesiano (la combinación de cada elemento con todos lo elementos) (★★★)"
   ]
  },
  {
   "cell_type": "code",
   "execution_count": 136,
   "id": "687d2160",
   "metadata": {},
   "outputs": [
    {
     "name": "stdout",
     "output_type": "stream",
     "text": [
      "Producto cartesiano:\n",
      "[[1 3 5]\n",
      " [1 4 5]\n",
      " [2 3 5]\n",
      " [2 4 5]\n",
      " [1 3 6]\n",
      " [1 4 6]\n",
      " [2 3 6]\n",
      " [2 4 6]]\n"
     ]
    }
   ],
   "source": [
    "\n",
    "v1 = [1, 2]\n",
    "v2 = [3, 4]\n",
    "v3 = [5, 6]\n",
    "\n",
    "grid = np.array(np.meshgrid(v1, v2, v3)).T.reshape(-1, 3)\n",
    "\n",
    "print(\"Producto cartesiano:\")\n",
    "print(grid)"
   ]
  },
  {
   "cell_type": "markdown",
   "id": "640c2b04",
   "metadata": {},
   "source": [
    "#### 91. ¿Cómo crear un registro a partir de un arrys normal? (★★★)\n",
    "How to create a record array from a regular array? (★★★)"
   ]
  },
  {
   "cell_type": "code",
   "execution_count": 137,
   "id": "de42a0b8",
   "metadata": {},
   "outputs": [
    {
     "name": "stdout",
     "output_type": "stream",
     "text": [
      "Registro(campo1=1, campo2=2, campo3=3, campo4=4)\n",
      "3\n"
     ]
    }
   ],
   "source": [
    "from collections import namedtuple\n",
    "\n",
    "Registro = namedtuple('Registro', ['campo1', 'campo2', 'campo3', 'campo4'])\n",
    "\n",
    "arr = [1, 2, 3, 4]\n",
    "registro = Registro(*arr)\n",
    "\n",
    "print(registro) \n",
    "print(registro.campo3)  \n"
   ]
  },
  {
   "cell_type": "markdown",
   "id": "7efc908a",
   "metadata": {},
   "source": [
    "#### 92. Dado un vector muy largo Z, calcule Z elevado a la potencia 3 usando 3 diferentes métodos (★★★)"
   ]
  },
  {
   "cell_type": "code",
   "execution_count": 138,
   "id": "52a63072",
   "metadata": {},
   "outputs": [
    {
     "name": "stdout",
     "output_type": "stream",
     "text": [
      "[1.10678779e-01 5.32658020e-01 4.91579637e-06 ... 1.32111584e-03\n",
      " 4.90954305e-02 5.07725843e-01]\n",
      "[1.10678779e-01 5.32658020e-01 4.91579637e-06 ... 1.32111584e-03\n",
      " 4.90954305e-02 5.07725843e-01]\n"
     ]
    },
    {
     "name": "stdout",
     "output_type": "stream",
     "text": [
      "[1.10678779e-01 5.32658020e-01 4.91579637e-06 6.54911602e-01\n",
      " 8.28826073e-07]\n"
     ]
    }
   ],
   "source": [
    "Z = np.random.rand(1000000)\n",
    "\n",
    "result_1 = Z ** 3\n",
    "\n",
    "print(result_1) \n",
    "\n",
    "\n",
    "result_2 = np.power(Z, 3)\n",
    "\n",
    "print(result_2)\n",
    "\n",
    "\n",
    "result_3 = np.zeros(len(Z))\n",
    "\n",
    "for i in range(len(Z)):\n",
    "    result_3[i] = Z[i] ** 3\n",
    "\n",
    "print(result_3[:5])\n"
   ]
  },
  {
   "cell_type": "markdown",
   "id": "529349c7",
   "metadata": {},
   "source": [
    "#### 93. Dados dos arrays A y B de tamaños (8, 3) y (2, 2) repectivamente. Cómo encontrar las fila de A que contengan elementos de cada fila de B \n",
    "Consider two arrays A and B of shape (8,3) and (2,2). How to find rows of A that contain elements of each row of B regardless of the order of the elements in B? (★★★)"
   ]
  },
  {
   "cell_type": "code",
   "execution_count": 139,
   "id": "1f9d5e70",
   "metadata": {},
   "outputs": [
    {
     "name": "stdout",
     "output_type": "stream",
     "text": [
      "Índices de filas de A que contienen elementos de las filas de B: [0, 1, 2, 3, 4, 5, 6, 7, 0, 1, 2, 3, 4, 5, 6, 7]\n"
     ]
    }
   ],
   "source": [
    "A = np.array([[1, 2, 3], [4, 5, 6], [7, 8, 9], [1, 3, 2], [2, 4, 6], [6, 5, 7], [9, 8, 7], [5, 3, 2]])\n",
    "B = np.array([[1, 2], [7, 9]])\n",
    "\n",
    "def filas_que_contienen(A, B):\n",
    "    indices = []\n",
    "    \n",
    "    for b in B:\n",
    "        for i, a in enumerate(A):\n",
    "            if all(elem in a for elem in b):\n",
    "                indices.append(i)\n",
    "    \n",
    "    return indices\n",
    "\n",
    "resultado = filas_que_contienen(A, B)\n",
    "\n",
    "print(\"Índices de filas de A que contienen elementos de las filas de B:\", resultado)\n"
   ]
  },
  {
   "cell_type": "markdown",
   "id": "2523003a",
   "metadata": {},
   "source": [
    "#### 94. Dada una matriz 10x3, extraiga las filas con valores no iguales (Ejemplo [2,2,3]) (★★★)"
   ]
  },
  {
   "cell_type": "code",
   "execution_count": 140,
   "id": "646b667a",
   "metadata": {},
   "outputs": [
    {
     "name": "stdout",
     "output_type": "stream",
     "text": [
      "Matriz original:\n",
      "[[3 3 2]\n",
      " [4 4 3]\n",
      " [4 1 4]\n",
      " [4 2 1]\n",
      " [4 3 4]\n",
      " [4 2 4]\n",
      " [4 4 3]\n",
      " [3 3 4]\n",
      " [3 2 2]\n",
      " [3 1 2]]\n",
      "\n",
      "Matriz sin duplicados:\n",
      "[[4 2 1]\n",
      " [3 1 2]]\n"
     ]
    }
   ],
   "source": [
    "matrix = np.random.randint(1, 5, (10, 3))\n",
    "\n",
    "print(\"Matriz original:\")\n",
    "print(matrix)\n",
    "\n",
    "unique_rows = matrix[np.apply_along_axis(lambda row: len(set(row)) == len(row), axis=1, arr=matrix)]\n",
    "\n",
    "print(\"\\nMatriz sin duplicados:\")\n",
    "print(unique_rows)\n"
   ]
  },
  {
   "cell_type": "markdown",
   "id": "5a4ccc7e",
   "metadata": {},
   "source": [
    "#### 95. Convierta un vector de enteros a una matriz que represente los enteros en binario (★★★)\n",
    "Convert a vector of ints into a matrix binary representation (★★★)"
   ]
  },
  {
   "cell_type": "code",
   "execution_count": 141,
   "id": "18716b50",
   "metadata": {},
   "outputs": [
    {
     "name": "stdout",
     "output_type": "stream",
     "text": [
      "Matriz binaria:\n",
      "[[0 0 1 0 1]\n",
      " [0 1 0 1 0]\n",
      " [0 1 1 1 1]\n",
      " [1 0 1 0 0]]\n"
     ]
    }
   ],
   "source": [
    "vector = np.array([5, 10, 15, 20])\n",
    "\n",
    "def convertir_a_binario(vector, num_bits=5):\n",
    "    return np.array([list(f\"{x:0{num_bits}b}\") for x in vector], dtype=int)\n",
    "\n",
    "matriz_binaria = convertir_a_binario(vector)\n",
    "\n",
    "print(\"Matriz binaria:\")\n",
    "print(matriz_binaria)\n"
   ]
  },
  {
   "cell_type": "markdown",
   "id": "40c0464d",
   "metadata": {},
   "source": [
    "#### 96. Dadas dos matrices, ¿Cómo extraer filas que sean únicas? (★★★)\n",
    "Given a two dimensional array, how to extract unique rows? (★★★)"
   ]
  },
  {
   "cell_type": "code",
   "execution_count": 142,
   "id": "9f55b907",
   "metadata": {},
   "outputs": [
    {
     "name": "stdout",
     "output_type": "stream",
     "text": [
      "Filas únicas:\n",
      "[[1 2 3]\n",
      " [1 3 3]\n",
      " [3 2 1]\n",
      " [4 5 6]\n",
      " [7 8 9]\n",
      " [9 8 7]]\n"
     ]
    }
   ],
   "source": [
    "matriz1=np.array([[1, 3, 3], [4, 5, 6], [7, 8, 9]])\n",
    "matriz2=np.array([[9, 8, 7], [1, 2, 3], [3, 2, 1]])\n",
    "\n",
    "\n",
    "combined_matrix = np.vstack((matriz1, matriz2))\n",
    "\n",
    "unique_rows = np.unique(combined_matrix, axis=0)\n",
    "\n",
    "print(\"Filas únicas:\")\n",
    "print(unique_rows)\n"
   ]
  },
  {
   "cell_type": "markdown",
   "id": "b1d15bbe",
   "metadata": {},
   "source": [
    "#### 97. Considere dos vectores A y B, escriba usando `eisum` el equivalente de las funciones `inner`, `sum`, `outer` y `mul` (★★★)\n",
    "Considering 2 vectors A & B, write the einsum equivalent of inner, outer, sum, and mul function (★★★)"
   ]
  },
  {
   "cell_type": "code",
   "execution_count": 143,
   "id": "dd5ac130",
   "metadata": {},
   "outputs": [
    {
     "name": "stdout",
     "output_type": "stream",
     "text": [
      "32\n",
      "[1 2 3]\n",
      "[[ 4  5  6]\n",
      " [ 8 10 12]\n",
      " [12 15 18]]\n",
      "[ 4 10 18]\n"
     ]
    }
   ],
   "source": [
    "A = np.array([1, 2, 3])\n",
    "B = np.array([4, 5, 6])\n",
    "\n",
    "inner_product = np.einsum('i,i', A, B)\n",
    "print(inner_product)  \n",
    "\n",
    "sum_all = np.einsum('i', A)\n",
    "print(sum_all) \n",
    "\n",
    "outer_product = np.einsum('i,j', A, B)\n",
    "print(outer_product)\n",
    "\n",
    "elementwise_product = np.einsum('i,i->i', A, B)\n",
    "print(elementwise_product) \n"
   ]
  },
  {
   "cell_type": "markdown",
   "id": "b45f57dd",
   "metadata": {},
   "source": [
    "#### 98. Considere un camino descrito por dos vectores (X,Y), ¿Cómo tomar muestras del mismo usando muestras equidistantes? (★★★)\n",
    "Considering a path described by two vectors (X,Y), how to sample it using equidistant samples (★★★)?"
   ]
  },
  {
   "cell_type": "code",
   "execution_count": 144,
   "id": "5fecd7ff",
   "metadata": {},
   "outputs": [
    {
     "name": "stdout",
     "output_type": "stream",
     "text": [
      "Muestras equidistantes en X: [ 0.          0.05669143  0.11338286  0.17007429  0.22676572  0.28345715\n",
      "  0.34014858  0.39684001  0.45353144  0.51022287  0.5669143   0.62360573\n",
      "  0.68029716  0.73698859  0.79368002  0.85037145  0.90706288  0.96375431\n",
      "  1.04089147  1.15427433  1.26765719  1.38104005  1.49442291  1.60780577\n",
      "  1.72118863  1.83457149  1.94795435  2.06133721  2.17472007  2.28810293\n",
      "  2.40148579  2.51486865  2.62825151  2.74163437  2.85501723  2.96840009\n",
      "  3.07607944  3.18155504  3.28703064  3.39250623  3.49798183  3.60345743\n",
      "  3.70893302  3.81440862  3.91988422  4.02535981  4.13083541  4.23631101\n",
      "  4.3417866   4.4472622   4.5527378   4.6582134   4.76368899  4.86916459\n",
      "  4.97464019  5.08011578  5.18559138  5.29106698  5.39654257  5.50201817\n",
      "  5.60749377  5.71296936  5.81844496  5.92392056  6.03159991  6.14498277\n",
      "  6.25836563  6.37174849  6.48513135  6.59851421  6.71189707  6.82527993\n",
      "  6.93866279  7.05204565  7.16542851  7.27881137  7.39219423  7.50557709\n",
      "  7.61895995  7.73234281  7.84572567  7.95910853  8.07249139  8.18587425\n",
      "  8.29925711  8.41263997  8.52602283  8.63940568  8.75278854  8.8661714\n",
      "  8.97955426  9.09293712  9.20631998  9.31970284  9.4330857   9.54646856\n",
      "  9.65985142  9.77323428  9.88661714 10.        ]\n",
      "Muestras equidistantes en Y: [0.         0.11338286 0.22676572 0.34014858 0.45353144 0.5669143\n",
      " 0.68029716 0.79368002 0.90706288 1.02044574 1.1338286  1.24721146\n",
      " 1.36059432 1.47397717 1.58736003 1.70074289 1.81412575 1.92750861\n",
      " 1.97955426 1.92286283 1.8661714  1.80947997 1.75278854 1.69609711\n",
      " 1.63940568 1.58271426 1.52602283 1.4693314  1.41263997 1.35594854\n",
      " 1.29925711 1.24256568 1.18587425 1.12918282 1.07249139 1.01579996\n",
      " 1.05071963 1.12103669 1.19135376 1.26167082 1.33198789 1.40230495\n",
      " 1.47262202 1.54293908 1.61325615 1.68357321 1.75389027 1.82420734\n",
      " 1.8945244  1.96484147 2.03515853 2.1054756  2.17579266 2.24610973\n",
      " 2.31642679 2.38674385 2.45706092 2.52737798 2.59769505 2.66801211\n",
      " 2.73832918 2.80864624 2.87896331 2.94928037 3.01579996 3.07249139\n",
      " 3.12918282 3.18587425 3.24256568 3.29925711 3.35594854 3.41263997\n",
      " 3.4693314  3.52602283 3.58271426 3.63940568 3.69609711 3.75278854\n",
      " 3.80947997 3.8661714  3.92286283 3.97955426 4.03624569 4.09293712\n",
      " 4.14962855 4.20631998 4.26301141 4.31970284 4.37639427 4.4330857\n",
      " 4.48977713 4.54646856 4.60315999 4.65985142 4.71654285 4.77323428\n",
      " 4.82992571 4.88661714 4.94330857 5.        ]\n"
     ]
    }
   ],
   "source": [
    "\n",
    "import numpy as np\n",
    "\n",
    "X = np.array([0, 1, 3, 6, 10])\n",
    "Y = np.array([0, 2, 1, 3, 5])  \n",
    "\n",
    "distances = np.sqrt(np.diff(X)**2 + np.diff(Y)**2)  \n",
    "accumulated_distances = np.concatenate(([0], np.cumsum(distances)))  \n",
    "\n",
    "num_samples = 100\n",
    "equidistant_distances = np.linspace(0, accumulated_distances[-1], num_samples)\n",
    "\n",
    "sampled_X = np.interp(equidistant_distances, accumulated_distances, X)\n",
    "sampled_Y = np.interp(equidistant_distances, accumulated_distances, Y)\n",
    "\n",
    "print(\"Muestras equidistantes en X:\", sampled_X)\n",
    "print(\"Muestras equidistantes en Y:\", sampled_Y)\n",
    "\n"
   ]
  },
  {
   "cell_type": "markdown",
   "id": "5d42ba48",
   "metadata": {},
   "source": [
    "#### 99. Dado un entero n y una matriz X, seleccione de X las filas que pueden ser interpretadas como extraídas de una distribución multinomial con n grados.\n",
    "Es decir las filas que contengan enteros y que suman n. (★★★)\n",
    "Given an integer n and a 2D array X, select from X the rows which can be interpreted as draws from a multinomial distribution with n degrees, \n",
    "i.e., the rows which only contain integers and which sum to n. (★★★)"
   ]
  },
  {
   "cell_type": "code",
   "execution_count": 145,
   "id": "9b105b36",
   "metadata": {},
   "outputs": [
    {
     "name": "stdout",
     "output_type": "stream",
     "text": [
      "[[1. 2. 2.]\n",
      " [3. 1. 1.]\n",
      " [2. 2. 1.]]\n"
     ]
    }
   ],
   "source": [
    "def select_multinomial_rows(n, X):\n",
    "    X = np.array(X)\n",
    "    \n",
    "    valid_rows = [row for row in X if np.sum(row) == n and np.all(np.floor(row) == row)]\n",
    "    \n",
    "    return np.array(valid_rows)\n",
    "\n",
    "n = 5\n",
    "X = [\n",
    "    [1, 2, 2],\n",
    "    [3, 1, 1],\n",
    "    [2, 2, 1],\n",
    "    [2.5, 2.5, 1],\n",
    "    [3, 3, 3]\n",
    "]\n",
    "\n",
    "result = select_multinomial_rows(n, X)\n",
    "print(result)\n"
   ]
  },
  {
   "cell_type": "markdown",
   "id": "73d16a5d",
   "metadata": {},
   "source": [
    "#### 100. Calcule con un intervalo de confianza del 95% el promedio de un vector X.\n",
    "(es decir, volver a muestrear los elementos ddel vector N veces, calcular la media de cada muestra y luego calcular percentiles sobre los promedios). (★★★)\n",
    "Compute bootstrapped 95% confidence intervals for the mean of a 1D array X \n",
    "(i.e., resample the elements of an array with replacement N times, compute the mean of each sample, and then compute percentiles over the means). (★★★)"
   ]
  },
  {
   "cell_type": "code",
   "execution_count": 146,
   "id": "d30e973b",
   "metadata": {},
   "outputs": [
    {
     "name": "stdout",
     "output_type": "stream",
     "text": [
      "Promedio de X: 3.7299999999999995\n",
      "Intervalo de confianza del 95% para la media: (3.2399999999999998, 4.220000000000001)\n"
     ]
    }
   ],
   "source": [
    "\n",
    "X = np.array([2.3, 3.1, 4.5, 2.8, 5.0, 3.3, 4.1, 3.7, 4.6, 3.9])\n",
    "\n",
    "\n",
    "N = 1000  \n",
    "alpha = 0.05  \n",
    "\n",
    "bootstrapped_means = np.empty(N)\n",
    "\n",
    "for i in range(N):\n",
    "    sample = np.random.choice(X, size=len(X), replace=True)\n",
    "    bootstrapped_means[i] = np.mean(sample)\n",
    "\n",
    "lower_percentile = np.percentile(bootstrapped_means, 100*alpha/2)\n",
    "upper_percentile = np.percentile(bootstrapped_means, 100*(1-alpha/2))\n",
    "\n",
    "\n",
    "print(f\"Promedio de X: {np.mean(X)}\")\n",
    "print(f\"Intervalo de confianza del 95% para la media: ({lower_percentile}, {upper_percentile})\")\n"
   ]
  }
 ],
 "metadata": {
  "kernelspec": {
   "display_name": "ANALITICA_DATOS",
   "language": "python",
   "name": "python3"
  },
  "language_info": {
   "codemirror_mode": {
    "name": "ipython",
    "version": 3
   },
   "file_extension": ".py",
   "mimetype": "text/x-python",
   "name": "python",
   "nbconvert_exporter": "python",
   "pygments_lexer": "ipython3",
   "version": "3.13.1"
  }
 },
 "nbformat": 4,
 "nbformat_minor": 5
}
