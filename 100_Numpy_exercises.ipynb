{
 "cells": [
  {
   "cell_type": "markdown",
   "id": "6127b436",
   "metadata": {},
   "source": [
    "# 100 ejercicios de numpy\n",
    "\n",
    "Esta es una colección de ejercicios recogidos de distintas fuentes como: numpy mailing list, stackoverflow Y\n",
    "documentación de numpy. El objetivo de esta colección es ofrecer material para el aprendizaje de numpy.\n",
    "\n",
    "Este repositorio es una traducción del español del repositorio original en ingles \n",
    "[Respositorio de rougier](https://github.com/rougier/numpy-100)."
   ]
  },
  {
   "cell_type": "markdown",
   "id": "aaa47323",
   "metadata": {},
   "source": [
    "Archivos generados de manera automática. Vea la documentación para cambiar preguntas/respuestas/ayudas (questions/answers/hints)"
   ]
  },
  {
   "cell_type": "markdown",
   "id": "aca32778",
   "metadata": {},
   "source": [
    "Ejecute `initialize.py`, para que puedas consultar la respuesta `answer(n)` y una ayuda\n",
    "`hint(n)` siendo `n` el número de la pregunta."
   ]
  },
  {
   "cell_type": "code",
   "execution_count": null,
   "id": "2e4eaf13",
   "metadata": {},
   "outputs": [],
   "source": [
    "\"!pip install mdutils"
   ]
  },
  {
   "cell_type": "code",
   "execution_count": null,
   "id": "db055d31",
   "metadata": {},
   "outputs": [],
   "source": [
    "%run initialise.py"
   ]
  },
  {
   "cell_type": "markdown",
   "id": "4aa1ecb2",
   "metadata": {},
   "source": [
    "#### 1. Importa el paquete `numpy` como `np` (★☆☆)"
   ]
  },
  {
   "cell_type": "code",
   "execution_count": 2,
   "id": "7ef70aea",
   "metadata": {},
   "outputs": [],
   "source": [
    "import numpy as  np"
   ]
  },
  {
   "cell_type": "markdown",
   "id": "443f2c16",
   "metadata": {},
   "source": [
    "#### 2. Imprima por pantalla la versión y la configuración de numpy (★☆☆)"
   ]
  },
  {
   "cell_type": "code",
   "execution_count": null,
   "id": "2ba3325b",
   "metadata": {},
   "outputs": [],
   "source": []
  },
  {
   "cell_type": "markdown",
   "id": "a3ae1145",
   "metadata": {},
   "source": [
    "#### 3. Cree un vector null de tamaño 10 (vector de zeros)(★☆☆)"
   ]
  },
  {
   "cell_type": "code",
   "execution_count": 10,
   "id": "6d22ad0e",
   "metadata": {},
   "outputs": [
    {
     "name": "stdout",
     "output_type": "stream",
     "text": [
      "[0. 0. 0. 0. 0. 0. 0. 0. 0. 0.]\n"
     ]
    }
   ],
   "source": [
    "\n",
    "vector_zeros=np.zeros(10)\n",
    "\n",
    "print(vector_zeros)"
   ]
  },
  {
   "cell_type": "markdown",
   "id": "876a1be7",
   "metadata": {},
   "source": [
    "#### 4. Como encuentra el tamaño en memoria de un array (★☆☆)"
   ]
  },
  {
   "cell_type": "code",
   "execution_count": null,
   "id": "01205f44",
   "metadata": {},
   "outputs": [],
   "source": []
  },
  {
   "cell_type": "markdown",
   "id": "7d7d2800",
   "metadata": {},
   "source": [
    "#### 5. ¿Cómo obtiene la documentación de numpy desde la terminal (comando de línea)? (★☆☆)"
   ]
  },
  {
   "cell_type": "code",
   "execution_count": null,
   "id": "7d4c6649",
   "metadata": {},
   "outputs": [],
   "source": [
    "\"\"\"\n",
    "python -m webbrowser -t \"https://numpy.org/doc/stable/\"\n",
    "\"\"\"\n"
   ]
  },
  {
   "cell_type": "markdown",
   "id": "2e235023",
   "metadata": {},
   "source": [
    "#### 6. Crea un vector de ceros de tamaño 10 cuyo valor en la quinta posición sea 1 (★☆☆)"
   ]
  },
  {
   "cell_type": "code",
   "execution_count": null,
   "id": "429c9f95",
   "metadata": {},
   "outputs": [],
   "source": []
  },
  {
   "cell_type": "markdown",
   "id": "89aab54a",
   "metadata": {},
   "source": [
    "#### 7. Crea un vector con sus valores contegan los números del 10 a 49 (★☆☆)"
   ]
  },
  {
   "cell_type": "code",
   "execution_count": 12,
   "id": "d19b1638",
   "metadata": {},
   "outputs": [
    {
     "data": {
      "text/plain": [
       "array([10, 11, 12, 13, 14, 15, 16, 17, 18, 19, 20, 21, 22, 23, 24, 25, 26,\n",
       "       27, 28, 29, 30, 31, 32, 33, 34, 35, 36, 37, 38, 39, 40, 41, 42, 43,\n",
       "       44, 45, 46, 47, 48])"
      ]
     },
     "execution_count": 12,
     "metadata": {},
     "output_type": "execute_result"
    }
   ],
   "source": [
    "array1= np.arange(10,50)\n",
    "array1"
   ]
  },
  {
   "cell_type": "markdown",
   "id": "6c73fed3",
   "metadata": {},
   "source": [
    "#### 8. Obrenga un vector invertido (el primer elemento se convierte en el último) (★☆☆)"
   ]
  },
  {
   "cell_type": "code",
   "execution_count": null,
   "id": "10441224",
   "metadata": {},
   "outputs": [],
   "source": []
  },
  {
   "cell_type": "markdown",
   "id": "1eaf72f9",
   "metadata": {},
   "source": [
    "#### 9. Crea una matriz 3x3 cuyos valores contengan lo números del 0 al 8 (★☆☆)"
   ]
  },
  {
   "cell_type": "code",
   "execution_count": 14,
   "id": "b0675cae",
   "metadata": {},
   "outputs": [
    {
     "name": "stdout",
     "output_type": "stream",
     "text": [
      "[[0 1 2]\n",
      " [3 4 5]\n",
      " [6 7 8]]\n"
     ]
    }
   ],
   "source": [
    "matriz = np.arange(9).reshape(3, 3)\n",
    "print(matriz)"
   ]
  },
  {
   "cell_type": "markdown",
   "id": "5e6b9f6f",
   "metadata": {},
   "source": [
    "#### 10. Encuentre los elementos cuyos índice no son cero [1,2,0,0,4,0] (★☆☆)"
   ]
  },
  {
   "cell_type": "code",
   "execution_count": null,
   "id": "2c527877",
   "metadata": {},
   "outputs": [],
   "source": []
  },
  {
   "cell_type": "markdown",
   "id": "492e5fa6",
   "metadata": {},
   "source": [
    "#### 11. Crea una matriz identidad de 3x3 (★☆☆)"
   ]
  },
  {
   "cell_type": "code",
   "execution_count": 15,
   "id": "b24fe0a5",
   "metadata": {},
   "outputs": [
    {
     "name": "stdout",
     "output_type": "stream",
     "text": [
      "[[1. 0. 0.]\n",
      " [0. 1. 0.]\n",
      " [0. 0. 1.]]\n"
     ]
    }
   ],
   "source": [
    "matriz_idetidad=np.eye(3)\n",
    "print(matriz_idetidad)"
   ]
  },
  {
   "cell_type": "markdown",
   "id": "dfc82bc2",
   "metadata": {},
   "source": [
    "#### 12. Crea un vector 3x3x3 con valores aleatorios (★☆☆)"
   ]
  },
  {
   "cell_type": "code",
   "execution_count": null,
   "id": "c13f0b94",
   "metadata": {},
   "outputs": [],
   "source": []
  },
  {
   "cell_type": "markdown",
   "id": "482b0b09",
   "metadata": {},
   "source": [
    "#### 13. Crea una matriz 10x10 con valores random y encuentra el valor máximo yel mínimo (★☆☆)"
   ]
  },
  {
   "cell_type": "code",
   "execution_count": 18,
   "id": "2714f0a0",
   "metadata": {},
   "outputs": [
    {
     "name": "stdout",
     "output_type": "stream",
     "text": [
      "[[0.62386512 0.61879938 0.23834105 0.22625021 0.15243596 0.22976398\n",
      "  0.68234512 0.95576295 0.88909172 0.44090308]\n",
      " [0.92155668 0.75997319 0.44733177 0.85241184 0.03962624 0.58035772\n",
      "  0.96990224 0.36321723 0.82045688 0.15030909]\n",
      " [0.27911235 0.75283612 0.3869647  0.38547931 0.3176889  0.18654188\n",
      "  0.86525452 0.66385976 0.47170421 0.38990923]\n",
      " [0.78903379 0.30446796 0.05296475 0.79791897 0.05998006 0.21168639\n",
      "  0.80726758 0.03108787 0.144962   0.22126146]\n",
      " [0.14965101 0.69951247 0.45790126 0.07875871 0.95424105 0.42223085\n",
      "  0.41698142 0.90551958 0.79664458 0.9473108 ]\n",
      " [0.63273622 0.92153665 0.86216172 0.72638378 0.52635025 0.34188656\n",
      "  0.8240675  0.89817234 0.27012595 0.37437831]\n",
      " [0.2345273  0.75594235 0.99103429 0.25929862 0.429304   0.04313238\n",
      "  0.33309987 0.82138388 0.98012634 0.64571853]\n",
      " [0.14470306 0.88558432 0.54974623 0.14332799 0.95889713 0.68017273\n",
      "  0.13764954 0.20892564 0.03445443 0.30748895]\n",
      " [0.56944063 0.65361263 0.17213076 0.1631261  0.01484457 0.56100672\n",
      "  0.10640023 0.372032   0.97320623 0.86704254]\n",
      " [0.89660111 0.63199576 0.48496203 0.53984126 0.43461086 0.25045128\n",
      "  0.75586491 0.60482786 0.70081434 0.59097513]]\n",
      "valor maximo es: 0.9910342948556313 y valor minimo es: 0.014844568334430819\n"
     ]
    }
   ],
   "source": [
    "matrixran=np.random.rand(10,10)\n",
    "valormax=np.max(matrixran)\n",
    "valormin=np.min(matrixran)\n",
    "print(matrixran)\n",
    "print(\"valor maximo es:\", valormax, \"y\", \"valor minimo es:\", valormin)"
   ]
  },
  {
   "cell_type": "markdown",
   "id": "813b15ef",
   "metadata": {},
   "source": [
    "#### 14. Crea un vector de tamaño 30 con valores aleatorios y encuentre el valor promedio (★☆☆)"
   ]
  },
  {
   "cell_type": "code",
   "execution_count": null,
   "id": "23464994",
   "metadata": {},
   "outputs": [],
   "source": []
  },
  {
   "cell_type": "markdown",
   "id": "6aa6eb2d",
   "metadata": {},
   "source": [
    "#### 15. Crea un vector 2D con los valores de 1 en el borde (es decir en la primera y última filas y columnas) con valores de 0 en el interior (★☆☆)"
   ]
  },
  {
   "cell_type": "code",
   "execution_count": 19,
   "id": "b6a47140",
   "metadata": {},
   "outputs": [
    {
     "name": "stdout",
     "output_type": "stream",
     "text": [
      "[[1. 1. 1. 1. 1.]\n",
      " [1. 0. 0. 0. 1.]\n",
      " [1. 0. 0. 0. 1.]\n",
      " [1. 0. 0. 0. 1.]\n",
      " [1. 1. 1. 1. 1.]]\n"
     ]
    }
   ],
   "source": [
    "vector_2d=np.ones((5,5))\n",
    "vector_2d[1:-1, 1:-1] = 0\n",
    "print(vector_2d)"
   ]
  },
  {
   "cell_type": "markdown",
   "id": "02ad9a2f",
   "metadata": {},
   "source": [
    "#### 16. ¿Cómo añadir un borde (llenado con ceros) a una matriz existente? (★☆☆)"
   ]
  },
  {
   "cell_type": "code",
   "execution_count": 2,
   "id": "6489d091",
   "metadata": {},
   "outputs": [
    {
     "name": "stdout",
     "output_type": "stream",
     "text": [
      "[[0. 0. 0. 0. 0. 0. 0.]\n",
      " [0. 1. 1. 1. 1. 1. 0.]\n",
      " [0. 1. 1. 1. 1. 1. 0.]\n",
      " [0. 1. 1. 1. 1. 1. 0.]\n",
      " [0. 1. 1. 1. 1. 1. 0.]\n",
      " [0. 1. 1. 1. 1. 1. 0.]\n",
      " [0. 0. 0. 0. 0. 0. 0.]]\n"
     ]
    }
   ],
   "source": []
  },
  {
   "cell_type": "markdown",
   "id": "2685b65f",
   "metadata": {},
   "source": [
    "#### 17. ¿Cuál es el resultado de la siguiente expresión? (★☆☆)\n",
    "```python\n",
    "0 * np.nan\n",
    "np.nan == np.nan\n",
    "np.inf > np.nan\n",
    "np.nan - np.nan\n",
    "np.nan in set([np.nan])\n",
    "0.3 == 3 * 0.1\n",
    "```"
   ]
  },
  {
   "cell_type": "code",
   "execution_count": 20,
   "id": "089530d2",
   "metadata": {},
   "outputs": [
    {
     "name": "stdout",
     "output_type": "stream",
     "text": [
      "nan\n",
      "False\n",
      "False\n",
      "nan\n",
      "True\n",
      "False\n"
     ]
    }
   ],
   "source": [
    "print(0* np.nan)\n",
    "print(np.nan== np.nan)\n",
    "print(np.inf >np.nan)\n",
    "print(np.nan - np.nan)\n",
    "print(np.nan in set([np.nan]))\n",
    "print(0.3== 3*0.1)"
   ]
  },
  {
   "cell_type": "markdown",
   "id": "8b94be83",
   "metadata": {},
   "source": [
    "#### 18. Crea una matriz 5x5 con valores 1,2,3,4 justo debajo de la diagonal (★☆☆)"
   ]
  },
  {
   "cell_type": "code",
   "execution_count": null,
   "id": "70902dbf",
   "metadata": {},
   "outputs": [],
   "source": []
  },
  {
   "cell_type": "markdown",
   "id": "abd5b0d8",
   "metadata": {},
   "source": [
    "#### 19. Crea una matriz 8x8 y llénelo con un patrón similar al del tablero de ajedrez (★☆☆)"
   ]
  },
  {
   "cell_type": "code",
   "execution_count": 40,
   "id": "76dca122",
   "metadata": {},
   "outputs": [
    {
     "name": "stdout",
     "output_type": "stream",
     "text": [
      "[[0. 1. 0. 1. 0. 1. 0. 1.]\n",
      " [1. 0. 1. 0. 1. 0. 1. 0.]\n",
      " [0. 1. 0. 1. 0. 1. 0. 1.]\n",
      " [1. 0. 1. 0. 1. 0. 1. 0.]\n",
      " [0. 1. 0. 1. 0. 1. 0. 1.]\n",
      " [1. 0. 1. 0. 1. 0. 1. 0.]\n",
      " [0. 1. 0. 1. 0. 1. 0. 1.]\n",
      " [1. 0. 1. 0. 1. 0. 1. 0.]]\n"
     ]
    }
   ],
   "source": [
    "matajedrez=np.ones((8,8))\n",
    "matajedrez[::2, ::2] = 0\n",
    "matajedrez[1::2, 1::2]=0\n",
    "print(matajedrez)"
   ]
  },
  {
   "cell_type": "markdown",
   "id": "78e646da",
   "metadata": {},
   "source": [
    "#### 20. Considere un array de dimensiones (6,7,8), ¿Cuáles son los índices (x,y,z) del 100vo elemento? (★☆☆)"
   ]
  },
  {
   "cell_type": "code",
   "execution_count": null,
   "id": "b42ad615",
   "metadata": {},
   "outputs": [],
   "source": []
  },
  {
   "cell_type": "markdown",
   "id": "60c210ac",
   "metadata": {},
   "source": [
    "#### 21. Cree algo similar a un tablero de ajedez usando la función `tile` (★☆☆)"
   ]
  },
  {
   "cell_type": "code",
   "execution_count": 41,
   "id": "3e4f2df1",
   "metadata": {},
   "outputs": [
    {
     "name": "stdout",
     "output_type": "stream",
     "text": [
      "[[1 0 1 0 1 0 1 0]\n",
      " [0 1 0 1 0 1 0 1]\n",
      " [1 0 1 0 1 0 1 0]\n",
      " [0 1 0 1 0 1 0 1]\n",
      " [1 0 1 0 1 0 1 0]\n",
      " [0 1 0 1 0 1 0 1]\n",
      " [1 0 1 0 1 0 1 0]\n",
      " [0 1 0 1 0 1 0 1]]\n"
     ]
    }
   ],
   "source": [
    "\n",
    "patron = np.array([[1, 0], [0, 1]])\n",
    "tabla= np.tile(patron, (4, 4))\n",
    "\n",
    "print(tabla)\n"
   ]
  },
  {
   "cell_type": "markdown",
   "id": "29b25584",
   "metadata": {},
   "source": [
    "#### 22. Normalice una matriz de 5x5 que contiene valores aleatorios (normalize los elementos usando la fórmula z-score) (★☆☆)"
   ]
  },
  {
   "cell_type": "code",
   "execution_count": null,
   "id": "43dd859c",
   "metadata": {},
   "outputs": [],
   "source": []
  },
  {
   "cell_type": "markdown",
   "id": "17664529",
   "metadata": {},
   "source": [
    "#### 23. Cree un tipo de dato especial (dtype) llamada color que pueda describir el color como cuatro números del tipo unsigned bytes (RGBA) (★☆☆)\n",
    "Create a custom dtype that describes a color as four unsigned bytes (RGBA) (★☆☆)"
   ]
  },
  {
   "cell_type": "code",
   "execution_count": 42,
   "id": "dd9c5eaa",
   "metadata": {},
   "outputs": [
    {
     "name": "stdout",
     "output_type": "stream",
     "text": [
      "[(255,   0,   0, 255) (  0, 255,   0, 255) (  0,   0, 255, 255)]\n"
     ]
    }
   ],
   "source": [
    "\n",
    "color_dtype = np.dtype([('r', np.uint8), ('g', np.uint8), ('b', np.uint8), ('a', np.uint8)])\n",
    "colores = np.array([(255, 0, 0, 255), (0, 255, 0, 255), (0, 0, 255, 255)], dtype=color_dtype)\n",
    "\n",
    "print(colores)\n"
   ]
  },
  {
   "cell_type": "markdown",
   "id": "93bf90d1",
   "metadata": {},
   "source": [
    "#### 24. Multiplique una matriz 5x3 y otra 3x2 (producto cruz) (★☆☆)"
   ]
  },
  {
   "cell_type": "code",
   "execution_count": null,
   "id": "51dca15d",
   "metadata": {},
   "outputs": [],
   "source": []
  },
  {
   "cell_type": "markdown",
   "id": "f661e300",
   "metadata": {},
   "source": [
    "#### 25. Dado un array 1D, multiplica por (-1) todos los elementos que esten en el rango 3 a 8 (★☆☆)\n",
    "Given a 1D array, negate all elements which are between 3 and 8, in place. (★☆☆)"
   ]
  },
  {
   "cell_type": "code",
   "execution_count": 43,
   "id": "30a2a4a3",
   "metadata": {},
   "outputs": [
    {
     "name": "stdout",
     "output_type": "stream",
     "text": [
      "[ 1  2 -3 -4 -5 -6 -7 -8  9 10]\n"
     ]
    }
   ],
   "source": [
    "\n",
    "arr = np.array([1, 2, 3, 4, 5, 6, 7, 8, 9, 10])\n",
    "\n",
    "arr[(arr >= 3) & (arr <= 8)] *= -1\n",
    "\n",
    "print(arr)\n"
   ]
  },
  {
   "cell_type": "markdown",
   "id": "02bd80b4",
   "metadata": {},
   "source": [
    "#### 26. ¿Cuál es resulatdo de la ejecución del siguiente script? (★☆☆)\n",
    "```python\n",
    "# Autor: Jake VanderPlas\n",
    "\n",
    "print(sum(range(5),-1))\n",
    "from numpy import *\n",
    "print(sum(range(5),-1))\n",
    "```"
   ]
  },
  {
   "cell_type": "code",
   "execution_count": null,
   "id": "c83e4192",
   "metadata": {},
   "outputs": [],
   "source": []
  },
  {
   "cell_type": "markdown",
   "id": "b3f11663",
   "metadata": {},
   "source": [
    "#### 27. Considere un vector de enteros Z, ¿Cuál de las siguientes expresiones son válidas?\n",
    "Consider an integer vector Z, which of these expressions are legal? (★☆☆)\n",
    "```python\n",
    "Z**Z\n",
    "2 << Z >> 2\n",
    "Z <- Z\n",
    "1j*Z\n",
    "Z/1/1\n",
    "Z<Z>Z\n",
    "```"
   ]
  },
  {
   "cell_type": "code",
   "execution_count": 47,
   "id": "718b8204",
   "metadata": {},
   "outputs": [
    {
     "data": {
      "text/plain": [
       "\"'\\nZ**Z ---- legal\\n2 << Z >> 2 ----legal \\nZ <- Z ---- no legal\\n1j*Z --- legal\\nZ/1/1 --- legal\\nZ<Z>Z --- no legal\\n\""
      ]
     },
     "execution_count": 47,
     "metadata": {},
     "output_type": "execute_result"
    }
   ],
   "source": [
    "''''\n",
    "Z**Z ---- legal\n",
    "2 << Z >> 2 ----legal \n",
    "Z <- Z ---- no legal\n",
    "1j*Z --- legal\n",
    "Z/1/1 --- legal\n",
    "Z<Z>Z --- no legal\n",
    "'''"
   ]
  },
  {
   "cell_type": "markdown",
   "id": "862f62f8",
   "metadata": {},
   "source": [
    "#### 28. ¿Cuál es el resultado de las siguientes operaciones? (★☆☆)\n",
    "```python\n",
    "np.array(0) / np.array(0)\n",
    "np.array(0) // np.array(0)\n",
    "np.array([np.nan]).astype(int).astype(float)\n",
    "```"
   ]
  },
  {
   "cell_type": "code",
   "execution_count": null,
   "id": "630da14f",
   "metadata": {},
   "outputs": [],
   "source": []
  },
  {
   "cell_type": "markdown",
   "id": "51414d80",
   "metadata": {},
   "source": [
    "#### 29. ¿Cómo redondear alejado de cero en un vector con valores tipo float? (★☆☆)\n",
    "Es decir que si n = -0.12  redondear a -1 y si n = 1.2 redondear a 2\n",
    "How to round away from zero a float array ? (★☆☆)"
   ]
  },
  {
   "cell_type": "code",
   "execution_count": 45,
   "id": "982b70a3",
   "metadata": {},
   "outputs": [
    {
     "name": "stdout",
     "output_type": "stream",
     "text": [
      "[ 8.  4.  6.  8.  4. 10. 10.  3.  5.  8.]\n"
     ]
    }
   ],
   "source": [
    "\n",
    "\n",
    "arr = np.random.uniform(0, 10, size=10)\n",
    "\n",
    "redondiar = np.copysign(np.ceil(np.abs(arr)), arr)\n",
    "\n",
    "print(redondiar)\n"
   ]
  },
  {
   "cell_type": "markdown",
   "id": "823654ad",
   "metadata": {},
   "source": [
    "#### 30. ¿Cómo encontrar valores comunes entre dos vectores? (★☆☆)"
   ]
  },
  {
   "cell_type": "code",
   "execution_count": null,
   "id": "6582ad1b",
   "metadata": {},
   "outputs": [],
   "source": []
  },
  {
   "cell_type": "markdown",
   "id": "8339b8bb",
   "metadata": {},
   "source": [
    "#### 31. ¿Cómo ignorar todos los mensajes de warning de numpy (no recomendado)? (★☆☆)"
   ]
  },
  {
   "cell_type": "code",
   "execution_count": 46,
   "id": "bddeed4b",
   "metadata": {},
   "outputs": [],
   "source": [
    "import warnings\n",
    "warnings.filterwarnings('ignore')"
   ]
  },
  {
   "cell_type": "markdown",
   "id": "c482e7f4",
   "metadata": {},
   "source": [
    "#### 32. ¿Es la siguiente expresión verdadera (True)? (★☆☆)\n",
    "```python\n",
    "np.sqrt(-1) == np.emath.sqrt(-1)\n",
    "```"
   ]
  },
  {
   "cell_type": "code",
   "execution_count": null,
   "id": "cd389cd3",
   "metadata": {},
   "outputs": [],
   "source": []
  },
  {
   "cell_type": "markdown",
   "id": "5080a30f",
   "metadata": {},
   "source": [
    "#### 33. ¿Cómo obtener las fechas de ayer, hoy y mañana? (★☆☆)"
   ]
  },
  {
   "cell_type": "code",
   "execution_count": 48,
   "id": "b931b8af",
   "metadata": {},
   "outputs": [
    {
     "name": "stdout",
     "output_type": "stream",
     "text": [
      "Ayer: 2025-01-29\n",
      "Hoy: 2025-01-30\n",
      "Mañana: 2025-01-31\n"
     ]
    }
   ],
   "source": [
    "from datetime import datetime, timedelta\n",
    "\n",
    "hoy = datetime.today()\n",
    "\n",
    "ayer = hoy - timedelta(days=1)\n",
    "mañana = hoy + timedelta(days=1)\n",
    "\n",
    "print(\"Ayer:\", ayer.strftime('%Y-%m-%d'))\n",
    "print(\"Hoy:\", hoy.strftime('%Y-%m-%d'))\n",
    "print(\"Mañana:\", mañana.strftime('%Y-%m-%d'))\n"
   ]
  },
  {
   "cell_type": "markdown",
   "id": "967930f6",
   "metadata": {},
   "source": [
    "#### 34. ¿Cómo obtener todas la fechas correspondientes al mes de Julio del 2016? (★★☆)"
   ]
  },
  {
   "cell_type": "code",
   "execution_count": null,
   "id": "90a9d723",
   "metadata": {},
   "outputs": [],
   "source": []
  },
  {
   "cell_type": "markdown",
   "id": "f333fc43",
   "metadata": {},
   "source": [
    "#### 35. ¿Cómo calcular ((A+B)*(-A/2)) (sin usar la función `copy`)?\n",
    "How to compute ((A+B)*(-A/2)) in place (without copy)? (★★☆)"
   ]
  },
  {
   "cell_type": "code",
   "execution_count": 49,
   "id": "e75cd9b5",
   "metadata": {},
   "outputs": [
    {
     "name": "stdout",
     "output_type": "stream",
     "text": [
      "-75.0\n"
     ]
    }
   ],
   "source": [
    "A = 10  \n",
    "B = 5   \n",
    "\n",
    "resultado = (A + B) * (-A / 2)\n",
    "\n",
    "print(resultado)\n"
   ]
  },
  {
   "cell_type": "markdown",
   "id": "0d3d1801",
   "metadata": {},
   "source": [
    "#### 36. Extraiga la parte entera de valores positivos de un vector que contenga valores aleatorios, usando 4 diferentes métodos (★★☆)\n",
    "Extract the integer part of a random array of positive numbers using 4 different methods (★★☆)"
   ]
  },
  {
   "cell_type": "code",
   "execution_count": null,
   "id": "95c0dc42",
   "metadata": {},
   "outputs": [],
   "source": []
  },
  {
   "cell_type": "markdown",
   "id": "68e50609",
   "metadata": {},
   "source": [
    "#### 37. Crea una matriz 5x5 con sus valores dentro del rango 0 - 4 (★★☆)\n",
    "Create a 5x5 matrix with row values ranging from 0 to 4 (★★☆)"
   ]
  },
  {
   "cell_type": "code",
   "execution_count": 53,
   "id": "305bfd4a",
   "metadata": {},
   "outputs": [
    {
     "name": "stdout",
     "output_type": "stream",
     "text": [
      "[[2 2 4 4 1]\n",
      " [4 2 2 0 0]\n",
      " [1 0 1 3 2]\n",
      " [2 4 3 3 4]\n",
      " [1 0 2 2 0]]\n"
     ]
    }
   ],
   "source": [
    "matrizrango=np.random.randint(0,5, size=(5,5))\n",
    "print(matrizrango)"
   ]
  },
  {
   "cell_type": "markdown",
   "id": "e910f5d2",
   "metadata": {},
   "source": [
    "#### 38. Cree una función que use \"yield\" para obtener 10 números enteros y use la función para construir un array(★☆☆)\n",
    "Consider a generator function that generates 10 integers and use it to build an array (★☆☆)"
   ]
  },
  {
   "cell_type": "code",
   "execution_count": null,
   "id": "69661e10",
   "metadata": {},
   "outputs": [],
   "source": []
  },
  {
   "cell_type": "markdown",
   "id": "f75ce1c9",
   "metadata": {},
   "source": [
    "#### 39. Cree un vector de tamaño 10 con los valores en el rango 0 a 1 (0 y 1 excluidos). (★★☆)"
   ]
  },
  {
   "cell_type": "code",
   "execution_count": 54,
   "id": "61e89688",
   "metadata": {},
   "outputs": [
    {
     "name": "stdout",
     "output_type": "stream",
     "text": [
      "[0.4735968  0.4419702  0.55882604 0.27128582 0.66325191 0.66293095\n",
      " 0.32542338 0.31107458 0.62969909 0.47187401]\n"
     ]
    }
   ],
   "source": [
    "vectortime = np.random.uniform(0, 1, 10)\n",
    "print(vectortime)\n"
   ]
  },
  {
   "cell_type": "markdown",
   "id": "9ef16c80",
   "metadata": {},
   "source": [
    "#### 40. Cree un vector de tamaño 10 con valores aleatorios, luego ordénelos (★★☆)."
   ]
  },
  {
   "cell_type": "code",
   "execution_count": null,
   "id": "5cd36622",
   "metadata": {},
   "outputs": [],
   "source": []
  },
  {
   "cell_type": "markdown",
   "id": "ca45295e",
   "metadata": {},
   "source": [
    "#### 41. ¿Cómo se sumaría un pequeño vector de manera que lo haga más rapidamente que usando la función np.sum? (★★☆)"
   ]
  },
  {
   "cell_type": "code",
   "execution_count": 55,
   "id": "68e1ff15",
   "metadata": {},
   "outputs": [
    {
     "name": "stdout",
     "output_type": "stream",
     "text": [
      "3.0979318860067275\n"
     ]
    }
   ],
   "source": [
    "vector = np.random.uniform(0, 1, 10)\n",
    "suma = vector @ np.ones(len(vector))  \n",
    "\n",
    "print(suma)\n"
   ]
  },
  {
   "cell_type": "markdown",
   "id": "357b9c71",
   "metadata": {},
   "source": [
    "#### 42. Considere 2 vectores A y B ¿Cómo verifica que son iguales? (★★☆)\n",
    "Consider two random array A and B, check if they are equal"
   ]
  },
  {
   "cell_type": "code",
   "execution_count": null,
   "id": "2ec5e444",
   "metadata": {},
   "outputs": [],
   "source": []
  },
  {
   "cell_type": "markdown",
   "id": "1e170053",
   "metadata": {},
   "source": [
    "#### 43. Cree un vector inmutable (de sólo lectura) (★★☆)\n",
    "Make an array immutable (read-only)"
   ]
  },
  {
   "cell_type": "code",
   "execution_count": 57,
   "id": "225cee58",
   "metadata": {},
   "outputs": [
    {
     "name": "stdout",
     "output_type": "stream",
     "text": [
      "(1, 2, 3, 4, 5)\n"
     ]
    }
   ],
   "source": [
    "arr = (1, 2, 3, 4, 5) \n",
    "print(arr)\n"
   ]
  },
  {
   "cell_type": "markdown",
   "id": "32633db1",
   "metadata": {},
   "source": [
    "#### 44. Cree una maetriz 10x2 con elementos aleatorios,representando coordenadas cartesianas, conviertalas a coordenadas polares (★★☆)."
   ]
  },
  {
   "cell_type": "code",
   "execution_count": null,
   "id": "b2f15343",
   "metadata": {},
   "outputs": [],
   "source": []
  },
  {
   "cell_type": "markdown",
   "id": "2c17e9ac",
   "metadata": {},
   "source": [
    "#### 45. Crea un vector con 10 elementos aleatorios y reemplace el valor máximo con 0 (★★☆)"
   ]
  },
  {
   "cell_type": "code",
   "execution_count": 60,
   "id": "832dd8b0",
   "metadata": {},
   "outputs": [
    {
     "name": "stdout",
     "output_type": "stream",
     "text": [
      "Vector original: [75 89 63 68 55 25 55 58 50 49]\n",
      "Vector modificado: [75  0 63 68 55 25 55 58 50 49]\n"
     ]
    }
   ],
   "source": [
    "vector = np.random.randint(1, 101, size=10)\n",
    "print(\"Vector original:\", vector)\n",
    "max_index = np.argmax(vector)\n",
    "vector[max_index] = 0\n",
    "print(\"Vector modificado:\", vector)\n"
   ]
  },
  {
   "cell_type": "markdown",
   "id": "30cedd8a",
   "metadata": {},
   "source": [
    "#### 46. Crea un vector structurado (structured array) con `x` e `y` como coordenadas, que generen un grilla (meshgrid) en el área [0, 1]x[0, 1] (★★☆)\n",
    "Create a structured array with `x` and `y` coordinates covering the [0,1]x[0,1] area"
   ]
  },
  {
   "cell_type": "code",
   "execution_count": null,
   "id": "02944036",
   "metadata": {},
   "outputs": [],
   "source": []
  },
  {
   "cell_type": "markdown",
   "id": "8d429017",
   "metadata": {},
   "source": [
    "#### 47. Dados dos vectores, X, e Y, construya la matriz de Cauchy C (Cij =1/(xi - yj)) (★★☆)"
   ]
  },
  {
   "cell_type": "code",
   "execution_count": 3,
   "id": "f7caed0a",
   "metadata": {},
   "outputs": [
    {
     "name": "stdout",
     "output_type": "stream",
     "text": [
      "[[-0.33333333 -0.25       -0.2       ]\n",
      " [-0.5        -0.33333333 -0.25      ]\n",
      " [-1.         -0.5        -0.33333333]]\n"
     ]
    }
   ],
   "source": [
    "def matriz_cauchy(X, Y):\n",
    "    X = np.array(X, dtype=float)\n",
    "    Y = np.array(Y, dtype=float)\n",
    "\n",
    "    if len(X) != len(Y):\n",
    "        raise ValueError(\"Los vectores X e Y deben tener la misma longitud\")\n",
    "\n",
    "    C = 1 / (X[:, np.newaxis] - Y) \n",
    "    return C\n",
    "\n",
    "\n",
    "X = [1, 2, 3]\n",
    "Y = [4, 5, 6]\n",
    "C = matriz_cauchy(X, Y)\n",
    "print(C)\n"
   ]
  },
  {
   "cell_type": "markdown",
   "id": "a6347b8c",
   "metadata": {},
   "source": [
    "#### 48. Imprima el máximo y mínimo valor representable para un tipo de datos de numpy escalar (★★☆)"
   ]
  },
  {
   "cell_type": "code",
   "execution_count": null,
   "id": "af033ec5",
   "metadata": {},
   "outputs": [],
   "source": []
  },
  {
   "cell_type": "markdown",
   "id": "c1db9b74",
   "metadata": {},
   "source": [
    "#### 49. ¿Cómo imprimir todos los valores de un vector? (★★☆)\n",
    "(Recuerde que cuando el vector es muy grade numpy suele mostrarlos en secciones o sólo una parte)"
   ]
  },
  {
   "cell_type": "code",
   "execution_count": null,
   "id": "e63c17ce",
   "metadata": {},
   "outputs": [],
   "source": [
    "vector = [1, 2, 3, 4, 5]\n",
    "print(vector) \n"
   ]
  },
  {
   "cell_type": "markdown",
   "id": "6c08afc4",
   "metadata": {},
   "source": [
    "#### 50. ¿Cómo encontrar el valor más cercano a un valor(valor escalar) en un vector? (★★☆)"
   ]
  },
  {
   "cell_type": "code",
   "execution_count": null,
   "id": "d2c9a3cc",
   "metadata": {},
   "outputs": [],
   "source": []
  },
  {
   "cell_type": "markdown",
   "id": "f0560f6d",
   "metadata": {},
   "source": [
    "#### 51. Crea un vector estructurada (structured array) representado la posición (x, y) y el color (r, g, b) (★★☆)"
   ]
  },
  {
   "cell_type": "code",
   "execution_count": 4,
   "id": "8a63f92e",
   "metadata": {},
   "outputs": [
    {
     "name": "stdout",
     "output_type": "stream",
     "text": [
      "Primer elemento: ((10.5, 20.0), (255, 0, 0))\n",
      "Posición del segundo elemento: (5.2, 15.3)\n",
      "Color del tercer elemento: (0, 0, 255)\n"
     ]
    }
   ],
   "source": [
    "dtype = np.dtype([('pos', [('x', 'f4'), ('y', 'f4')]),  \n",
    "                  ('color', [('r', 'u1'), ('g', 'u1'), ('b', 'u1')])]) \n",
    "\n",
    "vector = np.array([((10.5, 20.0), (255, 0, 0)), \n",
    "                   ((5.2, 15.3), (0, 255, 0)),   \n",
    "                   ((8.7, 12.1), (0, 0, 255))],  \n",
    "                 dtype=dtype)\n",
    "\n",
    "print(\"Primer elemento:\", vector[0])\n",
    "print(\"Posición del segundo elemento:\", vector[1]['pos'])\n",
    "print(\"Color del tercer elemento:\", vector[2]['color'])\n"
   ]
  },
  {
   "cell_type": "markdown",
   "id": "d046a984",
   "metadata": {},
   "source": [
    "#### 52. Considere un vector de elementos aleatorios, de dimensiones 100x2, representado coordenadas (x, y), encuentre las distancias de entre todos los puntos en una matriz 100x100 (★★☆)"
   ]
  },
  {
   "cell_type": "code",
   "execution_count": null,
   "id": "beba3641",
   "metadata": {},
   "outputs": [],
   "source": []
  },
  {
   "cell_type": "markdown",
   "id": "6990348e",
   "metadata": {},
   "source": [
    "#### 53. ¿Cómo convertir un vector de float(32 bits) a un vector entero (32 bits) ?"
   ]
  },
  {
   "cell_type": "code",
   "execution_count": 3,
   "id": "3cf02c6f",
   "metadata": {},
   "outputs": [
    {
     "name": "stdout",
     "output_type": "stream",
     "text": [
      "[ 1  2 -3  4  5]\n"
     ]
    }
   ],
   "source": [
    "vectorfloat = np.array([1.7, 2.3, -3.8, 4.9, 5.2], dtype=np.float32)\n",
    "vectorint=vectorfloat.astype(np.int32)\n",
    "print(vectorint)"
   ]
  },
  {
   "cell_type": "markdown",
   "id": "62dfe688",
   "metadata": {},
   "source": [
    "#### 54. ¿Cómo podrías convertir el siguiente texto en una matriz de numpy? (★★☆)\n",
    "```\n",
    "1, 2, 3, 4, 5\n",
    "6,  ,  , 7, 8\n",
    " ,  , 9,10,11\n",
    "```"
   ]
  },
  {
   "cell_type": "code",
   "execution_count": null,
   "id": "69d1eb6c",
   "metadata": {},
   "outputs": [],
   "source": []
  },
  {
   "cell_type": "markdown",
   "id": "969da086",
   "metadata": {},
   "source": [
    "#### 55. ¿Cuál es el equivalente de la función `enumerate` para vectores numpy? (★★☆)"
   ]
  },
  {
   "cell_type": "markdown",
   "id": "836250f5",
   "metadata": {},
   "source": [
    "vector = np.array([10, 20, 30, 40])\n",
    "\n",
    "for idx, value in np.ndenumerate(vector):\n",
    "    print(f\"Índice: {idx[0]}, Valor: {value}\")\n"
   ]
  },
  {
   "cell_type": "markdown",
   "id": "2652a58e",
   "metadata": {},
   "source": [
    "#### 56. Genera una matriz 2d tipo campana de Gauss (sigma = 1, mu = 0) (2D Gaussian-like array) (★★☆)"
   ]
  },
  {
   "cell_type": "code",
   "execution_count": null,
   "id": "9aba75b9",
   "metadata": {},
   "outputs": [],
   "source": []
  },
  {
   "cell_type": "markdown",
   "id": "2d6d32df",
   "metadata": {},
   "source": [
    "#### 57. ¿Cómo poner aleatoriamente p elementos en un array 2d? (★★☆)"
   ]
  },
  {
   "cell_type": "code",
   "execution_count": 6,
   "id": "e625949d",
   "metadata": {},
   "outputs": [
    {
     "name": "stdout",
     "output_type": "stream",
     "text": [
      "[[1 0 0 0 0]\n",
      " [1 0 1 0 0]\n",
      " [1 0 0 0 0]\n",
      " [0 0 1 0 0]\n",
      " [0 0 0 0 0]]\n"
     ]
    }
   ],
   "source": [
    "filas, columnas = 5, 5\n",
    "p = 5  \n",
    "array = np.zeros((filas, columnas), dtype=int)\n",
    "indices = np.random.choice(filas * columnas, p, replace=False)\n",
    "fila_idx, col_idx = np.unravel_index(indices, (filas, columnas))\n",
    "\n",
    "array[fila_idx, col_idx] = 1\n",
    "\n",
    "print(array)\n"
   ]
  },
  {
   "cell_type": "markdown",
   "id": "768d69fd",
   "metadata": {},
   "source": [
    "#### 58. Dada una matriz, resta a cada elemento de una fila el promedio de la fila (★★☆)\n",
    "Subtract the mean of each row of a matrix (★★☆)"
   ]
  },
  {
   "cell_type": "code",
   "execution_count": null,
   "id": "2c2cd71b",
   "metadata": {},
   "outputs": [],
   "source": []
  },
  {
   "cell_type": "markdown",
   "id": "4bd66493",
   "metadata": {},
   "source": [
    "#### 59. ¿Cómo ordenar una matriz teniendo como referencia la n ava columna? (★★☆)\n",
    "How to sort an array by the nth column? (★★☆)"
   ]
  },
  {
   "cell_type": "code",
   "execution_count": 8,
   "id": "020b8efc",
   "metadata": {},
   "outputs": [
    {
     "name": "stdout",
     "output_type": "stream",
     "text": [
      "[[7 1 3]\n",
      " [3 2 5]\n",
      " [1 4 2]]\n"
     ]
    }
   ],
   "source": [
    "matriz = np.array([\n",
    "    [3, 2, 5],\n",
    "    [1, 4, 2],\n",
    "    [7, 1, 3]\n",
    "])\n",
    "n = 1  \n",
    "matriz_ordenada = matriz[matriz[:, n].argsort()]\n",
    "\n",
    "print(matriz_ordenada)\n"
   ]
  },
  {
   "cell_type": "markdown",
   "id": "2deeda53",
   "metadata": {},
   "source": [
    "#### 60. ¿Cómo averiguar si una matriz tiene columnas nulas? (★★☆)"
   ]
  },
  {
   "cell_type": "code",
   "execution_count": null,
   "id": "68d971e2",
   "metadata": {},
   "outputs": [],
   "source": []
  },
  {
   "cell_type": "markdown",
   "id": "768838bd",
   "metadata": {},
   "source": [
    "#### 61. Encuentre el valor más cercano a un valor dado en un vector (★★☆)"
   ]
  },
  {
   "cell_type": "code",
   "execution_count": 9,
   "id": "b78f5779",
   "metadata": {},
   "outputs": [
    {
     "name": "stdout",
     "output_type": "stream",
     "text": [
      "El valor más cercano a 38 es 35\n"
     ]
    }
   ],
   "source": [
    "vector = np.array([10, 20, 35, 50, 65, 80])\n",
    "valor_dado = 38\n",
    "indice_cercano = np.abs(vector - valor_dado).argmin()\n",
    "valor_mas_cercano = vector[indice_cercano]\n",
    "\n",
    "print(f\"El valor más cercano a {valor_dado} es {valor_mas_cercano}\")\n"
   ]
  },
  {
   "cell_type": "markdown",
   "id": "8c9c7575",
   "metadata": {},
   "source": [
    "#### 62. Considere 2 arrays con dimensiones (1, 3) y (3, 1), ¿Cómo calcular su suma usando un iterador? (★★☆)\n",
    "Considering two arrays with shape (1,3) and (3,1), how to compute their sum using an iterator? (★★☆)"
   ]
  },
  {
   "cell_type": "code",
   "execution_count": null,
   "id": "c6591790",
   "metadata": {},
   "outputs": [],
   "source": []
  },
  {
   "cell_type": "markdown",
   "id": "f265a826",
   "metadata": {},
   "source": [
    "#### 63. Crea un clase vector (vector class) que tenga name como atributo (★★☆)\n",
    "Create an array class that has a name attribute (★★☆)"
   ]
  },
  {
   "cell_type": "code",
   "execution_count": null,
   "id": "6cc8dd63",
   "metadata": {},
   "outputs": [],
   "source": [
    "class Vector:\n",
    "    def __init__(self, name, values):\n",
    "        self.name = name\n",
    "        self.values = list(values) \n",
    "    def __repr__(self):\n",
    "        return f\"Vector('{self.name}', {self.values})\"\n",
    "\n",
    "    def magnitude(self):\n",
    "        return sum(x**2 for x in self.values) ** 0.5\n",
    "\n",
    "    def normalize(self):\n",
    "        mag = self.magnitude()\n",
    "        if mag == 0:\n",
    "            return Vector(self.name + \"_norm\", [0] * len(self.values))\n",
    "        return Vector(self.name + \"_norm\", [x / mag for x in self.values])\n",
    "    \n",
    "    def dot(self, other):\n",
    "        \"\"\" Calcula el producto punto con otro vector. \"\"\"\n",
    "        if len(self.values) != len(other.values):\n",
    "            raise ValueError(\"Los vectores deben tener la misma dimensión.\")\n",
    "        return sum(x * y for x, y in zip(self.values, other.values))\n"
   ]
  },
  {
   "cell_type": "markdown",
   "id": "2afd8343",
   "metadata": {},
   "source": [
    "#### 64. Dado un vector Z, ¿Cómo añadir 1 a cada elemento en las posiciones dadas por otro vector I? (tenga cuidado con los índices repetidos) (★★★)\n",
    "Consider a given vector, how to add 1 to each element indexed by a second vector (be careful with repeated indices)? (★★★)"
   ]
  },
  {
   "cell_type": "code",
   "execution_count": null,
   "id": "e5504e4b",
   "metadata": {},
   "outputs": [],
   "source": []
  },
  {
   "cell_type": "markdown",
   "id": "55be5887",
   "metadata": {},
   "source": [
    "#### 65. ¿Cómo acumular (sumar) los elementos de un vector X en un vector F de acuerdo a un vector de posiciones I? (★★★)\n",
    "```python\n",
    "X = [1,2,3,4,5,6]\n",
    "I = [1,3,9,3,4,1]\n",
    "# Resultado F = [0, 7, 0, 6, 5, 0, 0, 0, 0, 3]\n",
    "```"
   ]
  },
  {
   "cell_type": "code",
   "execution_count": 10,
   "id": "adf943ce",
   "metadata": {},
   "outputs": [
    {
     "name": "stdout",
     "output_type": "stream",
     "text": [
      "[0 7 0 6 5 0 0 0 0 3]\n"
     ]
    }
   ],
   "source": [
    "X = np.array([1, 2, 3, 4, 5, 6])\n",
    "I = np.array([1, 3, 9, 3, 4, 1])\n",
    "F = np.zeros(I.max() + 1, dtype=int)\n",
    "np.add.at(F, I, X)\n",
    "print(F) \n"
   ]
  },
  {
   "cell_type": "markdown",
   "id": "294e4ac8",
   "metadata": {},
   "source": [
    "#### 66. Considere un numpy array de dimensiones (w, h, 3) que representa una imagen, calcule el número de colores únicos (★★☆)\n",
    "Considering a (w,h,3) image of (dtype=ubyte), compute the number of unique colors (★★☆)"
   ]
  },
  {
   "cell_type": "code",
   "execution_count": null,
   "id": "f0b798da",
   "metadata": {},
   "outputs": [],
   "source": []
  },
  {
   "cell_type": "markdown",
   "id": "14b2e3cd",
   "metadata": {},
   "source": [
    "#### 67. Considere un array de 4 dimensiones, ¿Cómo obtener la suma de las dos últimas dimensiones ó ejes? (★★★)\n",
    "Considering a four dimensions array, how to get sum over the last two axis at once? (★★★)"
   ]
  },
  {
   "cell_type": "code",
   "execution_count": 12,
   "id": "9bb70854",
   "metadata": {},
   "outputs": [
    {
     "name": "stdout",
     "output_type": "stream",
     "text": [
      "Forma original del array: (2, 3, 4, 5)\n",
      "Resultado después de sumar: (2, 3)\n",
      "[[100 105  98]\n",
      " [125 113 104]]\n"
     ]
    }
   ],
   "source": [
    "A = np.random.randint(1, 10, (2, 3, 4, 5))\n",
    "resultado = np.sum(A, axis=(-2, -1))\n",
    "\n",
    "print(\"Forma original del array:\", A.shape) \n",
    "print(\"Resultado después de sumar:\", resultado.shape)  \n",
    "print(resultado)\n"
   ]
  },
  {
   "cell_type": "markdown",
   "id": "d7e6d420",
   "metadata": {},
   "source": [
    "#### 68. Considere un vector unidimensional D, ¿cómo calcular los promedios de los subsets de D, si se tienen un vector S del mismo tamaño describiendo los índices de las posiciones de las cuáles deben obtenerse los promedios?(★★★)\n",
    "```python\n",
    "# Sea por ejemplo D\n",
    "D = [0.3, 0.5, 0.2, 0.7, 1., -0.6]\n",
    "# y S\n",
    "S = [0, 1, 1, 2, 2, 2]\n",
    "# El vector de los promedios será\n",
    "R = [0.3, 0.35, 0.36667]\n",
    "```"
   ]
  },
  {
   "cell_type": "code",
   "execution_count": null,
   "id": "fc3f387d",
   "metadata": {},
   "outputs": [],
   "source": []
  },
  {
   "cell_type": "markdown",
   "id": "02e331a8",
   "metadata": {},
   "source": [
    "#### 69. ¿Cómo obtener la diagonal de una matriz que es resultado de la operación entre dos matrices `np.dot(A, B)`? Use las matrices A y B para su respuesta.(★★★)"
   ]
  },
  {
   "cell_type": "code",
   "execution_count": 13,
   "id": "1ba179c0",
   "metadata": {},
   "outputs": [
    {
     "name": "stdout",
     "output_type": "stream",
     "text": [
      "Diagonal con np.dot y np.diag: [30 69 90]\n",
      "Diagonal con np.einsum: [30 69 90]\n",
      "Diagonal con sum y multiplicación: [30 69 90]\n"
     ]
    }
   ],
   "source": [
    "A = np.array([[1, 2, 3],\n",
    "              [4, 5, 6],\n",
    "              [7, 8, 9]])\n",
    "\n",
    "B = np.array([[9, 8, 7],\n",
    "              [6, 5, 4],\n",
    "              [3, 2, 1]])\n",
    "diag1 = np.diag(np.dot(A, B))\n",
    "diag2 = np.einsum('ij,ji->i', A, B)\n",
    "diag3 = np.sum(A * B.T, axis=1)\n",
    "\n",
    "print(\"Diagonal con np.dot y np.diag:\", diag1)\n",
    "print(\"Diagonal con np.einsum:\", diag2)\n",
    "print(\"Diagonal con sum y multiplicación:\", diag3)\n"
   ]
  },
  {
   "cell_type": "markdown",
   "id": "d11a8df1",
   "metadata": {},
   "source": [
    "#### 70. Sea el vector [1, 2, 3, 4, 5], ¿Cómo construir un nuevo vector con 3 consecutivos zeros intercalados entre cada valor?  (★★★)\n",
    "Consider the vector [1, 2, 3, 4, 5], how to build a new vector with 3 consecutive zeros interleaved between each value? (★★★)"
   ]
  },
  {
   "cell_type": "code",
   "execution_count": null,
   "id": "f0149adc",
   "metadata": {},
   "outputs": [],
   "source": []
  },
  {
   "cell_type": "markdown",
   "id": "d07aaecb",
   "metadata": {},
   "source": [
    "#### 71. Sea un arrays de dimensiones (5, 5, 3), cómo multiplicarlo por un array de dimensiones (5, 5)? (★★★)"
   ]
  },
  {
   "cell_type": "code",
   "execution_count": 14,
   "id": "767622f8",
   "metadata": {},
   "outputs": [
    {
     "name": "stdout",
     "output_type": "stream",
     "text": [
      "[ 1  2 -3  4]\n"
     ]
    }
   ],
   "source": [
    "vector_float = np.array([1.7, 2.3, -3.8, 4.9], dtype=np.float32)\n",
    "vector_int = vector_float.astype(np.int32)\n",
    "\n",
    "print(vector_int)\n"
   ]
  },
  {
   "cell_type": "markdown",
   "id": "44b331f6",
   "metadata": {},
   "source": [
    "#### 72. ¿Cómo intercambiar dos filas en un array? (★★★)"
   ]
  },
  {
   "cell_type": "code",
   "execution_count": null,
   "id": "c682e138",
   "metadata": {},
   "outputs": [],
   "source": []
  },
  {
   "cell_type": "markdown",
   "id": "d938d83d",
   "metadata": {},
   "source": [
    "#### 73. Sea un set de tripletes describiendo 10 triangulos (con lados compartidos), encuentre el set de las líneas que componen todos lo triangulos. (★★★)\n",
    "Consider a set of 10 triplets describing 10 triangles (with shared vertices), find the set of unique line segments composing all the  triangles (★★★)"
   ]
  },
  {
   "cell_type": "code",
   "execution_count": null,
   "id": "323d5001",
   "metadata": {},
   "outputs": [],
   "source": []
  },
  {
   "cell_type": "markdown",
   "id": "0979231d",
   "metadata": {},
   "source": [
    "#### 74. Dado un array ordenado C que corresponde a el resultado de un bitcount, ¿cómo producir un array A tal que np.bincount(A) = C ? (★★★)"
   ]
  },
  {
   "cell_type": "code",
   "execution_count": null,
   "id": "dd89a329",
   "metadata": {},
   "outputs": [],
   "source": []
  },
  {
   "cell_type": "markdown",
   "id": "84c50ce3",
   "metadata": {},
   "source": [
    "#### 75. ¿Cómo calcular los promedios de rango variable sobre un array? (★★★)\n",
    "```python\n",
    "# Sea\n",
    "Z = [0, 1, 2, 3, 4, 5, 6, 7, 8, 9]\n",
    "# Sus promedios en un rango de n = 3\n",
    "[1, 2, 3, 4, 5, 6, 7, 8]\n",
    "```"
   ]
  },
  {
   "cell_type": "code",
   "execution_count": null,
   "id": "59f9bb36",
   "metadata": {},
   "outputs": [],
   "source": []
  },
  {
   "cell_type": "markdown",
   "id": "da0f4802",
   "metadata": {},
   "source": [
    "#### 76. Sea un vector Z unidimensional, contruya un vector de dos dimensiones (matriz) del cuál su primera fila sea (Z[0],Z[1],Z[2]), su segunda (Z[1],Z[2],Z[3]), es decir que cada siguiente fila empiece con el segundo elementos de la anterior fila, note que (la última fila debería ser (Z[-3],Z[-2],Z[-1]) (★★★)\n",
    "\n",
    "```python\n",
    "# Sea Z y R lo que se busca\n",
    "Z = [0 1 2 3 4]\n",
    "R = [[0 1 2]\n",
    "     [1 2 3]\n",
    "     [2 3 4]]\n",
    "```"
   ]
  },
  {
   "cell_type": "code",
   "execution_count": null,
   "id": "97b75862",
   "metadata": {},
   "outputs": [],
   "source": []
  },
  {
   "cell_type": "markdown",
   "id": "38303894",
   "metadata": {},
   "source": [
    "#### 77. ¿Cómo negar un valor boolean, o cambiar el signo de un valor float? (inplace) (★★★)"
   ]
  },
  {
   "cell_type": "code",
   "execution_count": null,
   "id": "ec4c0a79",
   "metadata": {},
   "outputs": [],
   "source": []
  },
  {
   "cell_type": "markdown",
   "id": "b1d6bac4",
   "metadata": {},
   "source": [
    "#### 78. Sean dos sets puntos P0 y P1 tienen el mismo tamaño, el primer punto de P0 describe un línea con el primer punto de P1 y así con todos los elementos de P0 y P1, también se nos da un punto P. \n",
    "¿Cómo calcular la distancia del punto P a cada linea que es descrita por los pares de puntos de los sets? (★★★)"
   ]
  },
  {
   "cell_type": "code",
   "execution_count": null,
   "id": "7136475d",
   "metadata": {},
   "outputs": [],
   "source": []
  },
  {
   "cell_type": "markdown",
   "id": "5ac55ef2",
   "metadata": {},
   "source": [
    "#### 79. Sean dos sets puntos P0 y P1 tienen el mismo tamaño, el primer punto de P0 describe un línea con el primer punto de P1 y así con todos los elementos de P0 y P1, también se nos da un set de puntos P. \n",
    "¿Cómo calcular la distancia de los puntos  de P a cada linea que es descrita por los pares de puntos de los sets? (★★★)"
   ]
  },
  {
   "cell_type": "code",
   "execution_count": null,
   "id": "7efcbf14",
   "metadata": {},
   "outputs": [],
   "source": []
  },
  {
   "cell_type": "markdown",
   "id": "9c2f76c0",
   "metadata": {},
   "source": [
    "#### 80. Considere una matriz arbitraria, escriba una función que extraiga una subparte con una forma fija y centrada en un elemento dado (rellene con un 'fill' cuando sea necesario)(★★★)\n",
    "Consider an arbitrary array, write a function that extract a subpart with a fixed shape and centered on a given element (pad with a `fill` value when necessary) (★★★)"
   ]
  },
  {
   "cell_type": "code",
   "execution_count": null,
   "id": "013543b9",
   "metadata": {},
   "outputs": [],
   "source": []
  },
  {
   "cell_type": "markdown",
   "id": "af23fdef",
   "metadata": {},
   "source": [
    "#### 81. Sea el vector Z = [1,2,3,4,5,6,7,8,9,10,11,12,13,14], ¿Cómo generar el vector R = [[1,2,3,4], [2,3,4,5], [3,4,5,6], ..., [11,12,13,14]]? (★★★)"
   ]
  },
  {
   "cell_type": "code",
   "execution_count": null,
   "id": "83dbbb4b",
   "metadata": {},
   "outputs": [],
   "source": []
  },
  {
   "cell_type": "markdown",
   "id": "df91733c",
   "metadata": {},
   "source": [
    "#### 82. Obtenga el rango de un matriz (★★★)"
   ]
  },
  {
   "cell_type": "code",
   "execution_count": null,
   "id": "a60c4a33",
   "metadata": {},
   "outputs": [],
   "source": []
  },
  {
   "cell_type": "markdown",
   "id": "7d237d9b",
   "metadata": {},
   "source": [
    "#### 83. ¿Cómo encontrar el valor más frecuente en un array? (★★★)"
   ]
  },
  {
   "cell_type": "code",
   "execution_count": null,
   "id": "7c53b265",
   "metadata": {},
   "outputs": [],
   "source": []
  },
  {
   "cell_type": "markdown",
   "id": "8a326442",
   "metadata": {},
   "source": [
    "#### 84. Extraiga todos los bloques contiguos 3x3 de una matriz de elementos aleatorios 10x10 (★★★)\n",
    "Extract all the contiguous 3x3 blocks from a random 10x10 matrix (★★★)"
   ]
  },
  {
   "cell_type": "code",
   "execution_count": null,
   "id": "bd909f7c",
   "metadata": {},
   "outputs": [],
   "source": []
  },
  {
   "cell_type": "markdown",
   "id": "399995a8",
   "metadata": {},
   "source": [
    "#### 85. Crea un matriz cuya subclase tenga Z[i,j] = Z[j,i] (★★★)\n",
    "Create a 2D array subclass such that Z[i,j] == Z[j,i] (★★★)"
   ]
  },
  {
   "cell_type": "code",
   "execution_count": null,
   "id": "62f005d1",
   "metadata": {},
   "outputs": [],
   "source": []
  },
  {
   "cell_type": "markdown",
   "id": "f39b211c",
   "metadata": {},
   "source": [
    "#### 86. Consideremos un conjunto de p matrices cuya forma (n,n) y un conjunto de p vectores con forma (n,1). ¿Cómo calcular la suma de los productos de la matriz p a la vez? (el resultado tiene forma (n,1))(★★★)\n",
    "Consider a set of p matrices wich shape (n,n) and a set of p vectors with shape (n,1). How to compute the sum of of the p matrix products at once? (result has shape (n,1)) (★★★)"
   ]
  },
  {
   "cell_type": "code",
   "execution_count": null,
   "id": "161f67dc",
   "metadata": {},
   "outputs": [],
   "source": []
  },
  {
   "cell_type": "markdown",
   "id": "78d1cd23",
   "metadata": {},
   "source": [
    "#### 87. Sea un 16x16 array, ¿cómo obtener la suma en bloques (tamaño del bloque 4x4)? (★★★)"
   ]
  },
  {
   "cell_type": "code",
   "execution_count": null,
   "id": "b30ef84d",
   "metadata": {},
   "outputs": [],
   "source": []
  },
  {
   "cell_type": "markdown",
   "id": "b73f4d1f",
   "metadata": {},
   "source": [
    "#### 88. ¿Cómo implementar el Juego de la Vida usando numpy arrays? (★★★)\n",
    "Juego de la Vida (Game Life)\n",
    "Se trata de un juego de cero jugadores, lo que quiere decir que su evolución está determinada por el estado inicial y no necesita ninguna entrada de datos posterior. El \"tablero de juego\" es una malla plana formada por cuadrados (las \"células\") que se extiende por el infinito en todas las direcciones. Por tanto, cada célula tiene 8 células \"vecinas\", que son las que están próximas a ella, incluidas las diagonales. Las células tienen dos estados: están \"vivas\" o \"muertas\" (o \"encendidas\" y \"apagadas\"). El estado de las células evoluciona a lo largo de unidades de tiempo discretas (se podría decir que por turnos). El estado de todas las células se tiene en cuenta para calcular el estado de las mismas al turno siguiente. Todas las células se actualizan simultáneamente en cada turno, siguiendo estas reglas:\n",
    "    Nace: Si una célula muerta tiene exactamente 3 células vecinas vivas \"nace\" (es decir, al turno siguiente estará viva).\n",
    "    Muere: una célula viva puede morir por uno de 2 casos:\n",
    "        Sobrepoblación: si tiene más de tres vecinos alrededor.\n",
    "        Aislamiento: si tiene solo un vecino alrededor o ninguno.\n",
    "    Vive: una célula se mantiene viva si tiene 2 o 3 vecinos a su alrededor."
   ]
  },
  {
   "cell_type": "code",
   "execution_count": null,
   "id": "7abc3cec",
   "metadata": {},
   "outputs": [],
   "source": []
  },
  {
   "cell_type": "markdown",
   "id": "2d81fe0b",
   "metadata": {},
   "source": [
    "#### 89. ¿Cómo obtener el enésimo (n-avo) valor más grande de un vector? (★★★)"
   ]
  },
  {
   "cell_type": "code",
   "execution_count": null,
   "id": "931f1103",
   "metadata": {},
   "outputs": [],
   "source": []
  },
  {
   "cell_type": "markdown",
   "id": "e5cae16b",
   "metadata": {},
   "source": [
    "#### 90. Dado un arbitrario número de vectores, contruya el producto cartesiano (la combinación de cada elemento con todos lo elementos) (★★★)"
   ]
  },
  {
   "cell_type": "code",
   "execution_count": null,
   "id": "687d2160",
   "metadata": {},
   "outputs": [],
   "source": []
  },
  {
   "cell_type": "markdown",
   "id": "640c2b04",
   "metadata": {},
   "source": [
    "#### 91. ¿Cómo crear un registro a partir de un arrys normal? (★★★)\n",
    "How to create a record array from a regular array? (★★★)"
   ]
  },
  {
   "cell_type": "code",
   "execution_count": null,
   "id": "de42a0b8",
   "metadata": {},
   "outputs": [],
   "source": []
  },
  {
   "cell_type": "markdown",
   "id": "7efc908a",
   "metadata": {},
   "source": [
    "#### 92. Dado un vector muy largo Z, calcule Z elevado a la potencia 3 usando 3 diferentes métodos (★★★)"
   ]
  },
  {
   "cell_type": "code",
   "execution_count": null,
   "id": "52a63072",
   "metadata": {},
   "outputs": [],
   "source": []
  },
  {
   "cell_type": "markdown",
   "id": "529349c7",
   "metadata": {},
   "source": [
    "#### 93. Dados dos arrays A y B de tamaños (8, 3) y (2, 2) repectivamente. Cómo encontrar las fila de A que contengan elementos de cada fila de B \n",
    "Consider two arrays A and B of shape (8,3) and (2,2). How to find rows of A that contain elements of each row of B regardless of the order of the elements in B? (★★★)"
   ]
  },
  {
   "cell_type": "code",
   "execution_count": null,
   "id": "1f9d5e70",
   "metadata": {},
   "outputs": [],
   "source": []
  },
  {
   "cell_type": "markdown",
   "id": "2523003a",
   "metadata": {},
   "source": [
    "#### 94. Dada una matriz 10x3, extraiga las filas con valores no iguales (Ejemplo [2,2,3]) (★★★)"
   ]
  },
  {
   "cell_type": "code",
   "execution_count": null,
   "id": "646b667a",
   "metadata": {},
   "outputs": [],
   "source": []
  },
  {
   "cell_type": "markdown",
   "id": "5a4ccc7e",
   "metadata": {},
   "source": [
    "#### 95. Convierta un vector de enteros a una matriz que represente los enteros en binario (★★★)\n",
    "Convert a vector of ints into a matrix binary representation (★★★)"
   ]
  },
  {
   "cell_type": "code",
   "execution_count": null,
   "id": "18716b50",
   "metadata": {},
   "outputs": [],
   "source": []
  },
  {
   "cell_type": "markdown",
   "id": "40c0464d",
   "metadata": {},
   "source": [
    "#### 96. Dadas dos matrices, ¿Cómo extraer filas que sean únicas? (★★★)\n",
    "Given a two dimensional array, how to extract unique rows? (★★★)"
   ]
  },
  {
   "cell_type": "code",
   "execution_count": null,
   "id": "9f55b907",
   "metadata": {},
   "outputs": [],
   "source": []
  },
  {
   "cell_type": "markdown",
   "id": "b1d15bbe",
   "metadata": {},
   "source": [
    "#### 97. Considere dos vectores A y B, escriba usando `eisum` el equivalente de las funciones `inner`, `sum`, `outer` y `mul` (★★★)\n",
    "Considering 2 vectors A & B, write the einsum equivalent of inner, outer, sum, and mul function (★★★)"
   ]
  },
  {
   "cell_type": "code",
   "execution_count": null,
   "id": "dd5ac130",
   "metadata": {},
   "outputs": [],
   "source": []
  },
  {
   "cell_type": "markdown",
   "id": "b45f57dd",
   "metadata": {},
   "source": [
    "#### 98. Considere un camino descrito por dos vectores (X,Y), ¿Cómo tomar muestras del mismo usando muestras equidistantes? (★★★)\n",
    "Considering a path described by two vectors (X,Y), how to sample it using equidistant samples (★★★)?"
   ]
  },
  {
   "cell_type": "code",
   "execution_count": null,
   "id": "5fecd7ff",
   "metadata": {},
   "outputs": [],
   "source": []
  },
  {
   "cell_type": "markdown",
   "id": "5d42ba48",
   "metadata": {},
   "source": [
    "#### 99. Dado un entero n y una matriz X, seleccione de X las filas que pueden ser interpretadas como extraídas de una distribución multinomial con n grados.\n",
    "Es decir las filas que contengan enteros y que suman n. (★★★)\n",
    "Given an integer n and a 2D array X, select from X the rows which can be interpreted as draws from a multinomial distribution with n degrees, \n",
    "i.e., the rows which only contain integers and which sum to n. (★★★)"
   ]
  },
  {
   "cell_type": "code",
   "execution_count": null,
   "id": "9b105b36",
   "metadata": {},
   "outputs": [],
   "source": []
  },
  {
   "cell_type": "markdown",
   "id": "73d16a5d",
   "metadata": {},
   "source": [
    "#### 100. Calcule con un intervalo de confianza del 95% el promedio de un vector X.\n",
    "(es decir, volver a muestrear los elementos ddel vector N veces, calcular la media de cada muestra y luego calcular percentiles sobre los promedios). (★★★)\n",
    "Compute bootstrapped 95% confidence intervals for the mean of a 1D array X \n",
    "(i.e., resample the elements of an array with replacement N times, compute the mean of each sample, and then compute percentiles over the means). (★★★)"
   ]
  },
  {
   "cell_type": "code",
   "execution_count": null,
   "id": "d30e973b",
   "metadata": {},
   "outputs": [],
   "source": []
  }
 ],
 "metadata": {
  "kernelspec": {
   "display_name": "Numpy_exercises",
   "language": "python",
   "name": "python3"
  },
  "language_info": {
   "codemirror_mode": {
    "name": "ipython",
    "version": 3
   },
   "file_extension": ".py",
   "mimetype": "text/x-python",
   "name": "python",
   "nbconvert_exporter": "python",
   "pygments_lexer": "ipython3",
   "version": "3.12.8"
  }
 },
 "nbformat": 4,
 "nbformat_minor": 5
}
