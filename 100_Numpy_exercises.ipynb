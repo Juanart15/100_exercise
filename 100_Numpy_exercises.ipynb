{
 "cells": [
  {
   "cell_type": "markdown",
   "id": "6127b436",
   "metadata": {},
   "source": [
    "# 100 ejercicios de numpy\n",
    "\n",
    "Esta es una colección de ejercicios recogidos de distintas fuentes como: numpy mailing list, stackoverflow Y\n",
    "documentación de numpy. El objetivo de esta colección es ofrecer material para el aprendizaje de numpy.\n",
    "\n",
    "Este repositorio es una traducción del español del repositorio original en ingles \n",
    "[Respositorio de rougier](https://github.com/rougier/numpy-100)."
   ]
  },
  {
   "cell_type": "markdown",
   "id": "aaa47323",
   "metadata": {},
   "source": [
    "Archivos generados de manera automática. Vea la documentación para cambiar preguntas/respuestas/ayudas (questions/answers/hints)"
   ]
  },
  {
   "cell_type": "markdown",
   "id": "aca32778",
   "metadata": {},
   "source": [
    "Ejecute `initialize.py`, para que puedas consultar la respuesta `answer(n)` y una ayuda\n",
    "`hint(n)` siendo `n` el número de la pregunta."
   ]
  },
  {
   "cell_type": "code",
   "execution_count": 24,
   "id": "2e4eaf13",
   "metadata": {},
   "outputs": [
    {
     "data": {
      "text/plain": [
       "'!pip install mdutils'"
      ]
     },
     "execution_count": 24,
     "metadata": {},
     "output_type": "execute_result"
    }
   ],
   "source": [
    "\"!pip install mdutils\""
   ]
  },
  {
   "cell_type": "code",
   "execution_count": 25,
   "id": "db055d31",
   "metadata": {},
   "outputs": [
    {
     "ename": "Exception",
     "evalue": "File `'initialise.py'` not found.",
     "output_type": "error",
     "traceback": [
      "\u001b[1;31m---------------------------------------------------------------------------\u001b[0m",
      "\u001b[1;31mOSError\u001b[0m                                   Traceback (most recent call last)",
      "File \u001b[1;32mc:\\Users\\natalia\\anaconda3\\envs\\ANALITICA_DATOS\\Lib\\site-packages\\IPython\\core\\magics\\execution.py:720\u001b[0m, in \u001b[0;36mExecutionMagics.run\u001b[1;34m(self, parameter_s, runner, file_finder)\u001b[0m\n\u001b[0;32m    719\u001b[0m     fpath \u001b[38;5;241m=\u001b[39m arg_lst[\u001b[38;5;241m0\u001b[39m]\n\u001b[1;32m--> 720\u001b[0m     filename \u001b[38;5;241m=\u001b[39m \u001b[43mfile_finder\u001b[49m\u001b[43m(\u001b[49m\u001b[43mfpath\u001b[49m\u001b[43m)\u001b[49m\n\u001b[0;32m    721\u001b[0m \u001b[38;5;28;01mexcept\u001b[39;00m \u001b[38;5;167;01mIndexError\u001b[39;00m \u001b[38;5;28;01mas\u001b[39;00m e:\n",
      "File \u001b[1;32mc:\\Users\\natalia\\anaconda3\\envs\\ANALITICA_DATOS\\Lib\\site-packages\\IPython\\utils\\path.py:91\u001b[0m, in \u001b[0;36mget_py_filename\u001b[1;34m(name)\u001b[0m\n\u001b[0;32m     90\u001b[0m         \u001b[38;5;28;01mreturn\u001b[39;00m py_name\n\u001b[1;32m---> 91\u001b[0m \u001b[38;5;28;01mraise\u001b[39;00m \u001b[38;5;167;01mIOError\u001b[39;00m(\u001b[38;5;124m\"\u001b[39m\u001b[38;5;124mFile `\u001b[39m\u001b[38;5;132;01m%r\u001b[39;00m\u001b[38;5;124m` not found.\u001b[39m\u001b[38;5;124m\"\u001b[39m \u001b[38;5;241m%\u001b[39m name)\n",
      "\u001b[1;31mOSError\u001b[0m: File `'initialise.py'` not found.",
      "\nThe above exception was the direct cause of the following exception:\n",
      "\u001b[1;31mException\u001b[0m                                 Traceback (most recent call last)",
      "Cell \u001b[1;32mIn[25], line 1\u001b[0m\n\u001b[1;32m----> 1\u001b[0m \u001b[43mget_ipython\u001b[49m\u001b[43m(\u001b[49m\u001b[43m)\u001b[49m\u001b[38;5;241;43m.\u001b[39;49m\u001b[43mrun_line_magic\u001b[49m\u001b[43m(\u001b[49m\u001b[38;5;124;43m'\u001b[39;49m\u001b[38;5;124;43mrun\u001b[39;49m\u001b[38;5;124;43m'\u001b[39;49m\u001b[43m,\u001b[49m\u001b[43m \u001b[49m\u001b[38;5;124;43m'\u001b[39;49m\u001b[38;5;124;43minitialise.py\u001b[39;49m\u001b[38;5;124;43m'\u001b[39;49m\u001b[43m)\u001b[49m\n",
      "File \u001b[1;32mc:\\Users\\natalia\\anaconda3\\envs\\ANALITICA_DATOS\\Lib\\site-packages\\IPython\\core\\interactiveshell.py:2480\u001b[0m, in \u001b[0;36mInteractiveShell.run_line_magic\u001b[1;34m(self, magic_name, line, _stack_depth)\u001b[0m\n\u001b[0;32m   2478\u001b[0m     kwargs[\u001b[38;5;124m'\u001b[39m\u001b[38;5;124mlocal_ns\u001b[39m\u001b[38;5;124m'\u001b[39m] \u001b[38;5;241m=\u001b[39m \u001b[38;5;28mself\u001b[39m\u001b[38;5;241m.\u001b[39mget_local_scope(stack_depth)\n\u001b[0;32m   2479\u001b[0m \u001b[38;5;28;01mwith\u001b[39;00m \u001b[38;5;28mself\u001b[39m\u001b[38;5;241m.\u001b[39mbuiltin_trap:\n\u001b[1;32m-> 2480\u001b[0m     result \u001b[38;5;241m=\u001b[39m \u001b[43mfn\u001b[49m\u001b[43m(\u001b[49m\u001b[38;5;241;43m*\u001b[39;49m\u001b[43margs\u001b[49m\u001b[43m,\u001b[49m\u001b[43m \u001b[49m\u001b[38;5;241;43m*\u001b[39;49m\u001b[38;5;241;43m*\u001b[39;49m\u001b[43mkwargs\u001b[49m\u001b[43m)\u001b[49m\n\u001b[0;32m   2482\u001b[0m \u001b[38;5;66;03m# The code below prevents the output from being displayed\u001b[39;00m\n\u001b[0;32m   2483\u001b[0m \u001b[38;5;66;03m# when using magics with decorator @output_can_be_silenced\u001b[39;00m\n\u001b[0;32m   2484\u001b[0m \u001b[38;5;66;03m# when the last Python token in the expression is a ';'.\u001b[39;00m\n\u001b[0;32m   2485\u001b[0m \u001b[38;5;28;01mif\u001b[39;00m \u001b[38;5;28mgetattr\u001b[39m(fn, magic\u001b[38;5;241m.\u001b[39mMAGIC_OUTPUT_CAN_BE_SILENCED, \u001b[38;5;28;01mFalse\u001b[39;00m):\n",
      "File \u001b[1;32mc:\\Users\\natalia\\anaconda3\\envs\\ANALITICA_DATOS\\Lib\\site-packages\\IPython\\core\\magics\\execution.py:731\u001b[0m, in \u001b[0;36mExecutionMagics.run\u001b[1;34m(self, parameter_s, runner, file_finder)\u001b[0m\n\u001b[0;32m    729\u001b[0m     \u001b[38;5;28;01mif\u001b[39;00m os\u001b[38;5;241m.\u001b[39mname \u001b[38;5;241m==\u001b[39m \u001b[38;5;124m'\u001b[39m\u001b[38;5;124mnt\u001b[39m\u001b[38;5;124m'\u001b[39m \u001b[38;5;129;01mand\u001b[39;00m re\u001b[38;5;241m.\u001b[39mmatch(\u001b[38;5;124mr\u001b[39m\u001b[38;5;124m\"\u001b[39m\u001b[38;5;124m^\u001b[39m\u001b[38;5;124m'\u001b[39m\u001b[38;5;124m.*\u001b[39m\u001b[38;5;124m'\u001b[39m\u001b[38;5;124m$\u001b[39m\u001b[38;5;124m\"\u001b[39m,fpath):\n\u001b[0;32m    730\u001b[0m         warn(\u001b[38;5;124m'\u001b[39m\u001b[38;5;124mFor Windows, use double quotes to wrap a filename: \u001b[39m\u001b[38;5;132;01m%r\u001b[39;00m\u001b[38;5;124mun \u001b[39m\u001b[38;5;124m\"\u001b[39m\u001b[38;5;124mmypath\u001b[39m\u001b[38;5;130;01m\\\\\u001b[39;00m\u001b[38;5;124mmyfile.py\u001b[39m\u001b[38;5;124m\"\u001b[39m\u001b[38;5;124m'\u001b[39m)\n\u001b[1;32m--> 731\u001b[0m     \u001b[38;5;28;01mraise\u001b[39;00m \u001b[38;5;167;01mException\u001b[39;00m(msg) \u001b[38;5;28;01mfrom\u001b[39;00m\u001b[38;5;250m \u001b[39m\u001b[38;5;21;01me\u001b[39;00m\n\u001b[0;32m    732\u001b[0m \u001b[38;5;28;01mexcept\u001b[39;00m \u001b[38;5;167;01mTypeError\u001b[39;00m:\n\u001b[0;32m    733\u001b[0m     \u001b[38;5;28;01mif\u001b[39;00m fpath \u001b[38;5;129;01min\u001b[39;00m sys\u001b[38;5;241m.\u001b[39mmeta_path:\n",
      "\u001b[1;31mException\u001b[0m: File `'initialise.py'` not found."
     ]
    }
   ],
   "source": [
    "%run initialise.py  \n",
    "\n"
   ]
  },
  {
   "cell_type": "markdown",
   "id": "4aa1ecb2",
   "metadata": {},
   "source": [
    "#### 1. Importa el paquete `numpy` como `np` (★☆☆)"
   ]
  },
  {
   "cell_type": "code",
   "execution_count": 12,
   "id": "7ef70aea",
   "metadata": {},
   "outputs": [],
   "source": [
    "import numpy as  np"
   ]
  },
  {
   "cell_type": "markdown",
   "id": "443f2c16",
   "metadata": {},
   "source": [
    "#### 2. Imprima por pantalla la versión y la configuración de numpy (★☆☆)"
   ]
  },
  {
   "cell_type": "code",
   "execution_count": 3,
   "id": "2ba3325b",
   "metadata": {},
   "outputs": [
    {
     "data": {
      "text/plain": [
       "'2.2.2'"
      ]
     },
     "execution_count": 3,
     "metadata": {},
     "output_type": "execute_result"
    }
   ],
   "source": [
    "np.__version__"
   ]
  },
  {
   "cell_type": "markdown",
   "id": "a3ae1145",
   "metadata": {},
   "source": [
    "#### 3. Cree un vector null de tamaño 10 (vector de zeros)(★☆☆)"
   ]
  },
  {
   "cell_type": "code",
   "execution_count": 22,
   "id": "6d22ad0e",
   "metadata": {},
   "outputs": [
    {
     "name": "stdout",
     "output_type": "stream",
     "text": [
      "[0. 0. 0. 0. 0. 0. 0. 0. 0. 0.]\n"
     ]
    }
   ],
   "source": [
    "\n",
    "vector_zeros=np.zeros(10)\n",
    "\n",
    "print(vector_zeros)"
   ]
  },
  {
   "cell_type": "markdown",
   "id": "876a1be7",
   "metadata": {},
   "source": [
    "#### 4. Como encuentra el tamaño en memoria de un array (★☆☆)"
   ]
  },
  {
   "cell_type": "code",
   "execution_count": 23,
   "id": "01205f44",
   "metadata": {},
   "outputs": [
    {
     "name": "stdout",
     "output_type": "stream",
     "text": [
      "80\n"
     ]
    }
   ],
   "source": [
    "print(vector_zeros.nbytes)"
   ]
  },
  {
   "cell_type": "markdown",
   "id": "7d7d2800",
   "metadata": {},
   "source": [
    "#### 5. ¿Cómo obtiene la documentación de numpy desde la terminal (comando de línea)? (★☆☆)"
   ]
  },
  {
   "cell_type": "code",
   "execution_count": 24,
   "id": "7d4c6649",
   "metadata": {},
   "outputs": [
    {
     "data": {
      "text/plain": [
       "'\\npython -m webbrowser -t \"https://numpy.org/doc/stable/\"\\n'"
      ]
     },
     "execution_count": 24,
     "metadata": {},
     "output_type": "execute_result"
    }
   ],
   "source": [
    "\"\"\"\n",
    "python -m webbrowser -t \"https://numpy.org/doc/stable/\"\n",
    "\"\"\"\n"
   ]
  },
  {
   "cell_type": "markdown",
   "id": "2e235023",
   "metadata": {},
   "source": [
    "#### 6. Crea un vector de ceros de tamaño 10 cuyo valor en la quinta posición sea 1 (★☆☆)"
   ]
  },
  {
   "cell_type": "code",
   "execution_count": 8,
   "id": "429c9f95",
   "metadata": {},
   "outputs": [
    {
     "name": "stdout",
     "output_type": "stream",
     "text": [
      "[0, 0, 0, 0, 0, 1, 0, 0, 0, 0]\n"
     ]
    }
   ],
   "source": [
    "vector_zeros=[0,0,0,0,0,1,0,0,0,0]\n",
    "print(vector_zeros)"
   ]
  },
  {
   "cell_type": "markdown",
   "id": "89aab54a",
   "metadata": {},
   "source": [
    "#### 7. Crea un vector con sus valores contegan los números del 10 a 49 (★☆☆)"
   ]
  },
  {
   "cell_type": "code",
   "execution_count": 12,
   "id": "d19b1638",
   "metadata": {},
   "outputs": [
    {
     "data": {
      "text/plain": [
       "array([10, 11, 12, 13, 14, 15, 16, 17, 18, 19, 20, 21, 22, 23, 24, 25, 26,\n",
       "       27, 28, 29, 30, 31, 32, 33, 34, 35, 36, 37, 38, 39, 40, 41, 42, 43,\n",
       "       44, 45, 46, 47, 48])"
      ]
     },
     "execution_count": 12,
     "metadata": {},
     "output_type": "execute_result"
    }
   ],
   "source": [
    "array1= np.arange(10,50)\n",
    "array1"
   ]
  },
  {
   "cell_type": "markdown",
   "id": "6c73fed3",
   "metadata": {},
   "source": [
    "#### 8. Obrenga un vector invertido (el primer elemento se convierte en el último) (★☆☆)"
   ]
  },
  {
   "cell_type": "code",
   "execution_count": 14,
   "id": "10441224",
   "metadata": {},
   "outputs": [
    {
     "name": "stdout",
     "output_type": "stream",
     "text": [
      "[5 4 3 2 1]\n"
     ]
    }
   ],
   "source": [
    "vector = np.array([1, 2, 3, 4, 5])\n",
    "\n",
    "vector_invertido = vector[::-1]\n",
    "print(vector_invertido)"
   ]
  },
  {
   "cell_type": "markdown",
   "id": "1eaf72f9",
   "metadata": {},
   "source": [
    "#### 9. Crea una matriz 3x3 cuyos valores contengan lo números del 0 al 8 (★☆☆)"
   ]
  },
  {
   "cell_type": "code",
   "execution_count": 14,
   "id": "b0675cae",
   "metadata": {},
   "outputs": [
    {
     "name": "stdout",
     "output_type": "stream",
     "text": [
      "[[0 1 2]\n",
      " [3 4 5]\n",
      " [6 7 8]]\n"
     ]
    }
   ],
   "source": [
    "matriz = np.arange(9).reshape(3, 3)\n",
    "print(matriz)"
   ]
  },
  {
   "cell_type": "markdown",
   "id": "5e6b9f6f",
   "metadata": {},
   "source": [
    "#### 10. Encuentre los elementos cuyos índice no son cero [1,2,0,0,4,0] (★☆☆)"
   ]
  },
  {
   "cell_type": "code",
   "execution_count": 15,
   "id": "2c527877",
   "metadata": {},
   "outputs": [
    {
     "data": {
      "text/plain": [
       "(2, 0, 0, 4, 0)"
      ]
     },
     "execution_count": 15,
     "metadata": {},
     "output_type": "execute_result"
    }
   ],
   "source": [
    "2,0,0,4,0"
   ]
  },
  {
   "cell_type": "markdown",
   "id": "492e5fa6",
   "metadata": {},
   "source": [
    "#### 11. Crea una matriz identidad de 3x3 (★☆☆)"
   ]
  },
  {
   "cell_type": "code",
   "execution_count": 15,
   "id": "b24fe0a5",
   "metadata": {},
   "outputs": [
    {
     "name": "stdout",
     "output_type": "stream",
     "text": [
      "[[1. 0. 0.]\n",
      " [0. 1. 0.]\n",
      " [0. 0. 1.]]\n"
     ]
    }
   ],
   "source": [
    "matriz_idetidad=np.eye(3)\n",
    "print(matriz_idetidad)"
   ]
  },
  {
   "cell_type": "markdown",
   "id": "dfc82bc2",
   "metadata": {},
   "source": [
    "#### 12. Crea un vector 3x3x3 con valores aleatorios (★☆☆)"
   ]
  },
  {
   "cell_type": "code",
   "execution_count": 20,
   "id": "c13f0b94",
   "metadata": {},
   "outputs": [
    {
     "name": "stdout",
     "output_type": "stream",
     "text": [
      "[[[0.55588252 0.22249296 0.90309463]\n",
      "  [0.95500343 0.41725201 0.36366208]\n",
      "  [0.63549609 0.41006906 0.38333616]]\n",
      "\n",
      " [[0.20878358 0.9893077  0.82108052]\n",
      "  [0.7032467  0.04216    0.1428589 ]\n",
      "  [0.54440635 0.8920809  0.61488842]]\n",
      "\n",
      " [[0.04899435 0.13900847 0.79493786]\n",
      "  [0.638346   0.670356   0.06462857]\n",
      "  [0.88695835 0.32118002 0.0152969 ]]]\n"
     ]
    }
   ],
   "source": [
    "vector=np.random.random((3,3,3))\n",
    "print(vector)"
   ]
  },
  {
   "cell_type": "markdown",
   "id": "482b0b09",
   "metadata": {},
   "source": [
    "#### 13. Crea una matriz 10x10 con valores random y encuentra el valor máximo yel mínimo (★☆☆)"
   ]
  },
  {
   "cell_type": "code",
   "execution_count": 18,
   "id": "2714f0a0",
   "metadata": {},
   "outputs": [
    {
     "name": "stdout",
     "output_type": "stream",
     "text": [
      "[[0.62386512 0.61879938 0.23834105 0.22625021 0.15243596 0.22976398\n",
      "  0.68234512 0.95576295 0.88909172 0.44090308]\n",
      " [0.92155668 0.75997319 0.44733177 0.85241184 0.03962624 0.58035772\n",
      "  0.96990224 0.36321723 0.82045688 0.15030909]\n",
      " [0.27911235 0.75283612 0.3869647  0.38547931 0.3176889  0.18654188\n",
      "  0.86525452 0.66385976 0.47170421 0.38990923]\n",
      " [0.78903379 0.30446796 0.05296475 0.79791897 0.05998006 0.21168639\n",
      "  0.80726758 0.03108787 0.144962   0.22126146]\n",
      " [0.14965101 0.69951247 0.45790126 0.07875871 0.95424105 0.42223085\n",
      "  0.41698142 0.90551958 0.79664458 0.9473108 ]\n",
      " [0.63273622 0.92153665 0.86216172 0.72638378 0.52635025 0.34188656\n",
      "  0.8240675  0.89817234 0.27012595 0.37437831]\n",
      " [0.2345273  0.75594235 0.99103429 0.25929862 0.429304   0.04313238\n",
      "  0.33309987 0.82138388 0.98012634 0.64571853]\n",
      " [0.14470306 0.88558432 0.54974623 0.14332799 0.95889713 0.68017273\n",
      "  0.13764954 0.20892564 0.03445443 0.30748895]\n",
      " [0.56944063 0.65361263 0.17213076 0.1631261  0.01484457 0.56100672\n",
      "  0.10640023 0.372032   0.97320623 0.86704254]\n",
      " [0.89660111 0.63199576 0.48496203 0.53984126 0.43461086 0.25045128\n",
      "  0.75586491 0.60482786 0.70081434 0.59097513]]\n",
      "valor maximo es: 0.9910342948556313 y valor minimo es: 0.014844568334430819\n"
     ]
    }
   ],
   "source": [
    "matrixran=np.random.rand(10,10)\n",
    "valormax=np.max(matrixran)\n",
    "valormin=np.min(matrixran)\n",
    "print(matrixran)\n",
    "print(\"valor maximo es:\", valormax, \"y\", \"valor minimo es:\", valormin)"
   ]
  },
  {
   "cell_type": "markdown",
   "id": "813b15ef",
   "metadata": {},
   "source": [
    "#### 14. Crea un vector de tamaño 30 con valores aleatorios y encuentre el valor promedio (★☆☆)"
   ]
  },
  {
   "cell_type": "code",
   "execution_count": 23,
   "id": "23464994",
   "metadata": {},
   "outputs": [
    {
     "name": "stdout",
     "output_type": "stream",
     "text": [
      "[0.85239916 0.4895842  0.78971158 0.5437703  0.21486725 0.24856876\n",
      " 0.00165027 0.17887612 0.88666059 0.8780037  0.21021957 0.13058586\n",
      " 0.72867698 0.60859533 0.98460511 0.55293855 0.17418398 0.08876391\n",
      " 0.70772819 0.14229677 0.53168138 0.67911538 0.98456065 0.35461144\n",
      " 0.78947814 0.25885772 0.25205259 0.82092332 0.14402272 0.91460185]\n",
      "0.5047530451536343\n"
     ]
    }
   ],
   "source": [
    "vector =np.random.random(30)\n",
    "print(vector)\n",
    "promedio=np.mean(vector)\n",
    "print(promedio)"
   ]
  },
  {
   "cell_type": "markdown",
   "id": "6aa6eb2d",
   "metadata": {},
   "source": [
    "#### 15. Crea un vector 2D con los valores de 1 en el borde (es decir en la primera y última filas y columnas) con valores de 0 en el interior (★☆☆)"
   ]
  },
  {
   "cell_type": "code",
   "execution_count": 19,
   "id": "b6a47140",
   "metadata": {},
   "outputs": [
    {
     "name": "stdout",
     "output_type": "stream",
     "text": [
      "[[1. 1. 1. 1. 1.]\n",
      " [1. 0. 0. 0. 1.]\n",
      " [1. 0. 0. 0. 1.]\n",
      " [1. 0. 0. 0. 1.]\n",
      " [1. 1. 1. 1. 1.]]\n"
     ]
    }
   ],
   "source": [
    "vector_2d=np.ones((5,5))\n",
    "vector_2d[1:-1, 1:-1] = 0\n",
    "print(vector_2d)"
   ]
  },
  {
   "cell_type": "markdown",
   "id": "02ad9a2f",
   "metadata": {},
   "source": [
    "#### 16. ¿Cómo añadir un borde (llenado con ceros) a una matriz existente? (★☆☆)"
   ]
  },
  {
   "cell_type": "code",
   "execution_count": 26,
   "id": "6489d091",
   "metadata": {},
   "outputs": [
    {
     "name": "stdout",
     "output_type": "stream",
     "text": [
      "[[0. 0. 0. 0. 0.]\n",
      " [0. 1. 1. 1. 0.]\n",
      " [0. 1. 1. 1. 0.]\n",
      " [0. 1. 1. 1. 0.]\n",
      " [0. 0. 0. 0. 0.]]\n"
     ]
    }
   ],
   "source": [
    "# Crear una matriz de ejemplo 3x3\n",
    "matriz = np.ones((3, 3))\n",
    "\n",
    "# Añadir un borde de ceros\n",
    "matriz_con_borde = np.pad(matriz, pad_width=1, mode='constant', constant_values=0)\n",
    "\n",
    "print(matriz_con_borde)"
   ]
  },
  {
   "cell_type": "markdown",
   "id": "2685b65f",
   "metadata": {},
   "source": [
    "#### 17. ¿Cuál es el resultado de la siguiente expresión? (★☆☆)\n",
    "```python\n",
    "0 * np.nan\n",
    "np.nan == np.nan\n",
    "np.inf > np.nan\n",
    "np.nan - np.nan\n",
    "np.nan in set([np.nan])\n",
    "0.3 == 3 * 0.1\n",
    "```"
   ]
  },
  {
   "cell_type": "code",
   "execution_count": 20,
   "id": "089530d2",
   "metadata": {},
   "outputs": [
    {
     "name": "stdout",
     "output_type": "stream",
     "text": [
      "nan\n",
      "False\n",
      "False\n",
      "nan\n",
      "True\n",
      "False\n"
     ]
    }
   ],
   "source": [
    "print(0* np.nan)\n",
    "print(np.nan== np.nan)\n",
    "print(np.inf >np.nan)\n",
    "print(np.nan - np.nan)\n",
    "print(np.nan in set([np.nan]))\n",
    "print(0.3== 3*0.1)"
   ]
  },
  {
   "cell_type": "markdown",
   "id": "8b94be83",
   "metadata": {},
   "source": [
    "#### 18. Crea una matriz 5x5 con valores 1,2,3,4 justo debajo de la diagonal (★☆☆)"
   ]
  },
  {
   "cell_type": "code",
   "execution_count": 28,
   "id": "70902dbf",
   "metadata": {},
   "outputs": [
    {
     "name": "stdout",
     "output_type": "stream",
     "text": [
      "[[0. 0. 0. 0. 0.]\n",
      " [1. 0. 0. 0. 0.]\n",
      " [0. 2. 0. 0. 0.]\n",
      " [0. 0. 3. 0. 0.]\n",
      " [0. 0. 0. 4. 0.]]\n"
     ]
    }
   ],
   "source": [
    "\n",
    "matriz = np.zeros((5, 5))\n",
    "for i in range(4):\n",
    "    matriz[i+1, i] = i+1 \n",
    "\n",
    "print(matriz)"
   ]
  },
  {
   "cell_type": "markdown",
   "id": "abd5b0d8",
   "metadata": {},
   "source": [
    "#### 19. Crea una matriz 8x8 y llénelo con un patrón similar al del tablero de ajedrez (★☆☆)"
   ]
  },
  {
   "cell_type": "code",
   "execution_count": 40,
   "id": "76dca122",
   "metadata": {},
   "outputs": [
    {
     "name": "stdout",
     "output_type": "stream",
     "text": [
      "[[0. 1. 0. 1. 0. 1. 0. 1.]\n",
      " [1. 0. 1. 0. 1. 0. 1. 0.]\n",
      " [0. 1. 0. 1. 0. 1. 0. 1.]\n",
      " [1. 0. 1. 0. 1. 0. 1. 0.]\n",
      " [0. 1. 0. 1. 0. 1. 0. 1.]\n",
      " [1. 0. 1. 0. 1. 0. 1. 0.]\n",
      " [0. 1. 0. 1. 0. 1. 0. 1.]\n",
      " [1. 0. 1. 0. 1. 0. 1. 0.]]\n"
     ]
    }
   ],
   "source": [
    "matajedrez=np.ones((8,8))\n",
    "matajedrez[::2, ::2] = 0\n",
    "matajedrez[1::2, 1::2]=0\n",
    "print(matajedrez)"
   ]
  },
  {
   "cell_type": "markdown",
   "id": "78e646da",
   "metadata": {},
   "source": [
    "#### 20. Considere un array de dimensiones (6,7,8), ¿Cuáles son los índices (x,y,z) del 100vo elemento? (★☆☆)"
   ]
  },
  {
   "cell_type": "code",
   "execution_count": 43,
   "id": "b42ad615",
   "metadata": {},
   "outputs": [
    {
     "name": "stdout",
     "output_type": "stream",
     "text": [
      "[[[0.3527004  0.57739964 0.76416547 0.07591075 0.08268764 0.58077214\n",
      "   0.13148096 0.62449605]\n",
      "  [0.83165809 0.69010874 0.56876822 0.76872105 0.8964582  0.20186559\n",
      "   0.34676028 0.34916568]\n",
      "  [0.27127649 0.25633577 0.34459908 0.2453813  0.75122651 0.77472886\n",
      "   0.47206144 0.89214338]\n",
      "  [0.38637862 0.43889427 0.56126145 0.60994733 0.73453331 0.69484707\n",
      "   0.32260729 0.76316763]\n",
      "  [0.55589963 0.58234541 0.42233578 0.42819708 0.74961462 0.59151103\n",
      "   0.13269152 0.20120029]\n",
      "  [0.0169467  0.18016421 0.77484484 0.79749839 0.04306389 0.36084144\n",
      "   0.15744237 0.50956363]\n",
      "  [0.67851155 0.31687048 0.04581697 0.37288083 0.46045204 0.84946449\n",
      "   0.31910628 0.01188802]]\n",
      "\n",
      " [[0.5430544  0.78761557 0.39611214 0.15031936 0.43820955 0.25016053\n",
      "   0.89036664 0.91828093]\n",
      "  [0.57511969 0.1076817  0.24553682 0.38447615 0.70212805 0.5364851\n",
      "   0.98321976 0.1742237 ]\n",
      "  [0.4080253  0.71732814 0.15639174 0.89928494 0.57734031 0.92550548\n",
      "   0.34582615 0.12896687]\n",
      "  [0.64744111 0.61990437 0.62444421 0.39451695 0.40447243 0.6138125\n",
      "   0.56435453 0.66922567]\n",
      "  [0.21251772 0.27882328 0.70243267 0.16116216 0.76827109 0.16578081\n",
      "   0.71456122 0.84637657]\n",
      "  [0.69281078 0.28396703 0.0767877  0.21848911 0.46577771 0.03484297\n",
      "   0.03870965 0.67346804]\n",
      "  [0.64777501 0.37313968 0.91112137 0.41049988 0.37693237 0.2506933\n",
      "   0.7351104  0.61348191]]\n",
      "\n",
      " [[0.70742837 0.24968814 0.96873734 0.94451388 0.36242762 0.57743369\n",
      "   0.29899432 0.8538117 ]\n",
      "  [0.39295841 0.48070444 0.43075049 0.57902972 0.00952587 0.86826389\n",
      "   0.27441719 0.61696311]\n",
      "  [0.53541406 0.50101627 0.46223321 0.05789862 0.91337209 0.66425765\n",
      "   0.36489553 0.53937807]\n",
      "  [0.21917885 0.52010675 0.92745354 0.2199256  0.90082905 0.34655059\n",
      "   0.36631889 0.53812796]\n",
      "  [0.60476592 0.36855021 0.79702737 0.4951975  0.22309421 0.43785664\n",
      "   0.01374148 0.60048298]\n",
      "  [0.16834378 0.14365101 0.32006475 0.44384978 0.37263441 0.80526031\n",
      "   0.6877603  0.67520363]\n",
      "  [0.76437788 0.1575784  0.70123246 0.77938688 0.83015117 0.05803898\n",
      "   0.03976125 0.12492136]]\n",
      "\n",
      " [[0.70935741 0.91768268 0.69176018 0.16126931 0.22043146 0.76857689\n",
      "   0.21828411 0.53329108]\n",
      "  [0.85440472 0.9663363  0.36934203 0.6205246  0.28687187 0.53359939\n",
      "   0.24069551 0.81778481]\n",
      "  [0.85671381 0.47725859 0.81213534 0.15643645 0.66387652 0.50575473\n",
      "   0.98549895 0.12477655]\n",
      "  [0.62072218 0.628323   0.62157647 0.29992215 0.40636443 0.14999166\n",
      "   0.12649403 0.42563732]\n",
      "  [0.77121237 0.39876152 0.41216792 0.73144236 0.44669939 0.08481486\n",
      "   0.2011889  0.13878038]\n",
      "  [0.91765306 0.86892482 0.25479406 0.22101965 0.86361506 0.98892137\n",
      "   0.29732474 0.549826  ]\n",
      "  [0.81894274 0.82773    0.21068225 0.16468308 0.18834189 0.1106298\n",
      "   0.61887    0.47421211]]\n",
      "\n",
      " [[0.06158162 0.95876824 0.75439482 0.14388093 0.14550316 0.60258156\n",
      "   0.39094734 0.96577573]\n",
      "  [0.46052662 0.61031058 0.27164337 0.50928777 0.28370099 0.07604097\n",
      "   0.82163388 0.73459423]\n",
      "  [0.57351824 0.36087641 0.90901639 0.0337471  0.61465052 0.83272514\n",
      "   0.93829868 0.68804545]\n",
      "  [0.29460489 0.74177678 0.63034608 0.55154299 0.57375951 0.76008865\n",
      "   0.75010559 0.30116316]\n",
      "  [0.05127229 0.92483872 0.89005837 0.7742434  0.4798371  0.31700866\n",
      "   0.24879989 0.94686136]\n",
      "  [0.81332745 0.01000517 0.37675831 0.59941076 0.95786716 0.30014649\n",
      "   0.59945659 0.16336609]\n",
      "  [0.2712159  0.62800425 0.14590456 0.46430839 0.51968325 0.1090499\n",
      "   0.25792246 0.52093873]]\n",
      "\n",
      " [[0.71499683 0.56541949 0.77385079 0.68271957 0.66679811 0.22913699\n",
      "   0.40676034 0.44571815]\n",
      "  [0.36964798 0.50954119 0.36171584 0.3902562  0.79949037 0.72387045\n",
      "   0.3694424  0.68824755]\n",
      "  [0.0477458  0.41414723 0.65852114 0.72637005 0.85419713 0.09008597\n",
      "   0.56259208 0.17814555]\n",
      "  [0.49880086 0.54181096 0.28771338 0.33429683 0.99617635 0.58390244\n",
      "   0.99187998 0.31495821]\n",
      "  [0.10952865 0.52415164 0.78382025 0.37953136 0.98188519 0.07000037\n",
      "   0.31323751 0.45403408]\n",
      "  [0.93015813 0.82253739 0.22356702 0.27647682 0.32130556 0.30505665\n",
      "   0.46893981 0.23189057]\n",
      "  [0.84680717 0.803324   0.5234075  0.08068236 0.15450377 0.88234603\n",
      "   0.69571048 0.00119889]]]\n",
      "0.4657777099980638\n",
      "(np.int64(1), np.int64(5), np.int64(4))\n"
     ]
    }
   ],
   "source": [
    "\n",
    "array =np.random.random((6, 7, 8)) \n",
    "print(array)         \n",
    "valor100= array.ravel()[100]\n",
    "print (valor100)\n",
    "\n",
    "\n",
    "indices = np.unravel_index(100, (6,7,8))\n",
    "print(indices)\n"
   ]
  },
  {
   "cell_type": "markdown",
   "id": "60c210ac",
   "metadata": {},
   "source": [
    "#### 21. Cree algo similar a un tablero de ajedez usando la función `tile` (★☆☆)"
   ]
  },
  {
   "cell_type": "code",
   "execution_count": 41,
   "id": "3e4f2df1",
   "metadata": {},
   "outputs": [
    {
     "name": "stdout",
     "output_type": "stream",
     "text": [
      "[[1 0 1 0 1 0 1 0]\n",
      " [0 1 0 1 0 1 0 1]\n",
      " [1 0 1 0 1 0 1 0]\n",
      " [0 1 0 1 0 1 0 1]\n",
      " [1 0 1 0 1 0 1 0]\n",
      " [0 1 0 1 0 1 0 1]\n",
      " [1 0 1 0 1 0 1 0]\n",
      " [0 1 0 1 0 1 0 1]]\n"
     ]
    }
   ],
   "source": [
    "\n",
    "patron = np.array([[1, 0], [0, 1]])\n",
    "tabla= np.tile(patron, (4, 4))\n",
    "\n",
    "print(tabla)\n"
   ]
  },
  {
   "cell_type": "markdown",
   "id": "29b25584",
   "metadata": {},
   "source": [
    "#### 22. Normalice una matriz de 5x5 que contiene valores aleatorios (normalize los elementos usando la fórmula z-score) (★☆☆)"
   ]
  },
  {
   "cell_type": "code",
   "execution_count": 44,
   "id": "43dd859c",
   "metadata": {},
   "outputs": [
    {
     "name": "stdout",
     "output_type": "stream",
     "text": [
      "Matriz original:\n",
      " [[0.52658087 0.04126471 0.4175953  0.14034933 0.98091235]\n",
      " [0.02269154 0.03921716 0.69607076 0.33193653 0.26653999]\n",
      " [0.82351824 0.45543301 0.1119553  0.4011921  0.12605181]\n",
      " [0.36102127 0.82511552 0.84255212 0.63474984 0.81455598]\n",
      " [0.97459117 0.69901892 0.44537291 0.502001   0.71633971]]\n",
      "\n",
      "Matriz normalizada (Z-score):\n",
      " [[ 0.13000536 -1.49965857 -0.23596197 -1.16693809  1.65562449]\n",
      " [-1.56202621 -1.50653412  0.69914272 -0.52359923 -0.74319706]\n",
      " [ 1.12710404 -0.10890509 -1.26228359 -0.29104299 -1.21494832]\n",
      " [-0.42593432  1.13246763  1.19101874  0.49323058  1.0970093 ]\n",
      " [ 1.63439832  0.70904246 -0.14268634  0.04746756  0.76720469]]\n"
     ]
    }
   ],
   "source": [
    "\n",
    "matrix = np.random.random((5, 5))\n",
    "\n",
    "\n",
    "mean = np.mean(matrix)\n",
    "std_dev = np.std(matrix)\n",
    "\n",
    "normalized_matrix = (matrix - mean) / std_dev\n",
    "\n",
    "print(\"Matriz original:\\n\", matrix)\n",
    "print(\"\\nMatriz normalizada (Z-score):\\n\", normalized_matrix)"
   ]
  },
  {
   "cell_type": "markdown",
   "id": "17664529",
   "metadata": {},
   "source": [
    "#### 23. Cree un tipo de dato especial (dtype) llamada color que pueda describir el color como cuatro números del tipo unsigned bytes (RGBA) (★☆☆)\n",
    "Create a custom dtype that describes a color as four unsigned bytes (RGBA) (★☆☆)"
   ]
  },
  {
   "cell_type": "code",
   "execution_count": 42,
   "id": "dd9c5eaa",
   "metadata": {},
   "outputs": [
    {
     "name": "stdout",
     "output_type": "stream",
     "text": [
      "[(255,   0,   0, 255) (  0, 255,   0, 255) (  0,   0, 255, 255)]\n"
     ]
    }
   ],
   "source": [
    "\n",
    "color_dtype = np.dtype([('r', np.uint8), ('g', np.uint8), ('b', np.uint8), ('a', np.uint8)])\n",
    "colores = np.array([(255, 0, 0, 255), (0, 255, 0, 255), (0, 0, 255, 255)], dtype=color_dtype)\n",
    "\n",
    "print(colores)\n"
   ]
  },
  {
   "cell_type": "markdown",
   "id": "93bf90d1",
   "metadata": {},
   "source": [
    "#### 24. Multiplique una matriz 5x3 y otra 3x2 (producto cruz) (★☆☆)"
   ]
  },
  {
   "cell_type": "code",
   "execution_count": 45,
   "id": "51dca15d",
   "metadata": {},
   "outputs": [
    {
     "name": "stdout",
     "output_type": "stream",
     "text": [
      "[[0.84503921 1.05082537]\n",
      " [0.57099535 0.48370841]\n",
      " [0.46659523 0.38869356]\n",
      " [0.41997956 0.77712537]\n",
      " [0.99858088 0.9481459 ]]\n"
     ]
    }
   ],
   "source": [
    "matrix1= np.random.random((5, 3))\n",
    "matrix2= np.random.random((3, 2))\n",
    "\n",
    "result = matrix1.dot(matrix2)\n",
    "\n",
    "print(result)"
   ]
  },
  {
   "cell_type": "markdown",
   "id": "f661e300",
   "metadata": {},
   "source": [
    "#### 25. Dado un array 1D, multiplica por (-1) todos los elementos que esten en el rango 3 a 8 (★☆☆)\n",
    "Given a 1D array, negate all elements which are between 3 and 8, in place. (★☆☆)"
   ]
  },
  {
   "cell_type": "code",
   "execution_count": 43,
   "id": "30a2a4a3",
   "metadata": {},
   "outputs": [
    {
     "name": "stdout",
     "output_type": "stream",
     "text": [
      "[ 1  2 -3 -4 -5 -6 -7 -8  9 10]\n"
     ]
    }
   ],
   "source": [
    "\n",
    "arr = np.array([1, 2, 3, 4, 5, 6, 7, 8, 9, 10])\n",
    "\n",
    "arr[(arr >= 3) & (arr <= 8)] *= -1\n",
    "\n",
    "print(arr)\n"
   ]
  },
  {
   "cell_type": "markdown",
   "id": "02bd80b4",
   "metadata": {},
   "source": [
    "#### 26. ¿Cuál es resulatdo de la ejecución del siguiente script? (★☆☆)\n",
    "```python\n",
    "# Autor: Jake VanderPlas\n",
    "\n",
    "print(sum(range(5),-1))\n",
    "from numpy import *\n",
    "print(sum(range(5),-1))\n",
    "```"
   ]
  },
  {
   "cell_type": "code",
   "execution_count": 54,
   "id": "c83e4192",
   "metadata": {},
   "outputs": [
    {
     "name": "stdout",
     "output_type": "stream",
     "text": [
      "10\n",
      "10\n"
     ]
    }
   ],
   "source": [
    "print(sum(range(5),-1))\n",
    "from numpy import *\n",
    "print(sum(range(5),-1))\n"
   ]
  },
  {
   "cell_type": "markdown",
   "id": "b3f11663",
   "metadata": {},
   "source": [
    "#### 27. Considere un vector de enteros Z, ¿Cuál de las siguientes expresiones son válidas?\n",
    "Consider an integer vector Z, which of these expressions are legal? (★☆☆)\n",
    "```python\n",
    "Z**Z\n",
    "2 << Z >> 2\n",
    "Z <- Z\n",
    "1j*Z\n",
    "Z/1/1\n",
    "Z<Z>Z\n",
    "```"
   ]
  },
  {
   "cell_type": "code",
   "execution_count": 47,
   "id": "718b8204",
   "metadata": {},
   "outputs": [
    {
     "data": {
      "text/plain": [
       "\"'\\nZ**Z ---- legal\\n2 << Z >> 2 ----legal \\nZ <- Z ---- no legal\\n1j*Z --- legal\\nZ/1/1 --- legal\\nZ<Z>Z --- no legal\\n\""
      ]
     },
     "execution_count": 47,
     "metadata": {},
     "output_type": "execute_result"
    }
   ],
   "source": [
    "''''\n",
    "Z**Z ---- legal\n",
    "2 << Z >> 2 ----legal \n",
    "Z <- Z ---- no legal\n",
    "1j*Z --- legal\n",
    "Z/1/1 --- legal\n",
    "Z<Z>Z --- no legal\n",
    "'''"
   ]
  },
  {
   "cell_type": "markdown",
   "id": "862f62f8",
   "metadata": {},
   "source": [
    "#### 28. ¿Cuál es el resultado de las siguientes operaciones? (★☆☆)\n",
    "```python\n",
    "np.array(0) / np.array(0)\n",
    "np.array(0) // np.array(0)\n",
    "np.array([np.nan]).astype(int).astype(float)\n",
    "```"
   ]
  },
  {
   "cell_type": "code",
   "execution_count": 55,
   "id": "630da14f",
   "metadata": {},
   "outputs": [
    {
     "name": "stderr",
     "output_type": "stream",
     "text": [
      "C:\\Users\\natalia\\AppData\\Local\\Temp\\ipykernel_14848\\2032225821.py:1: RuntimeWarning: invalid value encountered in divide\n",
      "  np.array(0) / np.array(0)\n",
      "C:\\Users\\natalia\\AppData\\Local\\Temp\\ipykernel_14848\\2032225821.py:2: RuntimeWarning: divide by zero encountered in floor_divide\n",
      "  np.array(0) // np.array(0)\n",
      "C:\\Users\\natalia\\AppData\\Local\\Temp\\ipykernel_14848\\2032225821.py:3: RuntimeWarning: invalid value encountered in cast\n",
      "  np.array([np.nan]).astype(int).astype(float)\n"
     ]
    },
    {
     "data": {
      "text/plain": [
       "array([-9.22337204e+18])"
      ]
     },
     "execution_count": 55,
     "metadata": {},
     "output_type": "execute_result"
    }
   ],
   "source": [
    "\n",
    "np.array(0) / np.array(0)\n",
    "np.array(0) // np.array(0)\n",
    "np.array([np.nan]).astype(int).astype(float)\n"
   ]
  },
  {
   "cell_type": "markdown",
   "id": "51414d80",
   "metadata": {},
   "source": [
    "#### 29. ¿Cómo redondear alejado de cero en un vector con valores tipo float? (★☆☆)\n",
    "Es decir que si n = -0.12  redondear a -1 y si n = 1.2 redondear a 2\n",
    "How to round away from zero a float array ? (★☆☆)"
   ]
  },
  {
   "cell_type": "code",
   "execution_count": 45,
   "id": "982b70a3",
   "metadata": {},
   "outputs": [
    {
     "name": "stdout",
     "output_type": "stream",
     "text": [
      "[ 8.  4.  6.  8.  4. 10. 10.  3.  5.  8.]\n"
     ]
    }
   ],
   "source": [
    "\n",
    "\n",
    "arr = np.random.uniform(0, 10, size=10)\n",
    "\n",
    "redondiar = np.copysign(np.ceil(np.abs(arr)), arr)\n",
    "\n",
    "print(redondiar)\n"
   ]
  },
  {
   "cell_type": "markdown",
   "id": "823654ad",
   "metadata": {},
   "source": [
    "#### 30. ¿Cómo encontrar valores comunes entre dos vectores? (★☆☆)"
   ]
  },
  {
   "cell_type": "code",
   "execution_count": 57,
   "id": "6582ad1b",
   "metadata": {},
   "outputs": [
    {
     "name": "stdout",
     "output_type": "stream",
     "text": [
      "Valores comunes: [4 5]\n"
     ]
    }
   ],
   "source": [
    "\n",
    "vector1 = np.array([1, 2, 3, 4, 5])\n",
    "vector2 = np.array([4, 5, 6, 7, 8])\n",
    "\n",
    "comunes = np.intersect1d(vector1, vector2)\n",
    "\n",
    "print(\"Valores comunes:\", comunes)"
   ]
  },
  {
   "cell_type": "markdown",
   "id": "8339b8bb",
   "metadata": {},
   "source": [
    "#### 31. ¿Cómo ignorar todos los mensajes de warning de numpy (no recomendado)? (★☆☆)"
   ]
  },
  {
   "cell_type": "code",
   "execution_count": 46,
   "id": "bddeed4b",
   "metadata": {},
   "outputs": [],
   "source": [
    "import warnings\n",
    "warnings.filterwarnings('ignore')"
   ]
  },
  {
   "cell_type": "markdown",
   "id": "c482e7f4",
   "metadata": {},
   "source": [
    "#### 32. ¿Es la siguiente expresión verdadera (True)? (★☆☆)\n",
    "```python\n",
    "np.sqrt(-1) == np.emath.sqrt(-1)\n",
    "```"
   ]
  },
  {
   "cell_type": "code",
   "execution_count": 60,
   "id": "cd389cd3",
   "metadata": {},
   "outputs": [
    {
     "name": "stdout",
     "output_type": "stream",
     "text": [
      "False\n"
     ]
    },
    {
     "name": "stderr",
     "output_type": "stream",
     "text": [
      "C:\\Users\\natalia\\AppData\\Local\\Temp\\ipykernel_14848\\1428784992.py:1: RuntimeWarning: invalid value encountered in sqrt\n",
      "  answer= np.sqrt(-1) == np.emath.sqrt(-1)\n"
     ]
    }
   ],
   "source": [
    "answer= np.sqrt(-1) == np.emath.sqrt(-1)\n",
    "print(answer)"
   ]
  },
  {
   "cell_type": "markdown",
   "id": "5080a30f",
   "metadata": {},
   "source": [
    "#### 33. ¿Cómo obtener las fechas de ayer, hoy y mañana? (★☆☆)"
   ]
  },
  {
   "cell_type": "code",
   "execution_count": 48,
   "id": "b931b8af",
   "metadata": {},
   "outputs": [
    {
     "name": "stdout",
     "output_type": "stream",
     "text": [
      "Ayer: 2025-01-29\n",
      "Hoy: 2025-01-30\n",
      "Mañana: 2025-01-31\n"
     ]
    }
   ],
   "source": [
    "from datetime import datetime, timedelta\n",
    "\n",
    "hoy = datetime.today()\n",
    "\n",
    "ayer = hoy - timedelta(days=1)\n",
    "mañana = hoy + timedelta(days=1)\n",
    "\n",
    "print(\"Ayer:\", ayer.strftime('%Y-%m-%d'))\n",
    "print(\"Hoy:\", hoy.strftime('%Y-%m-%d'))\n",
    "print(\"Mañana:\", mañana.strftime('%Y-%m-%d'))\n"
   ]
  },
  {
   "cell_type": "markdown",
   "id": "967930f6",
   "metadata": {},
   "source": [
    "#### 34. ¿Cómo obtener todas la fechas correspondientes al mes de Julio del 2016? (★★☆)"
   ]
  },
  {
   "cell_type": "code",
   "execution_count": 61,
   "id": "90a9d723",
   "metadata": {},
   "outputs": [
    {
     "name": "stdout",
     "output_type": "stream",
     "text": [
      "['2016-07-01' '2016-07-02' '2016-07-03' '2016-07-04' '2016-07-05'\n",
      " '2016-07-06' '2016-07-07' '2016-07-08' '2016-07-09' '2016-07-10'\n",
      " '2016-07-11' '2016-07-12' '2016-07-13' '2016-07-14' '2016-07-15'\n",
      " '2016-07-16' '2016-07-17' '2016-07-18' '2016-07-19' '2016-07-20'\n",
      " '2016-07-21' '2016-07-22' '2016-07-23' '2016-07-24' '2016-07-25'\n",
      " '2016-07-26' '2016-07-27' '2016-07-28' '2016-07-29' '2016-07-30'\n",
      " '2016-07-31']\n"
     ]
    }
   ],
   "source": [
    "fechas = np.arange('2016-07', '2016-08', dtype='datetime64[D]')\n",
    "print(fechas)"
   ]
  },
  {
   "cell_type": "markdown",
   "id": "f333fc43",
   "metadata": {},
   "source": [
    "#### 35. ¿Cómo calcular ((A+B)*(-A/2)) (sin usar la función `copy`)?\n",
    "How to compute ((A+B)*(-A/2)) in place (without copy)? (★★☆)"
   ]
  },
  {
   "cell_type": "code",
   "execution_count": 49,
   "id": "e75cd9b5",
   "metadata": {},
   "outputs": [
    {
     "name": "stdout",
     "output_type": "stream",
     "text": [
      "-75.0\n"
     ]
    }
   ],
   "source": [
    "A = 10  \n",
    "B = 5   \n",
    "\n",
    "resultado = (A + B) * (-A / 2)\n",
    "\n",
    "print(resultado)\n"
   ]
  },
  {
   "cell_type": "markdown",
   "id": "0d3d1801",
   "metadata": {},
   "source": [
    "#### 36. Extraiga la parte entera de valores positivos de un vector que contenga valores aleatorios, usando 4 diferentes métodos (★★☆)\n",
    "Extract the integer part of a random array of positive numbers using 4 different methods (★★☆)"
   ]
  },
  {
   "cell_type": "code",
   "execution_count": 72,
   "id": "95c0dc42",
   "metadata": {},
   "outputs": [
    {
     "name": "stdout",
     "output_type": "stream",
     "text": [
      "1.0\n",
      "1.0\n",
      "1\n",
      "1.0\n"
     ]
    }
   ],
   "source": [
    "integerPart= np.floor(1.5)\n",
    "print(integerPart)\n",
    "\n",
    "integerpart2=np.fix(1.5) \n",
    "print(integerpart2)\n",
    "\n",
    "integerpart3=np.int_(1.5)\n",
    "print(integerpart3)\n",
    "\n",
    "integerPart4=np.trunc(1.5)\n",
    "print(integerPart4)\n",
    "\n"
   ]
  },
  {
   "cell_type": "markdown",
   "id": "68e50609",
   "metadata": {},
   "source": [
    "#### 37. Crea una matriz 5x5 con sus valores dentro del rango 0 - 4 (★★☆)\n",
    "Create a 5x5 matrix with row values ranging from 0 to 4 (★★☆)"
   ]
  },
  {
   "cell_type": "code",
   "execution_count": 53,
   "id": "305bfd4a",
   "metadata": {},
   "outputs": [
    {
     "name": "stdout",
     "output_type": "stream",
     "text": [
      "[[2 2 4 4 1]\n",
      " [4 2 2 0 0]\n",
      " [1 0 1 3 2]\n",
      " [2 4 3 3 4]\n",
      " [1 0 2 2 0]]\n"
     ]
    }
   ],
   "source": [
    "matrizrango=np.random.randint(0,5, size=(5,5))\n",
    "print(matrizrango)"
   ]
  },
  {
   "cell_type": "markdown",
   "id": "e910f5d2",
   "metadata": {},
   "source": [
    "#### 38. Cree una función que use \"yield\" para obtener 10 números enteros y use la función para construir un array(★☆☆)\n",
    "Consider a generator function that generates 10 integers and use it to build an array (★☆☆)"
   ]
  },
  {
   "cell_type": "code",
   "execution_count": 75,
   "id": "69661e10",
   "metadata": {},
   "outputs": [
    {
     "name": "stdout",
     "output_type": "stream",
     "text": [
      "[0 1 2 3 4 5 6 7 8 9]\n"
     ]
    }
   ],
   "source": [
    "def generar_enteros():\n",
    "    for i in range(10):\n",
    "        yield i  \n",
    "\n",
    "\n",
    "array = np.array([num for num in generar_enteros()])\n",
    "\n",
    "\n",
    "print(array)"
   ]
  },
  {
   "cell_type": "markdown",
   "id": "f75ce1c9",
   "metadata": {},
   "source": [
    "#### 39. Cree un vector de tamaño 10 con los valores en el rango 0 a 1 (0 y 1 excluidos). (★★☆)"
   ]
  },
  {
   "cell_type": "code",
   "execution_count": 54,
   "id": "61e89688",
   "metadata": {},
   "outputs": [
    {
     "name": "stdout",
     "output_type": "stream",
     "text": [
      "[0.4735968  0.4419702  0.55882604 0.27128582 0.66325191 0.66293095\n",
      " 0.32542338 0.31107458 0.62969909 0.47187401]\n"
     ]
    }
   ],
   "source": [
    "vectortime = np.random.uniform(0, 1, 10)\n",
    "print(vectortime)\n"
   ]
  },
  {
   "cell_type": "markdown",
   "id": "9ef16c80",
   "metadata": {},
   "source": [
    "#### 40. Cree un vector de tamaño 10 con valores aleatorios, luego ordénelos (★★☆)."
   ]
  },
  {
   "cell_type": "code",
   "execution_count": 82,
   "id": "5cd36622",
   "metadata": {},
   "outputs": [
    {
     "name": "stdout",
     "output_type": "stream",
     "text": [
      "[0.95331979 0.64455076 0.62545196 0.65024605 0.59808926 0.86809625\n",
      " 0.63981641 0.22489502 0.29063936 0.99495707]\n",
      "[0.22489502 0.29063936 0.59808926 0.62545196 0.63981641 0.64455076\n",
      " 0.65024605 0.86809625 0.95331979 0.99495707]\n"
     ]
    }
   ],
   "source": [
    "vector=np.random.uniform(0, 1, 10)\n",
    "\n",
    "print(vector)\n",
    "vectorsort=np.sort(vector)\n",
    "print(vectorsort)"
   ]
  },
  {
   "cell_type": "markdown",
   "id": "ca45295e",
   "metadata": {},
   "source": [
    "#### 41. ¿Cómo se sumaría un pequeño vector de manera que lo haga más rapidamente que usando la función np.sum? (★★☆)"
   ]
  },
  {
   "cell_type": "code",
   "execution_count": 55,
   "id": "68e1ff15",
   "metadata": {},
   "outputs": [
    {
     "name": "stdout",
     "output_type": "stream",
     "text": [
      "3.0979318860067275\n"
     ]
    }
   ],
   "source": [
    "vector = np.random.uniform(0, 1, 10)\n",
    "suma = vector @ np.ones(len(vector))  \n",
    "\n",
    "print(suma)\n"
   ]
  },
  {
   "cell_type": "markdown",
   "id": "357b9c71",
   "metadata": {},
   "source": [
    "#### 42. Considere 2 vectores A y B ¿Cómo verifica que son iguales? (★★☆)\n",
    "Consider two random array A and B, check if they are equal"
   ]
  },
  {
   "cell_type": "code",
   "execution_count": 84,
   "id": "2ec5e444",
   "metadata": {},
   "outputs": [
    {
     "name": "stdout",
     "output_type": "stream",
     "text": [
      "True\n"
     ]
    }
   ],
   "source": [
    "vectorA=[1,2,3,4,5]\n",
    "vectorB=[1,2,3,4,5]\n",
    "equal=np.allclose(vectorA,vectorB)\n",
    "print(equal)"
   ]
  },
  {
   "cell_type": "markdown",
   "id": "1e170053",
   "metadata": {},
   "source": [
    "#### 43. Cree un vector inmutable (de sólo lectura) (★★☆)\n",
    "Make an array immutable (read-only)"
   ]
  },
  {
   "cell_type": "code",
   "execution_count": 57,
   "id": "225cee58",
   "metadata": {},
   "outputs": [
    {
     "name": "stdout",
     "output_type": "stream",
     "text": [
      "(1, 2, 3, 4, 5)\n"
     ]
    }
   ],
   "source": [
    "arr = (1, 2, 3, 4, 5) \n",
    "print(arr)\n"
   ]
  },
  {
   "cell_type": "markdown",
   "id": "32633db1",
   "metadata": {},
   "source": [
    "#### 44. Cree una maetriz 10x2 con elementos aleatorios,representando coordenadas cartesianas, conviertalas a coordenadas polares (★★☆)."
   ]
  },
  {
   "cell_type": "code",
   "execution_count": 86,
   "id": "b2f15343",
   "metadata": {},
   "outputs": [
    {
     "name": "stdout",
     "output_type": "stream",
     "text": [
      "[0.53050912 1.09852906 0.80577867 0.94697555 0.79502813 0.83663083\n",
      " 0.59140111 1.27520427 0.21087437 1.12045695]\n",
      "[1.23599834 0.9066308  0.60259625 0.20198984 0.20061317 1.52222239\n",
      " 1.54064023 0.78409779 0.26441455 0.84554779]\n"
     ]
    }
   ],
   "source": [
    "matriz=np.random.random((10,2))\n",
    "x=matriz[:,0]\n",
    "y=matriz[:,1]\n",
    "\n",
    "r=np.sqrt(x**2+y**2)\n",
    "t=np.arctan2(y,x)\n",
    "\n",
    "print(r)\n",
    "print(t)    "
   ]
  },
  {
   "cell_type": "markdown",
   "id": "2c17e9ac",
   "metadata": {},
   "source": [
    "#### 45. Crea un vector con 10 elementos aleatorios y reemplace el valor máximo con 0 (★★☆)"
   ]
  },
  {
   "cell_type": "code",
   "execution_count": 60,
   "id": "832dd8b0",
   "metadata": {},
   "outputs": [
    {
     "name": "stdout",
     "output_type": "stream",
     "text": [
      "Vector original: [75 89 63 68 55 25 55 58 50 49]\n",
      "Vector modificado: [75  0 63 68 55 25 55 58 50 49]\n"
     ]
    }
   ],
   "source": [
    "vector = np.random.randint(1, 101, size=10)\n",
    "print(\"Vector original:\", vector)\n",
    "max_index = np.argmax(vector)\n",
    "vector[max_index] = 0\n",
    "print(\"Vector modificado:\", vector)\n"
   ]
  },
  {
   "cell_type": "markdown",
   "id": "30cedd8a",
   "metadata": {},
   "source": [
    "#### 46. Crea un vector structurado (structured array) con `x` e `y` como coordenadas, que generen un grilla (meshgrid) en el área [0, 1]x[0, 1] (★★☆)\n",
    "Create a structured array with `x` and `y` coordinates covering the [0,1]x[0,1] area"
   ]
  },
  {
   "cell_type": "code",
   "execution_count": 87,
   "id": "02944036",
   "metadata": {},
   "outputs": [
    {
     "name": "stdout",
     "output_type": "stream",
     "text": [
      "[(0.  , 0.  ) (0.25, 0.  ) (0.5 , 0.  ) (0.75, 0.  ) (1.  , 0.  )\n",
      " (0.  , 0.25) (0.25, 0.25) (0.5 , 0.25) (0.75, 0.25) (1.  , 0.25)\n",
      " (0.  , 0.5 ) (0.25, 0.5 ) (0.5 , 0.5 ) (0.75, 0.5 ) (1.  , 0.5 )\n",
      " (0.  , 0.75) (0.25, 0.75) (0.5 , 0.75) (0.75, 0.75) (1.  , 0.75)\n",
      " (0.  , 1.  ) (0.25, 1.  ) (0.5 , 1.  ) (0.75, 1.  ) (1.  , 1.  )]\n"
     ]
    }
   ],
   "source": [
    "\n",
    "resolucion = 5\n",
    "\n",
    "x = np.linspace(0, 1, resolucion)\n",
    "y = np.linspace(0, 1, resolucion)\n",
    "\n",
    "X, Y = np.meshgrid(x, y)\n",
    "\n",
    "dtype = [('x', float), ('y', float)]\n",
    "mesh_array = np.array(list(zip(X.ravel(), Y.ravel())), dtype=dtype)\n",
    "\n",
    "\n",
    "print(mesh_array)\n"
   ]
  },
  {
   "cell_type": "markdown",
   "id": "8d429017",
   "metadata": {},
   "source": [
    "#### 47. Dados dos vectores, X, e Y, construya la matriz de Cauchy C (Cij =1/(xi - yj)) (★★☆)"
   ]
  },
  {
   "cell_type": "code",
   "execution_count": 3,
   "id": "f7caed0a",
   "metadata": {},
   "outputs": [
    {
     "name": "stdout",
     "output_type": "stream",
     "text": [
      "[[-0.33333333 -0.25       -0.2       ]\n",
      " [-0.5        -0.33333333 -0.25      ]\n",
      " [-1.         -0.5        -0.33333333]]\n"
     ]
    }
   ],
   "source": [
    "def matriz_cauchy(X, Y):\n",
    "    X = np.array(X, dtype=float)\n",
    "    Y = np.array(Y, dtype=float)\n",
    "\n",
    "    if len(X) != len(Y):\n",
    "        raise ValueError(\"Los vectores X e Y deben tener la misma longitud\")\n",
    "\n",
    "    C = 1 / (X[:, np.newaxis] - Y) \n",
    "    return C\n",
    "\n",
    "\n",
    "X = [1, 2, 3]\n",
    "Y = [4, 5, 6]\n",
    "C = matriz_cauchy(X, Y)\n",
    "print(C)\n"
   ]
  },
  {
   "cell_type": "markdown",
   "id": "a6347b8c",
   "metadata": {},
   "source": [
    "#### 48. Imprima el máximo y mínimo valor representable para un tipo de datos de numpy escalar (★★☆)"
   ]
  },
  {
   "cell_type": "code",
   "execution_count": 88,
   "id": "af033ec5",
   "metadata": {},
   "outputs": [
    {
     "name": "stdout",
     "output_type": "stream",
     "text": [
      "Máximo valor de float64: 1.7976931348623157e+308\n",
      "Mínimo valor de float64: -1.7976931348623157e+308\n",
      "Máximo valor de int32: 2147483647\n",
      "Mínimo valor de int32: -2147483648\n"
     ]
    }
   ],
   "source": [
    "\n",
    "finfo = np.finfo(np.float64)\n",
    "print(f\"Máximo valor de float64: {finfo.max}\")\n",
    "print(f\"Mínimo valor de float64: {finfo.min}\")\n",
    "\n",
    "\n",
    "iinfo = np.iinfo(np.int32)\n",
    "print(f\"Máximo valor de int32: {iinfo.max}\")\n",
    "print(f\"Mínimo valor de int32: {iinfo.min}\")"
   ]
  },
  {
   "cell_type": "markdown",
   "id": "c1db9b74",
   "metadata": {},
   "source": [
    "#### 49. ¿Cómo imprimir todos los valores de un vector? (★★☆)\n",
    "(Recuerde que cuando el vector es muy grade numpy suele mostrarlos en secciones o sólo una parte)"
   ]
  },
  {
   "cell_type": "code",
   "execution_count": null,
   "id": "e63c17ce",
   "metadata": {},
   "outputs": [],
   "source": [
    "vector = [1, 2, 3, 4, 5]\n",
    "print(vector) \n"
   ]
  },
  {
   "cell_type": "markdown",
   "id": "6c08afc4",
   "metadata": {},
   "source": [
    "#### 50. ¿Cómo encontrar el valor más cercano a un valor(valor escalar) en un vector? (★★☆)"
   ]
  },
  {
   "cell_type": "code",
   "execution_count": 92,
   "id": "d2c9a3cc",
   "metadata": {},
   "outputs": [
    {
     "name": "stdout",
     "output_type": "stream",
     "text": [
      "[ 1  3  7 15  9  2]\n",
      "El valor más cercano a 19 en el vector es 15 \n"
     ]
    }
   ],
   "source": [
    "\n",
    "vector = np.array([1, 3, 7, 15, 9, 2])\n",
    "print(vector)\n",
    "\n",
    "\n",
    "valor = 19\n",
    "\n",
    "diferencias = np.abs(vector - valor)\n",
    "\n",
    "indice_cercano = np.argmin(diferencias)\n",
    "\n",
    "valor_cercano = vector[indice_cercano]\n",
    "\n",
    "print(f\"El valor más cercano a {valor} en el vector es {valor_cercano} \")\n"
   ]
  },
  {
   "cell_type": "markdown",
   "id": "f0560f6d",
   "metadata": {},
   "source": [
    "#### 51. Crea un vector estructurada (structured array) representado la posición (x, y) y el color (r, g, b) (★★☆)"
   ]
  },
  {
   "cell_type": "code",
   "execution_count": 4,
   "id": "8a63f92e",
   "metadata": {},
   "outputs": [
    {
     "name": "stdout",
     "output_type": "stream",
     "text": [
      "Primer elemento: ((10.5, 20.0), (255, 0, 0))\n",
      "Posición del segundo elemento: (5.2, 15.3)\n",
      "Color del tercer elemento: (0, 0, 255)\n"
     ]
    }
   ],
   "source": [
    "dtype = np.dtype([('pos', [('x', 'f4'), ('y', 'f4')]),  \n",
    "                  ('color', [('r', 'u1'), ('g', 'u1'), ('b', 'u1')])]) \n",
    "\n",
    "vector = np.array([((10.5, 20.0), (255, 0, 0)), \n",
    "                   ((5.2, 15.3), (0, 255, 0)),   \n",
    "                   ((8.7, 12.1), (0, 0, 255))],  \n",
    "                 dtype=dtype)\n",
    "\n",
    "print(\"Primer elemento:\", vector[0])\n",
    "print(\"Posición del segundo elemento:\", vector[1]['pos'])\n",
    "print(\"Color del tercer elemento:\", vector[2]['color'])\n"
   ]
  },
  {
   "cell_type": "markdown",
   "id": "d046a984",
   "metadata": {},
   "source": [
    "#### 52. Considere un vector de elementos aleatorios, de dimensiones 100x2, representado coordenadas (x, y), encuentre las distancias de entre todos los puntos en una matriz 100x100 (★★☆)"
   ]
  },
  {
   "cell_type": "code",
   "execution_count": 96,
   "id": "beba3641",
   "metadata": {},
   "outputs": [
    {
     "name": "stdout",
     "output_type": "stream",
     "text": [
      "[[0.         4.19188724 5.74008997 ... 4.95717184 3.85123934 6.01062909]\n",
      " [4.19188724 0.         5.90939771 ... 2.91086981 8.03601238 6.05980467]\n",
      " [5.74008997 5.90939771 0.         ... 3.31970237 7.6514179  0.28197285]\n",
      " ...\n",
      " [4.95717184 2.91086981 3.31970237 ... 0.         8.26739182 3.39814423]\n",
      " [3.85123934 8.03601238 7.6514179  ... 8.26739182 0.         7.92698532]\n",
      " [6.01062909 6.05980467 0.28197285 ... 3.39814423 7.92698532 0.        ]]\n"
     ]
    }
   ],
   "source": [
    "\n",
    "puntos = np.random.rand(100, 2) * 10\n",
    "\n",
    "distancias = np.zeros((100, 100))\n",
    "\n",
    "for i in range(100):\n",
    "    for j in range(100):\n",
    "        distancias[i, j] = np.linalg.norm(puntos[i] - puntos[j])\n",
    "\n",
    "\n",
    "print(distancias)\n"
   ]
  },
  {
   "cell_type": "markdown",
   "id": "6990348e",
   "metadata": {},
   "source": [
    "#### 53. ¿Cómo convertir un vector de float(32 bits) a un vector entero (32 bits) ?"
   ]
  },
  {
   "cell_type": "code",
   "execution_count": 3,
   "id": "3cf02c6f",
   "metadata": {},
   "outputs": [
    {
     "name": "stdout",
     "output_type": "stream",
     "text": [
      "[ 1  2 -3  4  5]\n"
     ]
    }
   ],
   "source": [
    "vectorfloat = np.array([1.7, 2.3, -3.8, 4.9, 5.2], dtype=np.float32)\n",
    "vectorint=vectorfloat.astype(np.int32)\n",
    "print(vectorint)"
   ]
  },
  {
   "cell_type": "markdown",
   "id": "62dfe688",
   "metadata": {},
   "source": [
    "#### 54. ¿Cómo podrías convertir el siguiente texto en una matriz de numpy? (★★☆)\n",
    "```\n",
    "1, 2, 3, 4, 5\n",
    "6,  ,  , 7, 8\n",
    " ,  , 9,10,11\n",
    "```"
   ]
  },
  {
   "cell_type": "code",
   "execution_count": 98,
   "id": "69d1eb6c",
   "metadata": {},
   "outputs": [
    {
     "name": "stdout",
     "output_type": "stream",
     "text": [
      "[[ 1.  2.  3.  4.  5.]\n",
      " [ 6. nan nan  7.  8.]\n",
      " [nan nan  9. 10. 11.]]\n"
     ]
    }
   ],
   "source": [
    "\n",
    "texto = \"\"\"\n",
    "1, 2, 3, 4, 5\n",
    "6,  ,  , 7, 8\n",
    " ,  , 9,10,11\n",
    "\"\"\"\n",
    "\n",
    "\n",
    "matriz = np.array([\n",
    "    [float(num) if num.strip() else np.nan for num in linea.split(\",\")]\n",
    "    for linea in texto.strip().split(\"\\n\")\n",
    "])\n",
    "\n",
    "\n",
    "print(matriz)"
   ]
  },
  {
   "cell_type": "markdown",
   "id": "969da086",
   "metadata": {},
   "source": [
    "#### 55. ¿Cuál es el equivalente de la función `enumerate` para vectores numpy? (★★☆)"
   ]
  },
  {
   "cell_type": "code",
   "execution_count": 99,
   "id": "56f4c70f",
   "metadata": {},
   "outputs": [
    {
     "name": "stdout",
     "output_type": "stream",
     "text": [
      "Índice: 0, Valor: 10\n",
      "Índice: 1, Valor: 20\n",
      "Índice: 2, Valor: 30\n",
      "Índice: 3, Valor: 40\n"
     ]
    }
   ],
   "source": [
    "vector = np.array([10, 20, 30, 40])\n",
    "\n",
    "for idx, value in np.ndenumerate(vector):\n",
    "    print(f\"Índice: {idx[0]}, Valor: {value}\")\n"
   ]
  },
  {
   "cell_type": "markdown",
   "id": "2652a58e",
   "metadata": {},
   "source": [
    "#### 56. Genera una matriz 2d tipo campana de Gauss (sigma = 1, mu = 0) (2D Gaussian-like array) (★★☆)"
   ]
  },
  {
   "cell_type": "code",
   "execution_count": 103,
   "id": "9aba75b9",
   "metadata": {},
   "outputs": [
    {
     "name": "stdout",
     "output_type": "stream",
     "text": [
      "[[1.23409804e-04 7.30177997e-04 2.77005282e-03 6.73794700e-03\n",
      "  1.05086605e-02 1.05086605e-02 6.73794700e-03 2.77005282e-03\n",
      "  7.30177997e-04 1.23409804e-04]\n",
      " [7.30177997e-04 4.32023947e-03 1.63895538e-02 3.98663678e-02\n",
      "  6.21765240e-02 6.21765240e-02 3.98663678e-02 1.63895538e-02\n",
      "  4.32023947e-03 7.30177997e-04]\n",
      " [2.77005282e-03 1.63895538e-02 6.21765240e-02 1.51239760e-01\n",
      "  2.35877083e-01 2.35877083e-01 1.51239760e-01 6.21765240e-02\n",
      "  1.63895538e-02 2.77005282e-03]\n",
      " [6.73794700e-03 3.98663678e-02 1.51239760e-01 3.67879441e-01\n",
      "  5.73753421e-01 5.73753421e-01 3.67879441e-01 1.51239760e-01\n",
      "  3.98663678e-02 6.73794700e-03]\n",
      " [1.05086605e-02 6.21765240e-02 2.35877083e-01 5.73753421e-01\n",
      "  8.94839317e-01 8.94839317e-01 5.73753421e-01 2.35877083e-01\n",
      "  6.21765240e-02 1.05086605e-02]\n",
      " [1.05086605e-02 6.21765240e-02 2.35877083e-01 5.73753421e-01\n",
      "  8.94839317e-01 8.94839317e-01 5.73753421e-01 2.35877083e-01\n",
      "  6.21765240e-02 1.05086605e-02]\n",
      " [6.73794700e-03 3.98663678e-02 1.51239760e-01 3.67879441e-01\n",
      "  5.73753421e-01 5.73753421e-01 3.67879441e-01 1.51239760e-01\n",
      "  3.98663678e-02 6.73794700e-03]\n",
      " [2.77005282e-03 1.63895538e-02 6.21765240e-02 1.51239760e-01\n",
      "  2.35877083e-01 2.35877083e-01 1.51239760e-01 6.21765240e-02\n",
      "  1.63895538e-02 2.77005282e-03]\n",
      " [7.30177997e-04 4.32023947e-03 1.63895538e-02 3.98663678e-02\n",
      "  6.21765240e-02 6.21765240e-02 3.98663678e-02 1.63895538e-02\n",
      "  4.32023947e-03 7.30177997e-04]\n",
      " [1.23409804e-04 7.30177997e-04 2.77005282e-03 6.73794700e-03\n",
      "  1.05086605e-02 1.05086605e-02 6.73794700e-03 2.77005282e-03\n",
      "  7.30177997e-04 1.23409804e-04]]\n"
     ]
    }
   ],
   "source": [
    "\n",
    "size = 10  \n",
    "sd = 1   \n",
    "    \n",
    "\n",
    "x = np.linspace(-3, 3, size)\n",
    "y = np.linspace(-3, 3, size)\n",
    "X, Y = np.meshgrid(x, y)\n",
    "\n",
    "\n",
    "G = np.exp(-(X**2 + Y**2) / (2 * sd**2))\n",
    "\n",
    "print(G)"
   ]
  },
  {
   "cell_type": "markdown",
   "id": "2d6d32df",
   "metadata": {},
   "source": [
    "#### 57. ¿Cómo poner aleatoriamente p elementos en un array 2d? (★★☆)"
   ]
  },
  {
   "cell_type": "code",
   "execution_count": 6,
   "id": "e625949d",
   "metadata": {},
   "outputs": [
    {
     "name": "stdout",
     "output_type": "stream",
     "text": [
      "[[1 0 0 0 0]\n",
      " [1 0 1 0 0]\n",
      " [1 0 0 0 0]\n",
      " [0 0 1 0 0]\n",
      " [0 0 0 0 0]]\n"
     ]
    }
   ],
   "source": [
    "filas, columnas = 5, 5\n",
    "p = 5  \n",
    "array = np.zeros((filas, columnas), dtype=int)\n",
    "indices = np.random.choice(filas * columnas, p, replace=False)\n",
    "fila_idx, col_idx = np.unravel_index(indices, (filas, columnas))\n",
    "\n",
    "array[fila_idx, col_idx] = 1\n",
    "\n",
    "print(array)\n"
   ]
  },
  {
   "cell_type": "markdown",
   "id": "768d69fd",
   "metadata": {},
   "source": [
    "#### 58. Dada una matriz, resta a cada elemento de una fila el promedio de la fila (★★☆)\n",
    "Subtract the mean of each row of a matrix (★★☆)"
   ]
  },
  {
   "cell_type": "code",
   "execution_count": 106,
   "id": "2c2cd71b",
   "metadata": {},
   "outputs": [
    {
     "name": "stdout",
     "output_type": "stream",
     "text": [
      "Matriz original:\n",
      " [[5 1 2 4 1]\n",
      " [9 3 2 4 6]\n",
      " [2 9 8 1 1]\n",
      " [8 4 2 9 9]\n",
      " [3 7 8 9 6]]\n",
      "\n",
      "Matriz con el promedio restado por fila:\n",
      " [[ 2.4 -1.6 -0.6  1.4 -1.6]\n",
      " [ 4.2 -1.8 -2.8 -0.8  1.2]\n",
      " [-2.2  4.8  3.8 -3.2 -3.2]\n",
      " [ 1.6 -2.4 -4.4  2.6  2.6]\n",
      " [-3.6  0.4  1.4  2.4 -0.6]]\n"
     ]
    }
   ],
   "source": [
    "\n",
    "A = np.random.randint(1, 10, (5, 5))\n",
    "print(\"Matriz original:\\n\", A)\n",
    "\n",
    "row_means = A.mean(axis=1, keepdims=True)\n",
    "\n",
    "A_centered = A - row_means\n",
    "\n",
    "print(\"\\nMatriz con el promedio restado por fila:\\n\", A_centered)\n"
   ]
  },
  {
   "cell_type": "markdown",
   "id": "4bd66493",
   "metadata": {},
   "source": [
    "#### 59. ¿Cómo ordenar una matriz teniendo como referencia la n ava columna? (★★☆)\n",
    "How to sort an array by the nth column? (★★☆)"
   ]
  },
  {
   "cell_type": "code",
   "execution_count": 8,
   "id": "020b8efc",
   "metadata": {},
   "outputs": [
    {
     "name": "stdout",
     "output_type": "stream",
     "text": [
      "[[7 1 3]\n",
      " [3 2 5]\n",
      " [1 4 2]]\n"
     ]
    }
   ],
   "source": [
    "matriz = np.array([\n",
    "    [3, 2, 5],\n",
    "    [1, 4, 2],\n",
    "    [7, 1, 3]\n",
    "])\n",
    "n = 1  \n",
    "matriz_ordenada = matriz[matriz[:, n].argsort()]\n",
    "\n",
    "print(matriz_ordenada)\n"
   ]
  },
  {
   "cell_type": "markdown",
   "id": "2deeda53",
   "metadata": {},
   "source": [
    "#### 60. ¿Cómo averiguar si una matriz tiene columnas nulas? (★★☆)"
   ]
  },
  {
   "cell_type": "code",
   "execution_count": 107,
   "id": "68d971e2",
   "metadata": {},
   "outputs": [
    {
     "name": "stdout",
     "output_type": "stream",
     "text": [
      "Matriz original:\n",
      " [[0 2 3 0]\n",
      " [0 5 6 0]\n",
      " [0 8 9 0]]\n",
      "\n",
      "Columnas nulas (True = columna nula):\n",
      " [ True False False  True]\n",
      "\n",
      "Índices de las columnas nulas: [0 3]\n"
     ]
    }
   ],
   "source": [
    "\n",
    "A = np.array([\n",
    "    [0, 2, 3, 0],\n",
    "    [0, 5, 6, 0],\n",
    "    [0, 8, 9, 0]\n",
    "])\n",
    "\n",
    "is_null_column = np.all(A == 0, axis=0)\n",
    "\n",
    "print(\"Matriz original:\\n\", A)\n",
    "print(\"\\nColumnas nulas (True = columna nula):\\n\", is_null_column)\n",
    "\n",
    "\n",
    "null_column_indices = np.where(is_null_column)[0]\n",
    "print(\"\\nÍndices de las columnas nulas:\", null_column_indices)\n"
   ]
  },
  {
   "cell_type": "markdown",
   "id": "768838bd",
   "metadata": {},
   "source": [
    "#### 61. Encuentre el valor más cercano a un valor dado en un vector (★★☆)"
   ]
  },
  {
   "cell_type": "code",
   "execution_count": 9,
   "id": "b78f5779",
   "metadata": {},
   "outputs": [
    {
     "name": "stdout",
     "output_type": "stream",
     "text": [
      "El valor más cercano a 38 es 35\n"
     ]
    }
   ],
   "source": [
    "vector = np.array([10, 20, 35, 50, 65, 80])\n",
    "valor_dado = 38\n",
    "indice_cercano = np.abs(vector - valor_dado).argmin()\n",
    "valor_mas_cercano = vector[indice_cercano]\n",
    "\n",
    "print(f\"El valor más cercano a {valor_dado} es {valor_mas_cercano}\")\n"
   ]
  },
  {
   "cell_type": "markdown",
   "id": "8c9c7575",
   "metadata": {},
   "source": [
    "#### 62. Considere 2 arrays con dimensiones (1, 3) y (3, 1), ¿Cómo calcular su suma usando un iterador? (★★☆)\n",
    "Considering two arrays with shape (1,3) and (3,1), how to compute their sum using an iterator? (★★☆)"
   ]
  },
  {
   "cell_type": "code",
   "execution_count": null,
   "id": "c6591790",
   "metadata": {},
   "outputs": [],
   "source": []
  },
  {
   "cell_type": "markdown",
   "id": "f265a826",
   "metadata": {},
   "source": [
    "#### 63. Crea un clase vector (vector class) que tenga name como atributo (★★☆)\n",
    "Create an array class that has a name attribute (★★☆)"
   ]
  },
  {
   "cell_type": "code",
   "execution_count": null,
   "id": "6cc8dd63",
   "metadata": {},
   "outputs": [],
   "source": [
    "class Vector:\n",
    "    def __init__(self, name, values):\n",
    "        self.name = name\n",
    "        self.values = list(values) \n",
    "    def __repr__(self):\n",
    "        return f\"Vector('{self.name}', {self.values})\"\n",
    "\n",
    "    def magnitude(self):\n",
    "        return sum(x**2 for x in self.values) ** 0.5\n",
    "\n",
    "    def normalize(self):\n",
    "        mag = self.magnitude()\n",
    "        if mag == 0:\n",
    "            return Vector(self.name + \"_norm\", [0] * len(self.values))\n",
    "        return Vector(self.name + \"_norm\", [x / mag for x in self.values])\n",
    "    \n",
    "    def dot(self, other):\n",
    "        \"\"\" Calcula el producto punto con otro vector. \"\"\"\n",
    "        if len(self.values) != len(other.values):\n",
    "            raise ValueError(\"Los vectores deben tener la misma dimensión.\")\n",
    "        return sum(x * y for x, y in zip(self.values, other.values))\n"
   ]
  },
  {
   "cell_type": "markdown",
   "id": "2afd8343",
   "metadata": {},
   "source": [
    "#### 64. Dado un vector Z, ¿Cómo añadir 1 a cada elemento en las posiciones dadas por otro vector I? (tenga cuidado con los índices repetidos) (★★★)\n",
    "Consider a given vector, how to add 1 to each element indexed by a second vector (be careful with repeated indices)? (★★★)"
   ]
  },
  {
   "cell_type": "code",
   "execution_count": null,
   "id": "e5504e4b",
   "metadata": {},
   "outputs": [],
   "source": []
  },
  {
   "cell_type": "markdown",
   "id": "55be5887",
   "metadata": {},
   "source": [
    "#### 65. ¿Cómo acumular (sumar) los elementos de un vector X en un vector F de acuerdo a un vector de posiciones I? (★★★)\n",
    "```python\n",
    "X = [1,2,3,4,5,6]\n",
    "I = [1,3,9,3,4,1]\n",
    "# Resultado F = [0, 7, 0, 6, 5, 0, 0, 0, 0, 3]\n",
    "```"
   ]
  },
  {
   "cell_type": "code",
   "execution_count": 10,
   "id": "adf943ce",
   "metadata": {},
   "outputs": [
    {
     "name": "stdout",
     "output_type": "stream",
     "text": [
      "[0 7 0 6 5 0 0 0 0 3]\n"
     ]
    }
   ],
   "source": [
    "X = np.array([1, 2, 3, 4, 5, 6])\n",
    "I = np.array([1, 3, 9, 3, 4, 1])\n",
    "F = np.zeros(I.max() + 1, dtype=int)\n",
    "np.add.at(F, I, X)\n",
    "print(F) \n"
   ]
  },
  {
   "cell_type": "markdown",
   "id": "294e4ac8",
   "metadata": {},
   "source": [
    "#### 66. Considere un numpy array de dimensiones (w, h, 3) que representa una imagen, calcule el número de colores únicos (★★☆)\n",
    "Considering a (w,h,3) image of (dtype=ubyte), compute the number of unique colors (★★☆)"
   ]
  },
  {
   "cell_type": "code",
   "execution_count": null,
   "id": "f0b798da",
   "metadata": {},
   "outputs": [],
   "source": []
  },
  {
   "cell_type": "markdown",
   "id": "14b2e3cd",
   "metadata": {},
   "source": [
    "#### 67. Considere un array de 4 dimensiones, ¿Cómo obtener la suma de las dos últimas dimensiones ó ejes? (★★★)\n",
    "Considering a four dimensions array, how to get sum over the last two axis at once? (★★★)"
   ]
  },
  {
   "cell_type": "code",
   "execution_count": 12,
   "id": "9bb70854",
   "metadata": {},
   "outputs": [
    {
     "name": "stdout",
     "output_type": "stream",
     "text": [
      "Forma original del array: (2, 3, 4, 5)\n",
      "Resultado después de sumar: (2, 3)\n",
      "[[100 105  98]\n",
      " [125 113 104]]\n"
     ]
    }
   ],
   "source": [
    "A = np.random.randint(1, 10, (2, 3, 4, 5))\n",
    "resultado = np.sum(A, axis=(-2, -1))\n",
    "\n",
    "print(\"Forma original del array:\", A.shape) \n",
    "print(\"Resultado después de sumar:\", resultado.shape)  \n",
    "print(resultado)\n"
   ]
  },
  {
   "cell_type": "markdown",
   "id": "d7e6d420",
   "metadata": {},
   "source": [
    "#### 68. Considere un vector unidimensional D, ¿cómo calcular los promedios de los subsets de D, si se tienen un vector S del mismo tamaño describiendo los índices de las posiciones de las cuáles deben obtenerse los promedios?(★★★)\n",
    "```python\n",
    "# Sea por ejemplo D\n",
    "D = [0.3, 0.5, 0.2, 0.7, 1., -0.6]\n",
    "# y S\n",
    "S = [0, 1, 1, 2, 2, 2]\n",
    "# El vector de los promedios será\n",
    "R = [0.3, 0.35, 0.36667]\n",
    "```"
   ]
  },
  {
   "cell_type": "code",
   "execution_count": null,
   "id": "fc3f387d",
   "metadata": {},
   "outputs": [],
   "source": []
  },
  {
   "cell_type": "markdown",
   "id": "02e331a8",
   "metadata": {},
   "source": [
    "#### 69. ¿Cómo obtener la diagonal de una matriz que es resultado de la operación entre dos matrices `np.dot(A, B)`? Use las matrices A y B para su respuesta.(★★★)"
   ]
  },
  {
   "cell_type": "code",
   "execution_count": 13,
   "id": "1ba179c0",
   "metadata": {},
   "outputs": [
    {
     "name": "stdout",
     "output_type": "stream",
     "text": [
      "Diagonal con np.dot y np.diag: [30 69 90]\n",
      "Diagonal con np.einsum: [30 69 90]\n",
      "Diagonal con sum y multiplicación: [30 69 90]\n"
     ]
    }
   ],
   "source": [
    "A = np.array([[1, 2, 3],\n",
    "              [4, 5, 6],\n",
    "              [7, 8, 9]])\n",
    "\n",
    "B = np.array([[9, 8, 7],\n",
    "              [6, 5, 4],\n",
    "              [3, 2, 1]])\n",
    "diag1 = np.diag(np.dot(A, B))\n",
    "diag2 = np.einsum('ij,ji->i', A, B)\n",
    "diag3 = np.sum(A * B.T, axis=1)\n",
    "\n",
    "print(\"Diagonal con np.dot y np.diag:\", diag1)\n",
    "print(\"Diagonal con np.einsum:\", diag2)\n",
    "print(\"Diagonal con sum y multiplicación:\", diag3)\n"
   ]
  },
  {
   "cell_type": "markdown",
   "id": "d11a8df1",
   "metadata": {},
   "source": [
    "#### 70. Sea el vector [1, 2, 3, 4, 5], ¿Cómo construir un nuevo vector con 3 consecutivos zeros intercalados entre cada valor?  (★★★)\n",
    "Consider the vector [1, 2, 3, 4, 5], how to build a new vector with 3 consecutive zeros interleaved between each value? (★★★)"
   ]
  },
  {
   "cell_type": "code",
   "execution_count": null,
   "id": "f0149adc",
   "metadata": {},
   "outputs": [],
   "source": []
  },
  {
   "cell_type": "markdown",
   "id": "d07aaecb",
   "metadata": {},
   "source": [
    "#### 71. Sea un arrays de dimensiones (5, 5, 3), cómo multiplicarlo por un array de dimensiones (5, 5)? (★★★)"
   ]
  },
  {
   "cell_type": "code",
   "execution_count": 14,
   "id": "767622f8",
   "metadata": {},
   "outputs": [
    {
     "name": "stdout",
     "output_type": "stream",
     "text": [
      "[ 1  2 -3  4]\n"
     ]
    }
   ],
   "source": [
    "vector_float = np.array([1.7, 2.3, -3.8, 4.9], dtype=np.float32)\n",
    "vector_int = vector_float.astype(np.int32)\n",
    "\n",
    "print(vector_int)\n"
   ]
  },
  {
   "cell_type": "markdown",
   "id": "44b331f6",
   "metadata": {},
   "source": [
    "#### 72. ¿Cómo intercambiar dos filas en un array? (★★★)"
   ]
  },
  {
   "cell_type": "code",
   "execution_count": null,
   "id": "c682e138",
   "metadata": {},
   "outputs": [],
   "source": []
  },
  {
   "cell_type": "markdown",
   "id": "d938d83d",
   "metadata": {},
   "source": [
    "#### 73. Sea un set de tripletes describiendo 10 triangulos (con lados compartidos), encuentre el set de las líneas que componen todos lo triangulos. (★★★)\n",
    "Consider a set of 10 triplets describing 10 triangles (with shared vertices), find the set of unique line segments composing all the  triangles (★★★)"
   ]
  },
  {
   "cell_type": "code",
   "execution_count": null,
   "id": "323d5001",
   "metadata": {},
   "outputs": [],
   "source": []
  },
  {
   "cell_type": "markdown",
   "id": "0979231d",
   "metadata": {},
   "source": [
    "#### 74. Dado un array ordenado C que corresponde a el resultado de un bitcount, ¿cómo producir un array A tal que np.bincount(A) = C ? (★★★)"
   ]
  },
  {
   "cell_type": "code",
   "execution_count": null,
   "id": "dd89a329",
   "metadata": {},
   "outputs": [],
   "source": []
  },
  {
   "cell_type": "markdown",
   "id": "84c50ce3",
   "metadata": {},
   "source": [
    "#### 75. ¿Cómo calcular los promedios de rango variable sobre un array? (★★★)\n",
    "```python\n",
    "# Sea\n",
    "Z = [0, 1, 2, 3, 4, 5, 6, 7, 8, 9]\n",
    "# Sus promedios en un rango de n = 3\n",
    "[1, 2, 3, 4, 5, 6, 7, 8]\n",
    "```"
   ]
  },
  {
   "cell_type": "code",
   "execution_count": null,
   "id": "59f9bb36",
   "metadata": {},
   "outputs": [],
   "source": []
  },
  {
   "cell_type": "markdown",
   "id": "da0f4802",
   "metadata": {},
   "source": [
    "#### 76. Sea un vector Z unidimensional, contruya un vector de dos dimensiones (matriz) del cuál su primera fila sea (Z[0],Z[1],Z[2]), su segunda (Z[1],Z[2],Z[3]), es decir que cada siguiente fila empiece con el segundo elementos de la anterior fila, note que (la última fila debería ser (Z[-3],Z[-2],Z[-1]) (★★★)\n",
    "\n",
    "```python\n",
    "# Sea Z y R lo que se busca\n",
    "Z = [0 1 2 3 4]\n",
    "R = [[0 1 2]\n",
    "     [1 2 3]\n",
    "     [2 3 4]]\n",
    "```"
   ]
  },
  {
   "cell_type": "code",
   "execution_count": null,
   "id": "97b75862",
   "metadata": {},
   "outputs": [],
   "source": []
  },
  {
   "cell_type": "markdown",
   "id": "38303894",
   "metadata": {},
   "source": [
    "#### 77. ¿Cómo negar un valor boolean, o cambiar el signo de un valor float? (inplace) (★★★)"
   ]
  },
  {
   "cell_type": "code",
   "execution_count": null,
   "id": "ec4c0a79",
   "metadata": {},
   "outputs": [],
   "source": []
  },
  {
   "cell_type": "markdown",
   "id": "b1d6bac4",
   "metadata": {},
   "source": [
    "#### 78. Sean dos sets puntos P0 y P1 tienen el mismo tamaño, el primer punto de P0 describe un línea con el primer punto de P1 y así con todos los elementos de P0 y P1, también se nos da un punto P. \n",
    "¿Cómo calcular la distancia del punto P a cada linea que es descrita por los pares de puntos de los sets? (★★★)"
   ]
  },
  {
   "cell_type": "code",
   "execution_count": null,
   "id": "7136475d",
   "metadata": {},
   "outputs": [],
   "source": []
  },
  {
   "cell_type": "markdown",
   "id": "5ac55ef2",
   "metadata": {},
   "source": [
    "#### 79. Sean dos sets puntos P0 y P1 tienen el mismo tamaño, el primer punto de P0 describe un línea con el primer punto de P1 y así con todos los elementos de P0 y P1, también se nos da un set de puntos P. \n",
    "¿Cómo calcular la distancia de los puntos  de P a cada linea que es descrita por los pares de puntos de los sets? (★★★)"
   ]
  },
  {
   "cell_type": "code",
   "execution_count": null,
   "id": "7efcbf14",
   "metadata": {},
   "outputs": [],
   "source": []
  },
  {
   "cell_type": "markdown",
   "id": "9c2f76c0",
   "metadata": {},
   "source": [
    "#### 80. Considere una matriz arbitraria, escriba una función que extraiga una subparte con una forma fija y centrada en un elemento dado (rellene con un 'fill' cuando sea necesario)(★★★)\n",
    "Consider an arbitrary array, write a function that extract a subpart with a fixed shape and centered on a given element (pad with a `fill` value when necessary) (★★★)"
   ]
  },
  {
   "cell_type": "code",
   "execution_count": null,
   "id": "013543b9",
   "metadata": {},
   "outputs": [],
   "source": []
  },
  {
   "cell_type": "markdown",
   "id": "af23fdef",
   "metadata": {},
   "source": [
    "#### 81. Sea el vector Z = [1,2,3,4,5,6,7,8,9,10,11,12,13,14], ¿Cómo generar el vector R = [[1,2,3,4], [2,3,4,5], [3,4,5,6], ..., [11,12,13,14]]? (★★★)"
   ]
  },
  {
   "cell_type": "code",
   "execution_count": null,
   "id": "83dbbb4b",
   "metadata": {},
   "outputs": [],
   "source": []
  },
  {
   "cell_type": "markdown",
   "id": "df91733c",
   "metadata": {},
   "source": [
    "#### 82. Obtenga el rango de un matriz (★★★)"
   ]
  },
  {
   "cell_type": "code",
   "execution_count": null,
   "id": "a60c4a33",
   "metadata": {},
   "outputs": [],
   "source": []
  },
  {
   "cell_type": "markdown",
   "id": "7d237d9b",
   "metadata": {},
   "source": [
    "#### 83. ¿Cómo encontrar el valor más frecuente en un array? (★★★)"
   ]
  },
  {
   "cell_type": "code",
   "execution_count": null,
   "id": "7c53b265",
   "metadata": {},
   "outputs": [],
   "source": []
  },
  {
   "cell_type": "markdown",
   "id": "8a326442",
   "metadata": {},
   "source": [
    "#### 84. Extraiga todos los bloques contiguos 3x3 de una matriz de elementos aleatorios 10x10 (★★★)\n",
    "Extract all the contiguous 3x3 blocks from a random 10x10 matrix (★★★)"
   ]
  },
  {
   "cell_type": "code",
   "execution_count": null,
   "id": "bd909f7c",
   "metadata": {},
   "outputs": [],
   "source": []
  },
  {
   "cell_type": "markdown",
   "id": "399995a8",
   "metadata": {},
   "source": [
    "#### 85. Crea un matriz cuya subclase tenga Z[i,j] = Z[j,i] (★★★)\n",
    "Create a 2D array subclass such that Z[i,j] == Z[j,i] (★★★)"
   ]
  },
  {
   "cell_type": "code",
   "execution_count": null,
   "id": "62f005d1",
   "metadata": {},
   "outputs": [],
   "source": []
  },
  {
   "cell_type": "markdown",
   "id": "f39b211c",
   "metadata": {},
   "source": [
    "#### 86. Consideremos un conjunto de p matrices cuya forma (n,n) y un conjunto de p vectores con forma (n,1). ¿Cómo calcular la suma de los productos de la matriz p a la vez? (el resultado tiene forma (n,1))(★★★)\n",
    "Consider a set of p matrices wich shape (n,n) and a set of p vectors with shape (n,1). How to compute the sum of of the p matrix products at once? (result has shape (n,1)) (★★★)"
   ]
  },
  {
   "cell_type": "code",
   "execution_count": null,
   "id": "161f67dc",
   "metadata": {},
   "outputs": [],
   "source": []
  },
  {
   "cell_type": "markdown",
   "id": "78d1cd23",
   "metadata": {},
   "source": [
    "#### 87. Sea un 16x16 array, ¿cómo obtener la suma en bloques (tamaño del bloque 4x4)? (★★★)"
   ]
  },
  {
   "cell_type": "code",
   "execution_count": null,
   "id": "b30ef84d",
   "metadata": {},
   "outputs": [],
   "source": []
  },
  {
   "cell_type": "markdown",
   "id": "b73f4d1f",
   "metadata": {},
   "source": [
    "#### 88. ¿Cómo implementar el Juego de la Vida usando numpy arrays? (★★★)\n",
    "Juego de la Vida (Game Life)\n",
    "Se trata de un juego de cero jugadores, lo que quiere decir que su evolución está determinada por el estado inicial y no necesita ninguna entrada de datos posterior. El \"tablero de juego\" es una malla plana formada por cuadrados (las \"células\") que se extiende por el infinito en todas las direcciones. Por tanto, cada célula tiene 8 células \"vecinas\", que son las que están próximas a ella, incluidas las diagonales. Las células tienen dos estados: están \"vivas\" o \"muertas\" (o \"encendidas\" y \"apagadas\"). El estado de las células evoluciona a lo largo de unidades de tiempo discretas (se podría decir que por turnos). El estado de todas las células se tiene en cuenta para calcular el estado de las mismas al turno siguiente. Todas las células se actualizan simultáneamente en cada turno, siguiendo estas reglas:\n",
    "    Nace: Si una célula muerta tiene exactamente 3 células vecinas vivas \"nace\" (es decir, al turno siguiente estará viva).\n",
    "    Muere: una célula viva puede morir por uno de 2 casos:\n",
    "        Sobrepoblación: si tiene más de tres vecinos alrededor.\n",
    "        Aislamiento: si tiene solo un vecino alrededor o ninguno.\n",
    "    Vive: una célula se mantiene viva si tiene 2 o 3 vecinos a su alrededor."
   ]
  },
  {
   "cell_type": "code",
   "execution_count": null,
   "id": "7abc3cec",
   "metadata": {},
   "outputs": [],
   "source": []
  },
  {
   "cell_type": "markdown",
   "id": "2d81fe0b",
   "metadata": {},
   "source": [
    "#### 89. ¿Cómo obtener el enésimo (n-avo) valor más grande de un vector? (★★★)"
   ]
  },
  {
   "cell_type": "code",
   "execution_count": null,
   "id": "931f1103",
   "metadata": {},
   "outputs": [],
   "source": []
  },
  {
   "cell_type": "markdown",
   "id": "e5cae16b",
   "metadata": {},
   "source": [
    "#### 90. Dado un arbitrario número de vectores, contruya el producto cartesiano (la combinación de cada elemento con todos lo elementos) (★★★)"
   ]
  },
  {
   "cell_type": "code",
   "execution_count": null,
   "id": "687d2160",
   "metadata": {},
   "outputs": [],
   "source": []
  },
  {
   "cell_type": "markdown",
   "id": "640c2b04",
   "metadata": {},
   "source": [
    "#### 91. ¿Cómo crear un registro a partir de un arrys normal? (★★★)\n",
    "How to create a record array from a regular array? (★★★)"
   ]
  },
  {
   "cell_type": "code",
   "execution_count": null,
   "id": "de42a0b8",
   "metadata": {},
   "outputs": [],
   "source": []
  },
  {
   "cell_type": "markdown",
   "id": "7efc908a",
   "metadata": {},
   "source": [
    "#### 92. Dado un vector muy largo Z, calcule Z elevado a la potencia 3 usando 3 diferentes métodos (★★★)"
   ]
  },
  {
   "cell_type": "code",
   "execution_count": null,
   "id": "52a63072",
   "metadata": {},
   "outputs": [],
   "source": []
  },
  {
   "cell_type": "markdown",
   "id": "529349c7",
   "metadata": {},
   "source": [
    "#### 93. Dados dos arrays A y B de tamaños (8, 3) y (2, 2) repectivamente. Cómo encontrar las fila de A que contengan elementos de cada fila de B \n",
    "Consider two arrays A and B of shape (8,3) and (2,2). How to find rows of A that contain elements of each row of B regardless of the order of the elements in B? (★★★)"
   ]
  },
  {
   "cell_type": "code",
   "execution_count": null,
   "id": "1f9d5e70",
   "metadata": {},
   "outputs": [],
   "source": []
  },
  {
   "cell_type": "markdown",
   "id": "2523003a",
   "metadata": {},
   "source": [
    "#### 94. Dada una matriz 10x3, extraiga las filas con valores no iguales (Ejemplo [2,2,3]) (★★★)"
   ]
  },
  {
   "cell_type": "code",
   "execution_count": null,
   "id": "646b667a",
   "metadata": {},
   "outputs": [],
   "source": []
  },
  {
   "cell_type": "markdown",
   "id": "5a4ccc7e",
   "metadata": {},
   "source": [
    "#### 95. Convierta un vector de enteros a una matriz que represente los enteros en binario (★★★)\n",
    "Convert a vector of ints into a matrix binary representation (★★★)"
   ]
  },
  {
   "cell_type": "code",
   "execution_count": null,
   "id": "18716b50",
   "metadata": {},
   "outputs": [],
   "source": []
  },
  {
   "cell_type": "markdown",
   "id": "40c0464d",
   "metadata": {},
   "source": [
    "#### 96. Dadas dos matrices, ¿Cómo extraer filas que sean únicas? (★★★)\n",
    "Given a two dimensional array, how to extract unique rows? (★★★)"
   ]
  },
  {
   "cell_type": "code",
   "execution_count": null,
   "id": "9f55b907",
   "metadata": {},
   "outputs": [],
   "source": []
  },
  {
   "cell_type": "markdown",
   "id": "b1d15bbe",
   "metadata": {},
   "source": [
    "#### 97. Considere dos vectores A y B, escriba usando `eisum` el equivalente de las funciones `inner`, `sum`, `outer` y `mul` (★★★)\n",
    "Considering 2 vectors A & B, write the einsum equivalent of inner, outer, sum, and mul function (★★★)"
   ]
  },
  {
   "cell_type": "code",
   "execution_count": null,
   "id": "dd5ac130",
   "metadata": {},
   "outputs": [],
   "source": []
  },
  {
   "cell_type": "markdown",
   "id": "b45f57dd",
   "metadata": {},
   "source": [
    "#### 98. Considere un camino descrito por dos vectores (X,Y), ¿Cómo tomar muestras del mismo usando muestras equidistantes? (★★★)\n",
    "Considering a path described by two vectors (X,Y), how to sample it using equidistant samples (★★★)?"
   ]
  },
  {
   "cell_type": "code",
   "execution_count": null,
   "id": "5fecd7ff",
   "metadata": {},
   "outputs": [],
   "source": []
  },
  {
   "cell_type": "markdown",
   "id": "5d42ba48",
   "metadata": {},
   "source": [
    "#### 99. Dado un entero n y una matriz X, seleccione de X las filas que pueden ser interpretadas como extraídas de una distribución multinomial con n grados.\n",
    "Es decir las filas que contengan enteros y que suman n. (★★★)\n",
    "Given an integer n and a 2D array X, select from X the rows which can be interpreted as draws from a multinomial distribution with n degrees, \n",
    "i.e., the rows which only contain integers and which sum to n. (★★★)"
   ]
  },
  {
   "cell_type": "code",
   "execution_count": null,
   "id": "9b105b36",
   "metadata": {},
   "outputs": [],
   "source": []
  },
  {
   "cell_type": "markdown",
   "id": "73d16a5d",
   "metadata": {},
   "source": [
    "#### 100. Calcule con un intervalo de confianza del 95% el promedio de un vector X.\n",
    "(es decir, volver a muestrear los elementos ddel vector N veces, calcular la media de cada muestra y luego calcular percentiles sobre los promedios). (★★★)\n",
    "Compute bootstrapped 95% confidence intervals for the mean of a 1D array X \n",
    "(i.e., resample the elements of an array with replacement N times, compute the mean of each sample, and then compute percentiles over the means). (★★★)"
   ]
  },
  {
   "cell_type": "code",
   "execution_count": null,
   "id": "d30e973b",
   "metadata": {},
   "outputs": [],
   "source": []
  }
 ],
 "metadata": {
  "kernelspec": {
   "display_name": "ANALITICA_DATOS",
   "language": "python",
   "name": "python3"
  },
  "language_info": {
   "codemirror_mode": {
    "name": "ipython",
    "version": 3
   },
   "file_extension": ".py",
   "mimetype": "text/x-python",
   "name": "python",
   "nbconvert_exporter": "python",
   "pygments_lexer": "ipython3",
   "version": "3.13.1"
  }
 },
 "nbformat": 4,
 "nbformat_minor": 5
}
